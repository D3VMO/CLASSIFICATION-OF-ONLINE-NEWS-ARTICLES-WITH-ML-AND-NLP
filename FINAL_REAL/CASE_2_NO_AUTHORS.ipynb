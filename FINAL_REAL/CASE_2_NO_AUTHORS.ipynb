{
  "nbformat": 4,
  "nbformat_minor": 0,
  "metadata": {
    "colab": {
      "name": "Copy of MACHINE_LEARNING_PROJECT_MODEL_COMPARISON_CASE_2_NO_AUTHORS.ipynb",
      "provenance": [],
      "collapsed_sections": [],
      "toc_visible": true
    },
    "kernelspec": {
      "name": "python3",
      "display_name": "Python 3"
    },
    "accelerator": "GPU",
    "widgets": {
      "application/vnd.jupyter.widget-state+json": {
        "1c8860ed36694783a5ad5b81427de34c": {
          "model_module": "@jupyter-widgets/controls",
          "model_name": "HBoxModel",
          "state": {
            "_view_name": "HBoxView",
            "_dom_classes": [],
            "_model_name": "HBoxModel",
            "_view_module": "@jupyter-widgets/controls",
            "_model_module_version": "1.5.0",
            "_view_count": null,
            "_view_module_version": "1.5.0",
            "box_style": "",
            "layout": "IPY_MODEL_b4c3c69d3d014e2da7321485976d9439",
            "_model_module": "@jupyter-widgets/controls",
            "children": [
              "IPY_MODEL_186e4c321adf4456acd06598abd16272",
              "IPY_MODEL_d65e77cb9a06465baab4e55b200511a9"
            ]
          }
        },
        "b4c3c69d3d014e2da7321485976d9439": {
          "model_module": "@jupyter-widgets/base",
          "model_name": "LayoutModel",
          "state": {
            "_view_name": "LayoutView",
            "grid_template_rows": null,
            "right": null,
            "justify_content": null,
            "_view_module": "@jupyter-widgets/base",
            "overflow": null,
            "_model_module_version": "1.2.0",
            "_view_count": null,
            "flex_flow": null,
            "width": null,
            "min_width": null,
            "border": null,
            "align_items": null,
            "bottom": null,
            "_model_module": "@jupyter-widgets/base",
            "top": null,
            "grid_column": null,
            "overflow_y": null,
            "overflow_x": null,
            "grid_auto_flow": null,
            "grid_area": null,
            "grid_template_columns": null,
            "flex": null,
            "_model_name": "LayoutModel",
            "justify_items": null,
            "grid_row": null,
            "max_height": null,
            "align_content": null,
            "visibility": null,
            "align_self": null,
            "height": null,
            "min_height": null,
            "padding": null,
            "grid_auto_rows": null,
            "grid_gap": null,
            "max_width": null,
            "order": null,
            "_view_module_version": "1.2.0",
            "grid_template_areas": null,
            "object_position": null,
            "object_fit": null,
            "grid_auto_columns": null,
            "margin": null,
            "display": null,
            "left": null
          }
        },
        "186e4c321adf4456acd06598abd16272": {
          "model_module": "@jupyter-widgets/controls",
          "model_name": "FloatProgressModel",
          "state": {
            "_view_name": "ProgressView",
            "style": "IPY_MODEL_9ab36cfdaf4f4664a251b36d8d03b76e",
            "_dom_classes": [],
            "description": "Downloading: 100%",
            "_model_name": "FloatProgressModel",
            "bar_style": "success",
            "max": 231508,
            "_view_module": "@jupyter-widgets/controls",
            "_model_module_version": "1.5.0",
            "value": 231508,
            "_view_count": null,
            "_view_module_version": "1.5.0",
            "orientation": "horizontal",
            "min": 0,
            "description_tooltip": null,
            "_model_module": "@jupyter-widgets/controls",
            "layout": "IPY_MODEL_29159e25e4bf40408374a4eb2354d12b"
          }
        },
        "d65e77cb9a06465baab4e55b200511a9": {
          "model_module": "@jupyter-widgets/controls",
          "model_name": "HTMLModel",
          "state": {
            "_view_name": "HTMLView",
            "style": "IPY_MODEL_8f9d838fe1734a4f908c46bdd6edce98",
            "_dom_classes": [],
            "description": "",
            "_model_name": "HTMLModel",
            "placeholder": "​",
            "_view_module": "@jupyter-widgets/controls",
            "_model_module_version": "1.5.0",
            "value": " 232k/232k [00:00&lt;00:00, 307kB/s]",
            "_view_count": null,
            "_view_module_version": "1.5.0",
            "description_tooltip": null,
            "_model_module": "@jupyter-widgets/controls",
            "layout": "IPY_MODEL_bd886cd60045425a8928a722bf5288bc"
          }
        },
        "9ab36cfdaf4f4664a251b36d8d03b76e": {
          "model_module": "@jupyter-widgets/controls",
          "model_name": "ProgressStyleModel",
          "state": {
            "_view_name": "StyleView",
            "_model_name": "ProgressStyleModel",
            "description_width": "initial",
            "_view_module": "@jupyter-widgets/base",
            "_model_module_version": "1.5.0",
            "_view_count": null,
            "_view_module_version": "1.2.0",
            "bar_color": null,
            "_model_module": "@jupyter-widgets/controls"
          }
        },
        "29159e25e4bf40408374a4eb2354d12b": {
          "model_module": "@jupyter-widgets/base",
          "model_name": "LayoutModel",
          "state": {
            "_view_name": "LayoutView",
            "grid_template_rows": null,
            "right": null,
            "justify_content": null,
            "_view_module": "@jupyter-widgets/base",
            "overflow": null,
            "_model_module_version": "1.2.0",
            "_view_count": null,
            "flex_flow": null,
            "width": null,
            "min_width": null,
            "border": null,
            "align_items": null,
            "bottom": null,
            "_model_module": "@jupyter-widgets/base",
            "top": null,
            "grid_column": null,
            "overflow_y": null,
            "overflow_x": null,
            "grid_auto_flow": null,
            "grid_area": null,
            "grid_template_columns": null,
            "flex": null,
            "_model_name": "LayoutModel",
            "justify_items": null,
            "grid_row": null,
            "max_height": null,
            "align_content": null,
            "visibility": null,
            "align_self": null,
            "height": null,
            "min_height": null,
            "padding": null,
            "grid_auto_rows": null,
            "grid_gap": null,
            "max_width": null,
            "order": null,
            "_view_module_version": "1.2.0",
            "grid_template_areas": null,
            "object_position": null,
            "object_fit": null,
            "grid_auto_columns": null,
            "margin": null,
            "display": null,
            "left": null
          }
        },
        "8f9d838fe1734a4f908c46bdd6edce98": {
          "model_module": "@jupyter-widgets/controls",
          "model_name": "DescriptionStyleModel",
          "state": {
            "_view_name": "StyleView",
            "_model_name": "DescriptionStyleModel",
            "description_width": "",
            "_view_module": "@jupyter-widgets/base",
            "_model_module_version": "1.5.0",
            "_view_count": null,
            "_view_module_version": "1.2.0",
            "_model_module": "@jupyter-widgets/controls"
          }
        },
        "bd886cd60045425a8928a722bf5288bc": {
          "model_module": "@jupyter-widgets/base",
          "model_name": "LayoutModel",
          "state": {
            "_view_name": "LayoutView",
            "grid_template_rows": null,
            "right": null,
            "justify_content": null,
            "_view_module": "@jupyter-widgets/base",
            "overflow": null,
            "_model_module_version": "1.2.0",
            "_view_count": null,
            "flex_flow": null,
            "width": null,
            "min_width": null,
            "border": null,
            "align_items": null,
            "bottom": null,
            "_model_module": "@jupyter-widgets/base",
            "top": null,
            "grid_column": null,
            "overflow_y": null,
            "overflow_x": null,
            "grid_auto_flow": null,
            "grid_area": null,
            "grid_template_columns": null,
            "flex": null,
            "_model_name": "LayoutModel",
            "justify_items": null,
            "grid_row": null,
            "max_height": null,
            "align_content": null,
            "visibility": null,
            "align_self": null,
            "height": null,
            "min_height": null,
            "padding": null,
            "grid_auto_rows": null,
            "grid_gap": null,
            "max_width": null,
            "order": null,
            "_view_module_version": "1.2.0",
            "grid_template_areas": null,
            "object_position": null,
            "object_fit": null,
            "grid_auto_columns": null,
            "margin": null,
            "display": null,
            "left": null
          }
        },
        "a893522d0ce34527bc4f8cb5823067c3": {
          "model_module": "@jupyter-widgets/controls",
          "model_name": "HBoxModel",
          "state": {
            "_view_name": "HBoxView",
            "_dom_classes": [],
            "_model_name": "HBoxModel",
            "_view_module": "@jupyter-widgets/controls",
            "_model_module_version": "1.5.0",
            "_view_count": null,
            "_view_module_version": "1.5.0",
            "box_style": "",
            "layout": "IPY_MODEL_1a0e735529a34cdf918975b6de4de938",
            "_model_module": "@jupyter-widgets/controls",
            "children": [
              "IPY_MODEL_f49933d7d2cb430caf54fa6248917aeb",
              "IPY_MODEL_2492e9b7182c4f61b5411263725305c3"
            ]
          }
        },
        "1a0e735529a34cdf918975b6de4de938": {
          "model_module": "@jupyter-widgets/base",
          "model_name": "LayoutModel",
          "state": {
            "_view_name": "LayoutView",
            "grid_template_rows": null,
            "right": null,
            "justify_content": null,
            "_view_module": "@jupyter-widgets/base",
            "overflow": null,
            "_model_module_version": "1.2.0",
            "_view_count": null,
            "flex_flow": null,
            "width": null,
            "min_width": null,
            "border": null,
            "align_items": null,
            "bottom": null,
            "_model_module": "@jupyter-widgets/base",
            "top": null,
            "grid_column": null,
            "overflow_y": null,
            "overflow_x": null,
            "grid_auto_flow": null,
            "grid_area": null,
            "grid_template_columns": null,
            "flex": null,
            "_model_name": "LayoutModel",
            "justify_items": null,
            "grid_row": null,
            "max_height": null,
            "align_content": null,
            "visibility": null,
            "align_self": null,
            "height": null,
            "min_height": null,
            "padding": null,
            "grid_auto_rows": null,
            "grid_gap": null,
            "max_width": null,
            "order": null,
            "_view_module_version": "1.2.0",
            "grid_template_areas": null,
            "object_position": null,
            "object_fit": null,
            "grid_auto_columns": null,
            "margin": null,
            "display": null,
            "left": null
          }
        },
        "f49933d7d2cb430caf54fa6248917aeb": {
          "model_module": "@jupyter-widgets/controls",
          "model_name": "FloatProgressModel",
          "state": {
            "_view_name": "ProgressView",
            "style": "IPY_MODEL_a8f892ce53e84cdab2551e405c84ed43",
            "_dom_classes": [],
            "description": "Downloading: 100%",
            "_model_name": "FloatProgressModel",
            "bar_style": "success",
            "max": 433,
            "_view_module": "@jupyter-widgets/controls",
            "_model_module_version": "1.5.0",
            "value": 433,
            "_view_count": null,
            "_view_module_version": "1.5.0",
            "orientation": "horizontal",
            "min": 0,
            "description_tooltip": null,
            "_model_module": "@jupyter-widgets/controls",
            "layout": "IPY_MODEL_d3ad01a1dfcc419c941a2d3753e2a572"
          }
        },
        "2492e9b7182c4f61b5411263725305c3": {
          "model_module": "@jupyter-widgets/controls",
          "model_name": "HTMLModel",
          "state": {
            "_view_name": "HTMLView",
            "style": "IPY_MODEL_696f278ac5d4497fa53241290eb44867",
            "_dom_classes": [],
            "description": "",
            "_model_name": "HTMLModel",
            "placeholder": "​",
            "_view_module": "@jupyter-widgets/controls",
            "_model_module_version": "1.5.0",
            "value": " 433/433 [00:00&lt;00:00, 594B/s]",
            "_view_count": null,
            "_view_module_version": "1.5.0",
            "description_tooltip": null,
            "_model_module": "@jupyter-widgets/controls",
            "layout": "IPY_MODEL_0078d7691dd644149f0d90e6352cb6bf"
          }
        },
        "a8f892ce53e84cdab2551e405c84ed43": {
          "model_module": "@jupyter-widgets/controls",
          "model_name": "ProgressStyleModel",
          "state": {
            "_view_name": "StyleView",
            "_model_name": "ProgressStyleModel",
            "description_width": "initial",
            "_view_module": "@jupyter-widgets/base",
            "_model_module_version": "1.5.0",
            "_view_count": null,
            "_view_module_version": "1.2.0",
            "bar_color": null,
            "_model_module": "@jupyter-widgets/controls"
          }
        },
        "d3ad01a1dfcc419c941a2d3753e2a572": {
          "model_module": "@jupyter-widgets/base",
          "model_name": "LayoutModel",
          "state": {
            "_view_name": "LayoutView",
            "grid_template_rows": null,
            "right": null,
            "justify_content": null,
            "_view_module": "@jupyter-widgets/base",
            "overflow": null,
            "_model_module_version": "1.2.0",
            "_view_count": null,
            "flex_flow": null,
            "width": null,
            "min_width": null,
            "border": null,
            "align_items": null,
            "bottom": null,
            "_model_module": "@jupyter-widgets/base",
            "top": null,
            "grid_column": null,
            "overflow_y": null,
            "overflow_x": null,
            "grid_auto_flow": null,
            "grid_area": null,
            "grid_template_columns": null,
            "flex": null,
            "_model_name": "LayoutModel",
            "justify_items": null,
            "grid_row": null,
            "max_height": null,
            "align_content": null,
            "visibility": null,
            "align_self": null,
            "height": null,
            "min_height": null,
            "padding": null,
            "grid_auto_rows": null,
            "grid_gap": null,
            "max_width": null,
            "order": null,
            "_view_module_version": "1.2.0",
            "grid_template_areas": null,
            "object_position": null,
            "object_fit": null,
            "grid_auto_columns": null,
            "margin": null,
            "display": null,
            "left": null
          }
        },
        "696f278ac5d4497fa53241290eb44867": {
          "model_module": "@jupyter-widgets/controls",
          "model_name": "DescriptionStyleModel",
          "state": {
            "_view_name": "StyleView",
            "_model_name": "DescriptionStyleModel",
            "description_width": "",
            "_view_module": "@jupyter-widgets/base",
            "_model_module_version": "1.5.0",
            "_view_count": null,
            "_view_module_version": "1.2.0",
            "_model_module": "@jupyter-widgets/controls"
          }
        },
        "0078d7691dd644149f0d90e6352cb6bf": {
          "model_module": "@jupyter-widgets/base",
          "model_name": "LayoutModel",
          "state": {
            "_view_name": "LayoutView",
            "grid_template_rows": null,
            "right": null,
            "justify_content": null,
            "_view_module": "@jupyter-widgets/base",
            "overflow": null,
            "_model_module_version": "1.2.0",
            "_view_count": null,
            "flex_flow": null,
            "width": null,
            "min_width": null,
            "border": null,
            "align_items": null,
            "bottom": null,
            "_model_module": "@jupyter-widgets/base",
            "top": null,
            "grid_column": null,
            "overflow_y": null,
            "overflow_x": null,
            "grid_auto_flow": null,
            "grid_area": null,
            "grid_template_columns": null,
            "flex": null,
            "_model_name": "LayoutModel",
            "justify_items": null,
            "grid_row": null,
            "max_height": null,
            "align_content": null,
            "visibility": null,
            "align_self": null,
            "height": null,
            "min_height": null,
            "padding": null,
            "grid_auto_rows": null,
            "grid_gap": null,
            "max_width": null,
            "order": null,
            "_view_module_version": "1.2.0",
            "grid_template_areas": null,
            "object_position": null,
            "object_fit": null,
            "grid_auto_columns": null,
            "margin": null,
            "display": null,
            "left": null
          }
        },
        "792a48a04143491bbba8243e93aaab01": {
          "model_module": "@jupyter-widgets/controls",
          "model_name": "HBoxModel",
          "state": {
            "_view_name": "HBoxView",
            "_dom_classes": [],
            "_model_name": "HBoxModel",
            "_view_module": "@jupyter-widgets/controls",
            "_model_module_version": "1.5.0",
            "_view_count": null,
            "_view_module_version": "1.5.0",
            "box_style": "",
            "layout": "IPY_MODEL_914d67d7c2b14df7bed00029a79d8f35",
            "_model_module": "@jupyter-widgets/controls",
            "children": [
              "IPY_MODEL_16a8853cf4eb4f8cb1332a48c3fb648e",
              "IPY_MODEL_803191b3546441d596750eb6b7b11829"
            ]
          }
        },
        "914d67d7c2b14df7bed00029a79d8f35": {
          "model_module": "@jupyter-widgets/base",
          "model_name": "LayoutModel",
          "state": {
            "_view_name": "LayoutView",
            "grid_template_rows": null,
            "right": null,
            "justify_content": null,
            "_view_module": "@jupyter-widgets/base",
            "overflow": null,
            "_model_module_version": "1.2.0",
            "_view_count": null,
            "flex_flow": null,
            "width": null,
            "min_width": null,
            "border": null,
            "align_items": null,
            "bottom": null,
            "_model_module": "@jupyter-widgets/base",
            "top": null,
            "grid_column": null,
            "overflow_y": null,
            "overflow_x": null,
            "grid_auto_flow": null,
            "grid_area": null,
            "grid_template_columns": null,
            "flex": null,
            "_model_name": "LayoutModel",
            "justify_items": null,
            "grid_row": null,
            "max_height": null,
            "align_content": null,
            "visibility": null,
            "align_self": null,
            "height": null,
            "min_height": null,
            "padding": null,
            "grid_auto_rows": null,
            "grid_gap": null,
            "max_width": null,
            "order": null,
            "_view_module_version": "1.2.0",
            "grid_template_areas": null,
            "object_position": null,
            "object_fit": null,
            "grid_auto_columns": null,
            "margin": null,
            "display": null,
            "left": null
          }
        },
        "16a8853cf4eb4f8cb1332a48c3fb648e": {
          "model_module": "@jupyter-widgets/controls",
          "model_name": "FloatProgressModel",
          "state": {
            "_view_name": "ProgressView",
            "style": "IPY_MODEL_1aed6ea12979443387945bdafb3c6585",
            "_dom_classes": [],
            "description": "Downloading: 100%",
            "_model_name": "FloatProgressModel",
            "bar_style": "success",
            "max": 440473133,
            "_view_module": "@jupyter-widgets/controls",
            "_model_module_version": "1.5.0",
            "value": 440473133,
            "_view_count": null,
            "_view_module_version": "1.5.0",
            "orientation": "horizontal",
            "min": 0,
            "description_tooltip": null,
            "_model_module": "@jupyter-widgets/controls",
            "layout": "IPY_MODEL_e4987cfb64534b499e467b92d20ed009"
          }
        },
        "803191b3546441d596750eb6b7b11829": {
          "model_module": "@jupyter-widgets/controls",
          "model_name": "HTMLModel",
          "state": {
            "_view_name": "HTMLView",
            "style": "IPY_MODEL_5423c328d55549f885a46f78f4c2803c",
            "_dom_classes": [],
            "description": "",
            "_model_name": "HTMLModel",
            "placeholder": "​",
            "_view_module": "@jupyter-widgets/controls",
            "_model_module_version": "1.5.0",
            "value": " 440M/440M [00:09&lt;00:00, 44.6MB/s]",
            "_view_count": null,
            "_view_module_version": "1.5.0",
            "description_tooltip": null,
            "_model_module": "@jupyter-widgets/controls",
            "layout": "IPY_MODEL_a014145f53724fdb822f96203b5d43bb"
          }
        },
        "1aed6ea12979443387945bdafb3c6585": {
          "model_module": "@jupyter-widgets/controls",
          "model_name": "ProgressStyleModel",
          "state": {
            "_view_name": "StyleView",
            "_model_name": "ProgressStyleModel",
            "description_width": "initial",
            "_view_module": "@jupyter-widgets/base",
            "_model_module_version": "1.5.0",
            "_view_count": null,
            "_view_module_version": "1.2.0",
            "bar_color": null,
            "_model_module": "@jupyter-widgets/controls"
          }
        },
        "e4987cfb64534b499e467b92d20ed009": {
          "model_module": "@jupyter-widgets/base",
          "model_name": "LayoutModel",
          "state": {
            "_view_name": "LayoutView",
            "grid_template_rows": null,
            "right": null,
            "justify_content": null,
            "_view_module": "@jupyter-widgets/base",
            "overflow": null,
            "_model_module_version": "1.2.0",
            "_view_count": null,
            "flex_flow": null,
            "width": null,
            "min_width": null,
            "border": null,
            "align_items": null,
            "bottom": null,
            "_model_module": "@jupyter-widgets/base",
            "top": null,
            "grid_column": null,
            "overflow_y": null,
            "overflow_x": null,
            "grid_auto_flow": null,
            "grid_area": null,
            "grid_template_columns": null,
            "flex": null,
            "_model_name": "LayoutModel",
            "justify_items": null,
            "grid_row": null,
            "max_height": null,
            "align_content": null,
            "visibility": null,
            "align_self": null,
            "height": null,
            "min_height": null,
            "padding": null,
            "grid_auto_rows": null,
            "grid_gap": null,
            "max_width": null,
            "order": null,
            "_view_module_version": "1.2.0",
            "grid_template_areas": null,
            "object_position": null,
            "object_fit": null,
            "grid_auto_columns": null,
            "margin": null,
            "display": null,
            "left": null
          }
        },
        "5423c328d55549f885a46f78f4c2803c": {
          "model_module": "@jupyter-widgets/controls",
          "model_name": "DescriptionStyleModel",
          "state": {
            "_view_name": "StyleView",
            "_model_name": "DescriptionStyleModel",
            "description_width": "",
            "_view_module": "@jupyter-widgets/base",
            "_model_module_version": "1.5.0",
            "_view_count": null,
            "_view_module_version": "1.2.0",
            "_model_module": "@jupyter-widgets/controls"
          }
        },
        "a014145f53724fdb822f96203b5d43bb": {
          "model_module": "@jupyter-widgets/base",
          "model_name": "LayoutModel",
          "state": {
            "_view_name": "LayoutView",
            "grid_template_rows": null,
            "right": null,
            "justify_content": null,
            "_view_module": "@jupyter-widgets/base",
            "overflow": null,
            "_model_module_version": "1.2.0",
            "_view_count": null,
            "flex_flow": null,
            "width": null,
            "min_width": null,
            "border": null,
            "align_items": null,
            "bottom": null,
            "_model_module": "@jupyter-widgets/base",
            "top": null,
            "grid_column": null,
            "overflow_y": null,
            "overflow_x": null,
            "grid_auto_flow": null,
            "grid_area": null,
            "grid_template_columns": null,
            "flex": null,
            "_model_name": "LayoutModel",
            "justify_items": null,
            "grid_row": null,
            "max_height": null,
            "align_content": null,
            "visibility": null,
            "align_self": null,
            "height": null,
            "min_height": null,
            "padding": null,
            "grid_auto_rows": null,
            "grid_gap": null,
            "max_width": null,
            "order": null,
            "_view_module_version": "1.2.0",
            "grid_template_areas": null,
            "object_position": null,
            "object_fit": null,
            "grid_auto_columns": null,
            "margin": null,
            "display": null,
            "left": null
          }
        }
      }
    }
  },
  "cells": [
    {
      "cell_type": "markdown",
      "metadata": {
        "id": "bO2wM_Qv0pb7",
        "colab_type": "text"
      },
      "source": [
        "# Multiclass Classification of Online Articles\n",
        "## **Code part** of the case study on using NLP techniques alongside with Machine Learning Alrorithms to classify news into categories"
      ]
    },
    {
      "cell_type": "markdown",
      "metadata": {
        "id": "7YyPCATh0yyS",
        "colab_type": "text"
      },
      "source": [
        "In this notebook we, will put all the code of the application of the algorithms of machine learning that we used to classify the news dataset, we used, alongside with the application of text vectorisation. There will be several parts in the notebook. \n",
        "\n",
        "\n"
      ]
    },
    {
      "cell_type": "markdown",
      "metadata": {
        "id": "wkL_3gLD1soA",
        "colab_type": "text"
      },
      "source": [
        "# PHASE 1 : DATA LOADING AND DESCRIPTION\n",
        "\n"
      ]
    },
    {
      "cell_type": "markdown",
      "metadata": {
        "id": "IWMp1sH316Ui",
        "colab_type": "text"
      },
      "source": [
        "We used the dataset **news-category-dataset** from **Kaggle**, that contains almost 125,000 news from the past 5 years\n",
        "obtained from **HuffPost** online website. News in these datasets belong to 31 different topics (labels). Each news record consists of several attributes from which we are using only ‘Category’, ‘Headline’ and ‘Short description’ in our analysis, though we may use also ‘Author’, but it's not recommended. In addition, we combine data attributes ‘Headline’ and ‘Short description’ into the single attribute 'information' as the input data for classification.\n",
        "\n"
      ]
    },
    {
      "cell_type": "markdown",
      "metadata": {
        "id": "v6dtD_Iu3OVR",
        "colab_type": "text"
      },
      "source": [
        "\n",
        "Also we should note that we used **Google Colaboratory** for the entire cycle of the development of the code, because off the performance and speed it offers, in term of the data loading, computation and ease of use.\n",
        "\n",
        "\n",
        "**What is Colaboratory?**\\\n",
        "Colaboratory, often shortened **Colab**, allows Users to describe and perform Python code in the browser, with\n",
        "\n",
        "- No configuration required\n",
        "- Free GPU Access\n",
        "- Easy sharing"
      ]
    },
    {
      "cell_type": "markdown",
      "metadata": {
        "id": "1HWc4KtL3GiM",
        "colab_type": "text"
      },
      "source": [
        "\n",
        "To load our data,  will use the **Kaggle API**, but we need a key, witch will be provided with this notebook, if you don't have one.\\\n",
        "\n",
        "**Please upload the key *Kaggle.json* to your Colab environment files before executing any code bellow**"
      ]
    },
    {
      "cell_type": "code",
      "metadata": {
        "id": "PmasR1SG29xo",
        "colab_type": "code",
        "colab": {
          "base_uri": "https://localhost:8080/",
          "height": 154
        },
        "outputId": "ba322768-5032-4129-ed3a-d16adefee847"
      },
      "source": [
        " ! mkdir ~/.kaggle\n",
        " ! cp kaggle.json ~/.kaggle/\n",
        " ! chmod 600 ~/.kaggle/kaggle.json\n",
        "# #! kaggle datasets list\n",
        " ! kaggle datasets download -d rmisra/news-category-dataset\n",
        " ! unzip news-category-dataset.zip \n",
        "# Code to read csv file into colaboratory:\n",
        "\"\"\"\n",
        "!pip install -U -q PyDrive\n",
        "from pydrive.auth import GoogleAuth\n",
        "from pydrive.drive import GoogleDrive\n",
        "from google.colab import auth\n",
        "from oauth2client.client import GoogleCredentials\n",
        "import pandas as pd\n",
        "import numpy as np\n",
        "import json\n",
        "import matplotlib.pyplot as plt\n",
        "import seaborn as sns\n",
        "\n",
        "import sklearn\n",
        "\"\"\""
      ],
      "execution_count": null,
      "outputs": [
        {
          "output_type": "stream",
          "text": [
            "Downloading news-category-dataset.zip to /content\n",
            " 67% 17.0M/25.4M [00:01<00:00, 15.0MB/s]\n",
            "100% 25.4M/25.4M [00:01<00:00, 18.2MB/s]\n",
            "Archive:  news-category-dataset.zip\n",
            "  inflating: News_Category_Dataset_v2.json  \n"
          ],
          "name": "stdout"
        },
        {
          "output_type": "execute_result",
          "data": {
            "application/vnd.google.colaboratory.intrinsic+json": {
              "type": "string"
            },
            "text/plain": [
              "'\\n!pip install -U -q PyDrive\\nfrom pydrive.auth import GoogleAuth\\nfrom pydrive.drive import GoogleDrive\\nfrom google.colab import auth\\nfrom oauth2client.client import GoogleCredentials\\nimport pandas as pd\\nimport numpy as np\\nimport json\\nimport matplotlib.pyplot as plt\\nimport seaborn as sns\\n\\nimport sklearn\\n'"
            ]
          },
          "metadata": {
            "tags": []
          },
          "execution_count": 3
        }
      ]
    },
    {
      "cell_type": "code",
      "metadata": {
        "id": "J_ObNtCowRgm",
        "colab_type": "code",
        "colab": {
          "base_uri": "https://localhost:8080/",
          "height": 52
        },
        "outputId": "18f7128a-1d45-435f-f973-09444d3643c2"
      },
      "source": [
        "\"\"\"\n",
        "auth.authenticate_user()\n",
        "gauth = GoogleAuth()\n",
        "gauth.credentials = GoogleCredentials.get_application_default()\n",
        "drive = GoogleDrive(gauth)\n",
        "\"\"\""
      ],
      "execution_count": null,
      "outputs": [
        {
          "output_type": "execute_result",
          "data": {
            "application/vnd.google.colaboratory.intrinsic+json": {
              "type": "string"
            },
            "text/plain": [
              "'\\nauth.authenticate_user()\\ngauth = GoogleAuth()\\ngauth.credentials = GoogleCredentials.get_application_default()\\ndrive = GoogleDrive(gauth)\\n'"
            ]
          },
          "metadata": {
            "tags": []
          },
          "execution_count": 4
        }
      ]
    },
    {
      "cell_type": "code",
      "metadata": {
        "id": "vrw1dM2cwZ0U",
        "colab_type": "code",
        "colab": {
          "base_uri": "https://localhost:8080/",
          "height": 197
        },
        "outputId": "ebb5fb81-9753-4846-9060-353d98c30eb0"
      },
      "source": [
        "\"\"\"\n",
        "#2.1 Get the file\n",
        "downloaded = drive.CreateFile({'id':'1PsB9DS810z_2kaN_9_t6FY5KIWckcbKj'}) \n",
        "downloaded.GetContentFile('News_Category_Dataset_v2.csv') \n",
        "\"\"\""
      ],
      "execution_count": null,
      "outputs": [
        {
          "output_type": "error",
          "ename": "NameError",
          "evalue": "ignored",
          "traceback": [
            "\u001b[0;31m---------------------------------------------------------------------------\u001b[0m",
            "\u001b[0;31mNameError\u001b[0m                                 Traceback (most recent call last)",
            "\u001b[0;32m<ipython-input-5-c50c1d97c168>\u001b[0m in \u001b[0;36m<module>\u001b[0;34m()\u001b[0m\n\u001b[1;32m      1\u001b[0m \u001b[0;31m#2.1 Get the file\u001b[0m\u001b[0;34m\u001b[0m\u001b[0;34m\u001b[0m\u001b[0;34m\u001b[0m\u001b[0m\n\u001b[0;32m----> 2\u001b[0;31m \u001b[0mdownloaded\u001b[0m \u001b[0;34m=\u001b[0m \u001b[0mdrive\u001b[0m\u001b[0;34m.\u001b[0m\u001b[0mCreateFile\u001b[0m\u001b[0;34m(\u001b[0m\u001b[0;34m{\u001b[0m\u001b[0;34m'id'\u001b[0m\u001b[0;34m:\u001b[0m\u001b[0;34m'1PsB9DS810z_2kaN_9_t6FY5KIWckcbKj'\u001b[0m\u001b[0;34m}\u001b[0m\u001b[0;34m)\u001b[0m\u001b[0;34m\u001b[0m\u001b[0;34m\u001b[0m\u001b[0m\n\u001b[0m\u001b[1;32m      3\u001b[0m \u001b[0mdownloaded\u001b[0m\u001b[0;34m.\u001b[0m\u001b[0mGetContentFile\u001b[0m\u001b[0;34m(\u001b[0m\u001b[0;34m'News_Category_Dataset_v2.csv'\u001b[0m\u001b[0;34m)\u001b[0m\u001b[0;34m\u001b[0m\u001b[0;34m\u001b[0m\u001b[0m\n",
            "\u001b[0;31mNameError\u001b[0m: name 'drive' is not defined"
          ]
        }
      ]
    },
    {
      "cell_type": "markdown",
      "metadata": {
        "id": "cZv7gRE26aSU",
        "colab_type": "text"
      },
      "source": [
        "Before we do any execuion we need to import some libraries.\n"
      ]
    },
    {
      "cell_type": "code",
      "metadata": {
        "id": "959A-do26Vki",
        "colab_type": "code",
        "colab": {}
      },
      "source": [
        "\n",
        "import pandas as pd\n",
        "import numpy as np\n",
        "import seaborn as sns"
      ],
      "execution_count": null,
      "outputs": []
    },
    {
      "cell_type": "markdown",
      "metadata": {
        "id": "zFsFNos56ufG",
        "colab_type": "text"
      },
      "source": [
        "Now we load the data to manipulate it with the code.\n"
      ]
    },
    {
      "cell_type": "code",
      "metadata": {
        "id": "oK5skLUd6rAs",
        "colab_type": "code",
        "colab": {
          "base_uri": "https://localhost:8080/",
          "height": 255
        },
        "outputId": "f9d4ef1d-5ba3-41ef-c317-d969e01ab0df"
      },
      "source": [
        "'''\n",
        "news_data = pd.read_csv (r'News_Category_Dataset_v2.csv')\n",
        "\n",
        "print(news_data.info())\n",
        "'''\n",
        "news_data = pd.read_json('./News_Category_Dataset_v2.json',  lines=True)\n",
        "\n",
        "print(news_data.info())"
      ],
      "execution_count": null,
      "outputs": [
        {
          "output_type": "stream",
          "text": [
            "<class 'pandas.core.frame.DataFrame'>\n",
            "RangeIndex: 200853 entries, 0 to 200852\n",
            "Data columns (total 6 columns):\n",
            " #   Column             Non-Null Count   Dtype         \n",
            "---  ------             --------------   -----         \n",
            " 0   category           200853 non-null  object        \n",
            " 1   headline           200853 non-null  object        \n",
            " 2   authors            200853 non-null  object        \n",
            " 3   link               200853 non-null  object        \n",
            " 4   short_description  200853 non-null  object        \n",
            " 5   date               200853 non-null  datetime64[ns]\n",
            "dtypes: datetime64[ns](1), object(5)\n",
            "memory usage: 9.2+ MB\n",
            "None\n"
          ],
          "name": "stdout"
        }
      ]
    },
    {
      "cell_type": "markdown",
      "metadata": {
        "id": "3wsY6KBI7DHD",
        "colab_type": "text"
      },
      "source": [
        "As we see in the description there are about 200K rows and 6 columns, so for this exercise we will build a classifier with only the columns **headline** and **short_description** and **authors**, since our to predict variable is **category**."
      ]
    },
    {
      "cell_type": "code",
      "metadata": {
        "id": "iYGk6K6i0WWD",
        "colab_type": "code",
        "colab": {
          "base_uri": "https://localhost:8080/",
          "height": 187
        },
        "outputId": "fdba7eab-d75c-4cb3-f2d0-7e9359c9cfe1"
      },
      "source": [
        "t=news_data.category.unique()\n",
        "print(len(t))\n",
        "news_data.category.unique()"
      ],
      "execution_count": null,
      "outputs": [
        {
          "output_type": "stream",
          "text": [
            "41\n"
          ],
          "name": "stdout"
        },
        {
          "output_type": "execute_result",
          "data": {
            "text/plain": [
              "array(['CRIME', 'ENTERTAINMENT', 'WORLD NEWS', 'IMPACT', 'POLITICS',\n",
              "       'WEIRD NEWS', 'BLACK VOICES', 'WOMEN', 'COMEDY', 'QUEER VOICES',\n",
              "       'SPORTS', 'BUSINESS', 'TRAVEL', 'MEDIA', 'TECH', 'RELIGION',\n",
              "       'SCIENCE', 'LATINO VOICES', 'EDUCATION', 'COLLEGE', 'PARENTS',\n",
              "       'ARTS & CULTURE', 'STYLE', 'GREEN', 'TASTE', 'HEALTHY LIVING',\n",
              "       'THE WORLDPOST', 'GOOD NEWS', 'WORLDPOST', 'FIFTY', 'ARTS',\n",
              "       'WELLNESS', 'PARENTING', 'HOME & LIVING', 'STYLE & BEAUTY',\n",
              "       'DIVORCE', 'WEDDINGS', 'FOOD & DRINK', 'MONEY', 'ENVIRONMENT',\n",
              "       'CULTURE & ARTS'], dtype=object)"
            ]
          },
          "metadata": {
            "tags": []
          },
          "execution_count": 9
        }
      ]
    },
    {
      "cell_type": "markdown",
      "metadata": {
        "id": "NKekoyYS72BD",
        "colab_type": "text"
      },
      "source": [
        "There are 41 category of new, that a lot of classes."
      ]
    },
    {
      "cell_type": "markdown",
      "metadata": {
        "id": "u-YmgcUt8MW2",
        "colab_type": "text"
      },
      "source": [
        "### Examining the categories"
      ]
    },
    {
      "cell_type": "code",
      "metadata": {
        "id": "IvnZwLVG8RNo",
        "colab_type": "code",
        "colab": {
          "base_uri": "https://localhost:8080/",
          "height": 731
        },
        "outputId": "106e0a20-304c-4201-9baf-ff0f9cbff900"
      },
      "source": [
        "category_count = news_data['category'].value_counts()\n",
        "print(category_count)"
      ],
      "execution_count": null,
      "outputs": [
        {
          "output_type": "stream",
          "text": [
            "POLITICS          32739\n",
            "WELLNESS          17827\n",
            "ENTERTAINMENT     16058\n",
            "TRAVEL             9887\n",
            "STYLE & BEAUTY     9649\n",
            "PARENTING          8677\n",
            "HEALTHY LIVING     6694\n",
            "QUEER VOICES       6314\n",
            "FOOD & DRINK       6226\n",
            "BUSINESS           5937\n",
            "COMEDY             5175\n",
            "SPORTS             4884\n",
            "BLACK VOICES       4528\n",
            "HOME & LIVING      4195\n",
            "PARENTS            3955\n",
            "THE WORLDPOST      3664\n",
            "WEDDINGS           3651\n",
            "WOMEN              3490\n",
            "IMPACT             3459\n",
            "DIVORCE            3426\n",
            "CRIME              3405\n",
            "MEDIA              2815\n",
            "WEIRD NEWS         2670\n",
            "GREEN              2622\n",
            "WORLDPOST          2579\n",
            "RELIGION           2556\n",
            "STYLE              2254\n",
            "SCIENCE            2178\n",
            "WORLD NEWS         2177\n",
            "TASTE              2096\n",
            "TECH               2082\n",
            "MONEY              1707\n",
            "ARTS               1509\n",
            "FIFTY              1401\n",
            "GOOD NEWS          1398\n",
            "ARTS & CULTURE     1339\n",
            "ENVIRONMENT        1323\n",
            "COLLEGE            1144\n",
            "LATINO VOICES      1129\n",
            "CULTURE & ARTS     1030\n",
            "EDUCATION          1004\n",
            "Name: category, dtype: int64\n"
          ],
          "name": "stdout"
        }
      ]
    },
    {
      "cell_type": "code",
      "metadata": {
        "id": "iTV3Atz_9D76",
        "colab_type": "code",
        "colab": {
          "base_uri": "https://localhost:8080/",
          "height": 1000
        },
        "outputId": "271a6a9f-b538-4d84-82ca-3548f965c8f1"
      },
      "source": [
        "import matplotlib.pyplot as plt\n",
        "%matplotlib inline\n",
        "\n",
        "counts = news_data['category'].value_counts().sort_index()#.to_frame()\n",
        "counts = pd.DataFrame(counts)\n",
        "counts.columns = ['count']\n",
        "counts['category'] = counts.index \n",
        "counts.reset_index(drop=True, inplace=True)\n",
        "news_data.reset_index()\n",
        "\n",
        "sns.set(style=\"whitegrid\")\n",
        "plt.figure(figsize=(16, 6))\n",
        "g = sns.barplot(x='category', y='count', data=counts, )\n",
        "g.set_xticklabels(g.get_xticklabels(), rotation=90, )\n",
        "#t"
      ],
      "execution_count": null,
      "outputs": [
        {
          "output_type": "execute_result",
          "data": {
            "text/plain": [
              "[Text(0, 0, 'ARTS'),\n",
              " Text(0, 0, 'ARTS & CULTURE'),\n",
              " Text(0, 0, 'BLACK VOICES'),\n",
              " Text(0, 0, 'BUSINESS'),\n",
              " Text(0, 0, 'COLLEGE'),\n",
              " Text(0, 0, 'COMEDY'),\n",
              " Text(0, 0, 'CRIME'),\n",
              " Text(0, 0, 'CULTURE & ARTS'),\n",
              " Text(0, 0, 'DIVORCE'),\n",
              " Text(0, 0, 'EDUCATION'),\n",
              " Text(0, 0, 'ENTERTAINMENT'),\n",
              " Text(0, 0, 'ENVIRONMENT'),\n",
              " Text(0, 0, 'FIFTY'),\n",
              " Text(0, 0, 'FOOD & DRINK'),\n",
              " Text(0, 0, 'GOOD NEWS'),\n",
              " Text(0, 0, 'GREEN'),\n",
              " Text(0, 0, 'HEALTHY LIVING'),\n",
              " Text(0, 0, 'HOME & LIVING'),\n",
              " Text(0, 0, 'IMPACT'),\n",
              " Text(0, 0, 'LATINO VOICES'),\n",
              " Text(0, 0, 'MEDIA'),\n",
              " Text(0, 0, 'MONEY'),\n",
              " Text(0, 0, 'PARENTING'),\n",
              " Text(0, 0, 'PARENTS'),\n",
              " Text(0, 0, 'POLITICS'),\n",
              " Text(0, 0, 'QUEER VOICES'),\n",
              " Text(0, 0, 'RELIGION'),\n",
              " Text(0, 0, 'SCIENCE'),\n",
              " Text(0, 0, 'SPORTS'),\n",
              " Text(0, 0, 'STYLE'),\n",
              " Text(0, 0, 'STYLE & BEAUTY'),\n",
              " Text(0, 0, 'TASTE'),\n",
              " Text(0, 0, 'TECH'),\n",
              " Text(0, 0, 'THE WORLDPOST'),\n",
              " Text(0, 0, 'TRAVEL'),\n",
              " Text(0, 0, 'WEDDINGS'),\n",
              " Text(0, 0, 'WEIRD NEWS'),\n",
              " Text(0, 0, 'WELLNESS'),\n",
              " Text(0, 0, 'WOMEN'),\n",
              " Text(0, 0, 'WORLD NEWS'),\n",
              " Text(0, 0, 'WORLDPOST')]"
            ]
          },
          "metadata": {
            "tags": []
          },
          "execution_count": 11
        },
        {
          "output_type": "display_data",
          "data": {
            "image/png": "[encoded data removed]",
            "text/plain": [
              "<Figure size 1152x432 with 1 Axes>"
            ]
          },
          "metadata": {
            "tags": []
          }
        }
      ]
    },
    {
      "cell_type": "markdown",
      "metadata": {
        "id": "5xx6WuvN_TpY",
        "colab_type": "text"
      },
      "source": [
        "We can see there is a big data inbalance between the categories. Let's order by the number of the news articles by each category"
      ]
    },
    {
      "cell_type": "code",
      "metadata": {
        "id": "wGFl49S4_Goz",
        "colab_type": "code",
        "colab": {
          "base_uri": "https://localhost:8080/",
          "height": 593
        },
        "outputId": "acf04900-edce-4b5c-8208-881d85c3d020"
      },
      "source": [
        "news_data['category'].value_counts().plot(kind='barh', figsize=(15,10))\n",
        "plt.xlabel(\"Total\")\n",
        "plt.ylabel(\"Category\")\n",
        "plt.title(\" Category Distribution \",fontweight=\"bold\", size=12);"
      ],
      "execution_count": null,
      "outputs": [
        {
          "output_type": "display_data",
          "data": {
            "image/png": "[encoded data removed]",
            "text/plain": [
              "<Figure size 1080x720 with 1 Axes>"
            ]
          },
          "metadata": {
            "tags": []
          }
        }
      ]
    },
    {
      "cell_type": "markdown",
      "metadata": {
        "id": "AxDZvRZ3_xFE",
        "colab_type": "text"
      },
      "source": [
        "# PHASE 2 : DATA PREPROCESSING\n"
      ]
    },
    {
      "cell_type": "markdown",
      "metadata": {
        "id": "S3yukxoLA23o",
        "colab_type": "text"
      },
      "source": [
        "To make the data useful, we need to do some data manipulation.\n",
        "\n",
        "However we need to merge  the categories that have the same meaning. \n",
        "Because less catergories mean better classification. "
      ]
    },
    {
      "cell_type": "markdown",
      "metadata": {
        "id": "5VI9g4dOCLQr",
        "colab_type": "text"
      },
      "source": [
        "We can see that we have inbalanced classes of the **Category** lables that we choose, so in order to perfome a meaningfull classification we have to over come this situation.\n",
        "\n",
        "Also we have some *Catergories* that are redandents like : \n",
        "\n",
        "*   **ARTS & CULTURE** and  **CULTURE & ARTS**\n",
        "*   **WORLDPOST** and **The WORLDPOST**\n",
        "*   ....\n",
        "\n",
        "\n",
        "\n",
        "\n",
        "Also we have to merge the redandant classes, cause it only cuasing us noise, the less classes we have to better."
      ]
    },
    {
      "cell_type": "markdown",
      "metadata": {
        "id": "MfmykSzuE150",
        "colab_type": "text"
      },
      "source": [
        "## Data Merging"
      ]
    },
    {
      "cell_type": "code",
      "metadata": {
        "id": "1lld3nF-A4js",
        "colab_type": "code",
        "colab": {
          "base_uri": "https://localhost:8080/",
          "height": 697
        },
        "outputId": "5c7c6e97-aa56-4468-a6d1-b457ddca093d"
      },
      "source": [
        "news_data.loc[news_data.category == \"CULTURE & ARTS\", \"category\"] = \"ARTS & CULTURE\"\n",
        "news_data.loc[news_data.category == \"THE WORLDPOST\", \"category\"] = \"WORLDPOST\"\n",
        "\n",
        "news_data['category'].value_counts().sort_index()"
      ],
      "execution_count": null,
      "outputs": [
        {
          "output_type": "execute_result",
          "data": {
            "text/plain": [
              "ARTS               1509\n",
              "ARTS & CULTURE     2369\n",
              "BLACK VOICES       4528\n",
              "BUSINESS           5937\n",
              "COLLEGE            1144\n",
              "COMEDY             5175\n",
              "CRIME              3405\n",
              "DIVORCE            3426\n",
              "EDUCATION          1004\n",
              "ENTERTAINMENT     16058\n",
              "ENVIRONMENT        1323\n",
              "FIFTY              1401\n",
              "FOOD & DRINK       6226\n",
              "GOOD NEWS          1398\n",
              "GREEN              2622\n",
              "HEALTHY LIVING     6694\n",
              "HOME & LIVING      4195\n",
              "IMPACT             3459\n",
              "LATINO VOICES      1129\n",
              "MEDIA              2815\n",
              "MONEY              1707\n",
              "PARENTING          8677\n",
              "PARENTS            3955\n",
              "POLITICS          32739\n",
              "QUEER VOICES       6314\n",
              "RELIGION           2556\n",
              "SCIENCE            2178\n",
              "SPORTS             4884\n",
              "STYLE              2254\n",
              "STYLE & BEAUTY     9649\n",
              "TASTE              2096\n",
              "TECH               2082\n",
              "TRAVEL             9887\n",
              "WEDDINGS           3651\n",
              "WEIRD NEWS         2670\n",
              "WELLNESS          17827\n",
              "WOMEN              3490\n",
              "WORLD NEWS         2177\n",
              "WORLDPOST          6243\n",
              "Name: category, dtype: int64"
            ]
          },
          "metadata": {
            "tags": []
          },
          "execution_count": 13
        }
      ]
    },
    {
      "cell_type": "markdown",
      "metadata": {
        "id": "pwy4kG5iC3GS",
        "colab_type": "text"
      },
      "source": [
        "We need to merge the rest also\n"
      ]
    },
    {
      "cell_type": "code",
      "metadata": {
        "id": "-YuAJVfFBbXM",
        "colab_type": "code",
        "colab": {
          "base_uri": "https://localhost:8080/",
          "height": 578
        },
        "outputId": "0144c7d7-60a1-4916-c9e2-f2e6de1dec48"
      },
      "source": [
        "news_data.loc[news_data.category == \"PARENTING\", \"category\"] = \"PARENTS\"\n",
        "news_data.loc[news_data.category == \"COMEDY\", \"category\"] = \"ENTERTAINMENT\"\n",
        "news_data.loc[news_data.category == \"STYLE\", \"category\"] = \"STYLE & BEAUTY\"\n",
        "news_data.loc[news_data.category == \"COLLEGE\", \"category\"] = \"EDUCATION\"\n",
        "news_data.loc[news_data.category == \"TASTE\", \"category\"] = \"FOOD & DRINK\"\n",
        "news_data.loc[news_data.category == \"ARTS\", \"category\"] = \"ARTS & CULTURE\"\n",
        "news_data.loc[news_data.category == \"WORLDPOST\", \"category\"] = \"WORLD NEWS\"\n",
        "news_data['category'].value_counts().sort_index()"
      ],
      "execution_count": null,
      "outputs": [
        {
          "output_type": "execute_result",
          "data": {
            "text/plain": [
              "ARTS & CULTURE     3878\n",
              "BLACK VOICES       4528\n",
              "BUSINESS           5937\n",
              "CRIME              3405\n",
              "DIVORCE            3426\n",
              "EDUCATION          2148\n",
              "ENTERTAINMENT     21233\n",
              "ENVIRONMENT        1323\n",
              "FIFTY              1401\n",
              "FOOD & DRINK       8322\n",
              "GOOD NEWS          1398\n",
              "GREEN              2622\n",
              "HEALTHY LIVING     6694\n",
              "HOME & LIVING      4195\n",
              "IMPACT             3459\n",
              "LATINO VOICES      1129\n",
              "MEDIA              2815\n",
              "MONEY              1707\n",
              "PARENTS           12632\n",
              "POLITICS          32739\n",
              "QUEER VOICES       6314\n",
              "RELIGION           2556\n",
              "SCIENCE            2178\n",
              "SPORTS             4884\n",
              "STYLE & BEAUTY    11903\n",
              "TECH               2082\n",
              "TRAVEL             9887\n",
              "WEDDINGS           3651\n",
              "WEIRD NEWS         2670\n",
              "WELLNESS          17827\n",
              "WOMEN              3490\n",
              "WORLD NEWS         8420\n",
              "Name: category, dtype: int64"
            ]
          },
          "metadata": {
            "tags": []
          },
          "execution_count": 14
        }
      ]
    },
    {
      "cell_type": "code",
      "metadata": {
        "id": "q-CTdcqwD1zL",
        "colab_type": "code",
        "colab": {
          "base_uri": "https://localhost:8080/",
          "height": 34
        },
        "outputId": "3b84c768-4471-4f55-da8a-f6d0e83ca16f"
      },
      "source": [
        "t=news_data.category.unique()\n",
        "print('Number of categories after merging ', len(t))"
      ],
      "execution_count": null,
      "outputs": [
        {
          "output_type": "stream",
          "text": [
            "Number of categories after merging  32\n"
          ],
          "name": "stdout"
        }
      ]
    },
    {
      "cell_type": "code",
      "metadata": {
        "id": "LU9IYZKjDZcF",
        "colab_type": "code",
        "colab": {
          "base_uri": "https://localhost:8080/",
          "height": 595
        },
        "outputId": "412874a7-f229-4e40-d7c5-c29ab0c3f976"
      },
      "source": [
        "news_data['category'].value_counts().plot(kind='barh', figsize=(15,10))\n",
        "plt.xlabel(\"Total\")\n",
        "plt.ylabel(\"Category\")\n",
        "plt.title(\" Category Distribution \",fontweight=\"bold\", size=12);"
      ],
      "execution_count": null,
      "outputs": [
        {
          "output_type": "display_data",
          "data": {
            "image/png": "[encoded data removed]",
            "text/plain": [
              "<Figure size 1080x720 with 1 Axes>"
            ]
          },
          "metadata": {
            "tags": []
          }
        }
      ]
    },
    {
      "cell_type": "markdown",
      "metadata": {
        "id": "oRYejcBnDdu6",
        "colab_type": "text"
      },
      "source": [
        "Even though we merged some categories, we still have a huge inbalance, in the data."
      ]
    },
    {
      "cell_type": "markdown",
      "metadata": {
        "id": "MeC7wVPcEKjr",
        "colab_type": "text"
      },
      "source": [
        "anyway, now we have just 32 categories to work with less classes, we will increase the occuracy of the models\n",
        "\n"
      ]
    },
    {
      "cell_type": "markdown",
      "metadata": {
        "id": "5GW4_2VXEnue",
        "colab_type": "text"
      },
      "source": [
        "## Handling Null Values"
      ]
    },
    {
      "cell_type": "code",
      "metadata": {
        "id": "a6abzMl-EUb7",
        "colab_type": "code",
        "colab": {
          "base_uri": "https://localhost:8080/",
          "height": 136
        },
        "outputId": "9e528c2f-214c-48eb-9fc3-1f74583ce887"
      },
      "source": [
        "  news_data.isnull().sum()\n",
        "  "
      ],
      "execution_count": null,
      "outputs": [
        {
          "output_type": "execute_result",
          "data": {
            "text/plain": [
              "category             0\n",
              "headline             0\n",
              "authors              0\n",
              "link                 0\n",
              "short_description    0\n",
              "date                 0\n",
              "dtype: int64"
            ]
          },
          "metadata": {
            "tags": []
          },
          "execution_count": 17
        }
      ]
    },
    {
      "cell_type": "markdown",
      "metadata": {
        "id": "j1lhbYh_FqoU",
        "colab_type": "text"
      },
      "source": [
        "We may have, some null values, we may need to drop them."
      ]
    },
    {
      "cell_type": "code",
      "metadata": {
        "id": "v18btnc2FE1P",
        "colab_type": "code",
        "colab": {
          "base_uri": "https://localhost:8080/",
          "height": 136
        },
        "outputId": "9356f470-f34e-4a36-ff29-931a7f6d5018"
      },
      "source": [
        "news_data = news_data.dropna()\n",
        "news_data.isnull().sum()"
      ],
      "execution_count": null,
      "outputs": [
        {
          "output_type": "execute_result",
          "data": {
            "text/plain": [
              "category             0\n",
              "headline             0\n",
              "authors              0\n",
              "link                 0\n",
              "short_description    0\n",
              "date                 0\n",
              "dtype: int64"
            ]
          },
          "metadata": {
            "tags": []
          },
          "execution_count": 18
        }
      ]
    },
    {
      "cell_type": "markdown",
      "metadata": {
        "id": "dOCIFd_5IZ0u",
        "colab_type": "text"
      },
      "source": [
        "## Preparing the Data Versions copies we gonna use"
      ]
    },
    {
      "cell_type": "markdown",
      "metadata": {
        "id": "WpcyylGHIqf9",
        "colab_type": "text"
      },
      "source": [
        "Here we may have different ways to do it for each case, so we will have different spits and we will test them all.\\\n",
        "The goal is to overcome two chalanges :\n",
        "\n",
        "1.   Data imbalance.\n",
        "2.   Increase performence.\n",
        "\n",
        "And we will prepare the traing and testing, by buiding different datasets.\n",
        "\n"
      ]
    },
    {
      "cell_type": "markdown",
      "metadata": {
        "id": "uHdo0raSebOz",
        "colab_type": "text"
      },
      "source": [
        "### Enumerate the classes labels"
      ]
    },
    {
      "cell_type": "markdown",
      "metadata": {
        "id": "JoZqdScsek4b",
        "colab_type": "text"
      },
      "source": [
        "We will add a **label** column that will help us to split the data, and have fast comparison.\\\n",
        "We will enumerate the category column of the dataset"
      ]
    },
    {
      "cell_type": "code",
      "metadata": {
        "id": "A6UkMwjwe7Cg",
        "colab_type": "code",
        "colab": {
          "base_uri": "https://localhost:8080/",
          "height": 54
        },
        "outputId": "b60a7962-74c0-4605-a070-babbe20e3cf4"
      },
      "source": [
        "possible_labels = news_data.category.unique()\n",
        "\n",
        "label_dict = {}\n",
        "for index, possible_label in enumerate(possible_labels):\n",
        "    label_dict[possible_label] = index\n",
        "label_dict\n",
        "\n",
        "reverse_label_dict = {v: k for k, v in label_dict.items()}\n",
        "print(label_dict, reverse_label_dict)\n"
      ],
      "execution_count": null,
      "outputs": [
        {
          "output_type": "stream",
          "text": [
            "{'CRIME': 0, 'ENTERTAINMENT': 1, 'WORLD NEWS': 2, 'IMPACT': 3, 'POLITICS': 4, 'WEIRD NEWS': 5, 'BLACK VOICES': 6, 'WOMEN': 7, 'QUEER VOICES': 8, 'SPORTS': 9, 'BUSINESS': 10, 'TRAVEL': 11, 'MEDIA': 12, 'TECH': 13, 'RELIGION': 14, 'SCIENCE': 15, 'LATINO VOICES': 16, 'EDUCATION': 17, 'PARENTS': 18, 'ARTS & CULTURE': 19, 'STYLE & BEAUTY': 20, 'GREEN': 21, 'FOOD & DRINK': 22, 'HEALTHY LIVING': 23, 'GOOD NEWS': 24, 'FIFTY': 25, 'WELLNESS': 26, 'HOME & LIVING': 27, 'DIVORCE': 28, 'WEDDINGS': 29, 'MONEY': 30, 'ENVIRONMENT': 31} {0: 'CRIME', 1: 'ENTERTAINMENT', 2: 'WORLD NEWS', 3: 'IMPACT', 4: 'POLITICS', 5: 'WEIRD NEWS', 6: 'BLACK VOICES', 7: 'WOMEN', 8: 'QUEER VOICES', 9: 'SPORTS', 10: 'BUSINESS', 11: 'TRAVEL', 12: 'MEDIA', 13: 'TECH', 14: 'RELIGION', 15: 'SCIENCE', 16: 'LATINO VOICES', 17: 'EDUCATION', 18: 'PARENTS', 19: 'ARTS & CULTURE', 20: 'STYLE & BEAUTY', 21: 'GREEN', 22: 'FOOD & DRINK', 23: 'HEALTHY LIVING', 24: 'GOOD NEWS', 25: 'FIFTY', 26: 'WELLNESS', 27: 'HOME & LIVING', 28: 'DIVORCE', 29: 'WEDDINGS', 30: 'MONEY', 31: 'ENVIRONMENT'}\n"
          ],
          "name": "stdout"
        }
      ]
    },
    {
      "cell_type": "code",
      "metadata": {
        "id": "lmcHEJj9fBPH",
        "colab_type": "code",
        "colab": {}
      },
      "source": [
        "news_data['label'] = news_data.category.replace(label_dict)"
      ],
      "execution_count": null,
      "outputs": []
    },
    {
      "cell_type": "markdown",
      "metadata": {
        "id": "q_uP0MgdKcdn",
        "colab_type": "text"
      },
      "source": [
        "#### CASE TWO : **news_data_case_2**\n",
        "####counter the data imbalance by **undersampling** and using column **headline**"
      ]
    },
    {
      "cell_type": "markdown",
      "metadata": {
        "id": "XxsBDt5XMJWO",
        "colab_type": "text"
      },
      "source": [
        "**In this case we will counter the data imbalance.** \\\n",
        "\n",
        "For this problem, we have three methodes to fix, we can undersample or oversample or generate synthetique data, but because we deal with text dataset we really can't oversample the samller classer, because we don't want to just duplicate the text we have, or even generate fake text. The smallest class is **Education**  with 1000 example, compared the rest, compared to **Politics** with over 30000 example, we can see that i will be hard to do a classification with such disparity of data. So we can not really undersample to the lowest level of the smallest categrory of *Education*, nor work with full *politic* example, we have to find a compromize. we may try first with an equal number of categories in the training and use the rest in testing.\n",
        "\n",
        "We can start by constracting a dataset with equal examples first."
      ]
    },
    {
      "cell_type": "code",
      "metadata": {
        "id": "nBI5jv1jKGZZ",
        "colab_type": "code",
        "colab": {
          "base_uri": "https://localhost:8080/",
          "height": 68
        },
        "outputId": "0b043845-7d17-47c7-d162-7d2e4a18da1d"
      },
      "source": [
        "min  = counts['count'].argmin()\n",
        "print('smallest class', counts.iloc[min, : ] )"
      ],
      "execution_count": null,
      "outputs": [
        {
          "output_type": "stream",
          "text": [
            "smallest class count            1004\n",
            "category    EDUCATION\n",
            "Name: 9, dtype: object\n"
          ],
          "name": "stdout"
        }
      ]
    },
    {
      "cell_type": "markdown",
      "metadata": {
        "id": "WFAIB4vaUeW5",
        "colab_type": "text"
      },
      "source": [
        "In this case, we will have a dataset of 1000 line by each category."
      ]
    },
    {
      "cell_type": "code",
      "metadata": {
        "id": "cxQWimH4Urp6",
        "colab_type": "code",
        "colab": {
          "base_uri": "https://localhost:8080/",
          "height": 34
        },
        "outputId": "adbebbac-d881-4620-ac4d-1b53abbd1f67"
      },
      "source": [
        "news_data_case_2 = news_data.head(0)\n",
        "news_data_case_2_rest = news_data.head(0)\n",
        "\n",
        "for category in counts['category']:\n",
        "  #df2 = df2.append( df[df['category']==category].head(1000))\n",
        "  news_data_case_2 = news_data_case_2.append( news_data[news_data['category']==category].iloc[0:1000, :])\n",
        "  news_data_case_2_rest = news_data_case_2_rest.append( news_data[news_data['category']==category].iloc[1000:, :])\n",
        "\n",
        "print('shapes of datasets', news_data_case_2.shape ,news_data_case_2_rest.shape)\n",
        "#df.shape"
      ],
      "execution_count": null,
      "outputs": [
        {
          "output_type": "stream",
          "text": [
            "shapes of datasets (32000, 7) (168853, 7)\n"
          ],
          "name": "stdout"
        }
      ]
    },
    {
      "cell_type": "code",
      "metadata": {
        "id": "G8SuP9qmVaI3",
        "colab_type": "code",
        "colab": {
          "base_uri": "https://localhost:8080/",
          "height": 204
        },
        "outputId": "d8983ca0-79bb-44ee-b85b-edf4ca0567dd"
      },
      "source": [
        "news_data_case_2['information']  = news_data_case_2[['headline', 'short_description']].apply(lambda x: ' '.join(x), axis=1)\n",
        "#news_data_case_2 = news_data_case_2.rename(columns={'headline': 'information'})\n",
        "cols = ['category', 'information', 'label']\n",
        "news_data_case_2=news_data_case_2[cols]\n",
        "print(news_data_case_2.info())"
      ],
      "execution_count": null,
      "outputs": [
        {
          "output_type": "stream",
          "text": [
            "<class 'pandas.core.frame.DataFrame'>\n",
            "Int64Index: 32000 entries, 6715 to 14228\n",
            "Data columns (total 3 columns):\n",
            " #   Column       Non-Null Count  Dtype \n",
            "---  ------       --------------  ----- \n",
            " 0   category     32000 non-null  object\n",
            " 1   information  32000 non-null  object\n",
            " 2   label        32000 non-null  int64 \n",
            "dtypes: int64(1), object(2)\n",
            "memory usage: 1000.0+ KB\n",
            "None\n"
          ],
          "name": "stdout"
        }
      ]
    },
    {
      "cell_type": "code",
      "metadata": {
        "id": "kvO9VnkYg6Zj",
        "colab_type": "code",
        "colab": {
          "base_uri": "https://localhost:8080/",
          "height": 204
        },
        "outputId": "0c2e78d9-d5cc-4bba-dca2-1c3fa545ea4e"
      },
      "source": [
        "news_data_case_2.head()"
      ],
      "execution_count": null,
      "outputs": [
        {
          "output_type": "execute_result",
          "data": {
            "text/html": [
              "<div>\n",
              "<style scoped>\n",
              "    .dataframe tbody tr th:only-of-type {\n",
              "        vertical-align: middle;\n",
              "    }\n",
              "\n",
              "    .dataframe tbody tr th {\n",
              "        vertical-align: top;\n",
              "    }\n",
              "\n",
              "    .dataframe thead th {\n",
              "        text-align: right;\n",
              "    }\n",
              "</style>\n",
              "<table border=\"1\" class=\"dataframe\">\n",
              "  <thead>\n",
              "    <tr style=\"text-align: right;\">\n",
              "      <th></th>\n",
              "      <th>category</th>\n",
              "      <th>information</th>\n",
              "      <th>label</th>\n",
              "    </tr>\n",
              "  </thead>\n",
              "  <tbody>\n",
              "    <tr>\n",
              "      <th>6715</th>\n",
              "      <td>ARTS &amp; CULTURE</td>\n",
              "      <td>Modeling Agencies Enabled Sexual Predators For...</td>\n",
              "      <td>19</td>\n",
              "    </tr>\n",
              "    <tr>\n",
              "      <th>7426</th>\n",
              "      <td>ARTS &amp; CULTURE</td>\n",
              "      <td>Actor Jeff Hiller Talks “Bright Colors And Bol...</td>\n",
              "      <td>19</td>\n",
              "    </tr>\n",
              "    <tr>\n",
              "      <th>7698</th>\n",
              "      <td>ARTS &amp; CULTURE</td>\n",
              "      <td>New Yorker Cover Puts Trump 'In The Hole' Afte...</td>\n",
              "      <td>19</td>\n",
              "    </tr>\n",
              "    <tr>\n",
              "      <th>7744</th>\n",
              "      <td>ARTS &amp; CULTURE</td>\n",
              "      <td>J. K. Rowling Trolls Trump For Canceled UK Vis...</td>\n",
              "      <td>19</td>\n",
              "    </tr>\n",
              "    <tr>\n",
              "      <th>7928</th>\n",
              "      <td>ARTS &amp; CULTURE</td>\n",
              "      <td>Man Surprises Girlfriend By Drawing Them In Di...</td>\n",
              "      <td>19</td>\n",
              "    </tr>\n",
              "  </tbody>\n",
              "</table>\n",
              "</div>"
            ],
            "text/plain": [
              "            category                                        information  label\n",
              "6715  ARTS & CULTURE  Modeling Agencies Enabled Sexual Predators For...     19\n",
              "7426  ARTS & CULTURE  Actor Jeff Hiller Talks “Bright Colors And Bol...     19\n",
              "7698  ARTS & CULTURE  New Yorker Cover Puts Trump 'In The Hole' Afte...     19\n",
              "7744  ARTS & CULTURE  J. K. Rowling Trolls Trump For Canceled UK Vis...     19\n",
              "7928  ARTS & CULTURE  Man Surprises Girlfriend By Drawing Them In Di...     19"
            ]
          },
          "metadata": {
            "tags": []
          },
          "execution_count": 24
        }
      ]
    },
    {
      "cell_type": "code",
      "metadata": {
        "id": "PEx9wot0hKwi",
        "colab_type": "code",
        "colab": {
          "base_uri": "https://localhost:8080/",
          "height": 204
        },
        "outputId": "bb18ba43-a363-4601-e06c-b6d03c6c14f6"
      },
      "source": [
        "news_data_case_2_rest = news_data_case_2_rest.rename(columns={'headline': 'information'})\n",
        "cols = ['category', 'information', 'label']\n",
        "news_data_case_2_rest=news_data_case_2_rest[cols]\n",
        "print(news_data_case_2_rest.info())"
      ],
      "execution_count": null,
      "outputs": [
        {
          "output_type": "stream",
          "text": [
            "<class 'pandas.core.frame.DataFrame'>\n",
            "Int64Index: 168853 entries, 57523 to 124973\n",
            "Data columns (total 3 columns):\n",
            " #   Column       Non-Null Count   Dtype \n",
            "---  ------       --------------   ----- \n",
            " 0   category     168853 non-null  object\n",
            " 1   information  168853 non-null  object\n",
            " 2   label        168853 non-null  int64 \n",
            "dtypes: int64(1), object(2)\n",
            "memory usage: 5.2+ MB\n",
            "None\n"
          ],
          "name": "stdout"
        }
      ]
    },
    {
      "cell_type": "code",
      "metadata": {
        "id": "wEigPbirdpQq",
        "colab_type": "code",
        "colab": {
          "base_uri": "https://localhost:8080/",
          "height": 204
        },
        "outputId": "4e9034fa-b371-4b14-cd7a-7b961963c6de"
      },
      "source": [
        "news_data_case_2_rest.head()"
      ],
      "execution_count": null,
      "outputs": [
        {
          "output_type": "execute_result",
          "data": {
            "text/html": [
              "<div>\n",
              "<style scoped>\n",
              "    .dataframe tbody tr th:only-of-type {\n",
              "        vertical-align: middle;\n",
              "    }\n",
              "\n",
              "    .dataframe tbody tr th {\n",
              "        vertical-align: top;\n",
              "    }\n",
              "\n",
              "    .dataframe thead th {\n",
              "        text-align: right;\n",
              "    }\n",
              "</style>\n",
              "<table border=\"1\" class=\"dataframe\">\n",
              "  <thead>\n",
              "    <tr style=\"text-align: right;\">\n",
              "      <th></th>\n",
              "      <th>category</th>\n",
              "      <th>information</th>\n",
              "      <th>label</th>\n",
              "    </tr>\n",
              "  </thead>\n",
              "  <tbody>\n",
              "    <tr>\n",
              "      <th>57523</th>\n",
              "      <td>ARTS &amp; CULTURE</td>\n",
              "      <td>Contemporary Art ™ is a Now a 'Brand'</td>\n",
              "      <td>19</td>\n",
              "    </tr>\n",
              "    <tr>\n",
              "      <th>57526</th>\n",
              "      <td>ARTS &amp; CULTURE</td>\n",
              "      <td>Loose Lips Sink Ships</td>\n",
              "      <td>19</td>\n",
              "    </tr>\n",
              "    <tr>\n",
              "      <th>57569</th>\n",
              "      <td>ARTS &amp; CULTURE</td>\n",
              "      <td>Ethereal Photos Show Just How Neat Whisky Dreg...</td>\n",
              "      <td>19</td>\n",
              "    </tr>\n",
              "    <tr>\n",
              "      <th>57678</th>\n",
              "      <td>ARTS &amp; CULTURE</td>\n",
              "      <td>Artist JR Makes The Louvre's Iconic Pyramid Di...</td>\n",
              "      <td>19</td>\n",
              "    </tr>\n",
              "    <tr>\n",
              "      <th>57719</th>\n",
              "      <td>ARTS &amp; CULTURE</td>\n",
              "      <td>In 'Barge,' Unsung Heroes Follow The American ...</td>\n",
              "      <td>19</td>\n",
              "    </tr>\n",
              "  </tbody>\n",
              "</table>\n",
              "</div>"
            ],
            "text/plain": [
              "             category                                        information  label\n",
              "57523  ARTS & CULTURE              Contemporary Art ™ is a Now a 'Brand'     19\n",
              "57526  ARTS & CULTURE                              Loose Lips Sink Ships     19\n",
              "57569  ARTS & CULTURE  Ethereal Photos Show Just How Neat Whisky Dreg...     19\n",
              "57678  ARTS & CULTURE  Artist JR Makes The Louvre's Iconic Pyramid Di...     19\n",
              "57719  ARTS & CULTURE  In 'Barge,' Unsung Heroes Follow The American ...     19"
            ]
          },
          "metadata": {
            "tags": []
          },
          "execution_count": 26
        }
      ]
    },
    {
      "cell_type": "markdown",
      "metadata": {
        "id": "lq4i0K9-inYp",
        "colab_type": "text"
      },
      "source": [
        "#### Spliting the data\n",
        "\n",
        "The split size and randomness will be left for each model, as a parameter.\\\n",
        "We will not specify a certain split. The quality of the model may depend on the split so we suppose to have the optimal split for each model."
      ]
    },
    {
      "cell_type": "markdown",
      "metadata": {
        "id": "HsMah4uylp7R",
        "colab_type": "text"
      },
      "source": [
        "# PHASE 3 : MODELS DEPLOYMENT AND PERORMANCE\n"
      ]
    },
    {
      "cell_type": "markdown",
      "metadata": {
        "id": "r4d2AzVymnVj",
        "colab_type": "text"
      },
      "source": [
        "General imports that we will use for all models"
      ]
    },
    {
      "cell_type": "code",
      "metadata": {
        "id": "Qn32p08gmRPJ",
        "colab_type": "code",
        "colab": {}
      },
      "source": [
        "from sklearn.model_selection import train_test_split\n",
        "!mkdir models_pred"
      ],
      "execution_count": null,
      "outputs": []
    },
    {
      "cell_type": "markdown",
      "metadata": {
        "id": "mrP66pfLjnAu",
        "colab_type": "text"
      },
      "source": [
        "## CASE 2 : MODELS PERFORMENCES\n"
      ]
    },
    {
      "cell_type": "markdown",
      "metadata": {
        "id": "X9XE3CLUkKi-",
        "colab_type": "text"
      },
      "source": [
        "### CASE 2 with **GENERIC MODELS**\n"
      ]
    },
    {
      "cell_type": "markdown",
      "metadata": {
        "id": "fqpuoFVVkX2c",
        "colab_type": "text"
      },
      "source": [
        "#### Train Test Split\n"
      ]
    },
    {
      "cell_type": "code",
      "metadata": {
        "id": "yPsalm5BktQQ",
        "colab_type": "code",
        "colab": {
          "base_uri": "https://localhost:8080/",
          "height": 425
        },
        "outputId": "a7c96880-087a-444e-ac1a-e6be53a83461"
      },
      "source": [
        "X_case_2 = news_data_case_2.information\n",
        "y_case_2 = news_data_case_2.category\n",
        "\n",
        "train_size_case_2_split_1 = 0.7\n",
        "random_seed = 1\n",
        "#split\n",
        "from sklearn.model_selection import train_test_split\n",
        "X_train_case_2_split_1, X_test_case_2_split_1, y_train_case_2_split_1, y_test_case_2_split_1 = train_test_split(X_case_2, y_case_2, \n",
        "                                                                                                                train_size =train_size_case_2_split_1, \n",
        "                                                                                                                random_state = random_seed)\n",
        "\n",
        "\n",
        "print(X_train_case_2_split_1)\n",
        "print(y_train_case_2_split_1)"
      ],
      "execution_count": null,
      "outputs": [
        {
          "output_type": "stream",
          "text": [
            "239       Spoof Royal Wedding Video Sees Ceremony Taking...\n",
            "39578     Photographer Captures Lapland's Northern Light...\n",
            "5625      Sikh Activist's Campaign A Reminder That Love ...\n",
            "4346      Kentucky Governor Calls Kim Davis An Inspirati...\n",
            "43436     Standing Rock Protestors Burn Document That Ju...\n",
            "                                ...                        \n",
            "171097    Why Santa Doesn't Know If You've Been Naughty ...\n",
            "23413     For The Future Of Education, Answer The Callin...\n",
            "13290     White Privilege Helps Explain The Opioid Epide...\n",
            "27785     Michael Moore Is Taking His Criticism Of Trump...\n",
            "127588    Psychotherapy? Medication? Both? Neither? On p...\n",
            "Name: information, Length: 22400, dtype: object\n",
            "239        ENTERTAINMENT\n",
            "39578             TRAVEL\n",
            "5625            RELIGION\n",
            "4346        QUEER VOICES\n",
            "43436           RELIGION\n",
            "               ...      \n",
            "171097             MONEY\n",
            "23413          EDUCATION\n",
            "13290     HEALTHY LIVING\n",
            "27785     ARTS & CULTURE\n",
            "127588          WELLNESS\n",
            "Name: category, Length: 22400, dtype: object\n"
          ],
          "name": "stdout"
        }
      ]
    },
    {
      "cell_type": "markdown",
      "metadata": {
        "id": "_q5e2QY-oFdF",
        "colab_type": "text"
      },
      "source": [
        "#### Creating the Bag of Words Representation\n",
        "\n",
        "\n"
      ]
    },
    {
      "cell_type": "markdown",
      "metadata": {
        "id": "cJzgRtHKojZ5",
        "colab_type": "text"
      },
      "source": [
        "In this step we will create the words embeddings for that we gonna use for the classical machine learning model, that we learned at the class."
      ]
    },
    {
      "cell_type": "code",
      "metadata": {
        "id": "BzmLqpqQoHYa",
        "colab_type": "code",
        "colab": {}
      },
      "source": [
        "\n",
        "from sklearn.feature_extraction.text import CountVectorizer\n",
        "vec = CountVectorizer(stop_words = 'english')"
      ],
      "execution_count": null,
      "outputs": []
    },
    {
      "cell_type": "markdown",
      "metadata": {
        "id": "SFoULUQYo5bB",
        "colab_type": "text"
      },
      "source": [
        "In the case of the classical models we gonna use only a **Frequency Based Embedding** "
      ]
    },
    {
      "cell_type": "code",
      "metadata": {
        "id": "T-l0YVS9o6OV",
        "colab_type": "code",
        "colab": {
          "base_uri": "https://localhost:8080/",
          "height": 1000
        },
        "outputId": "dc509dc5-ed64-4964-9b28-68b83700e057"
      },
      "source": [
        "\n",
        "vec.fit(X_train_case_2_split_1)\n",
        "\n",
        "print(len(vec.get_feature_names()))\n",
        "vec.vocabulary_"
      ],
      "execution_count": null,
      "outputs": [
        {
          "output_type": "stream",
          "text": [
            "32445\n"
          ],
          "name": "stdout"
        },
        {
          "output_type": "execute_result",
          "data": {
            "text/plain": [
              "{'spoof': 27333,\n",
              " 'royal': 24954,\n",
              " 'wedding': 31520,\n",
              " 'video': 31003,\n",
              " 'sees': 25744,\n",
              " 'ceremony': 5087,\n",
              " 'taking': 28624,\n",
              " 'different': 8292,\n",
              " 'turn': 30020,\n",
              " 'royally': 24955,\n",
              " 'funny': 11810,\n",
              " 'photographer': 21598,\n",
              " 'captures': 4713,\n",
              " 'lapland': 16363,\n",
              " 'northern': 19871,\n",
              " 'lights': 16852,\n",
              " 'magical': 17409,\n",
              " 'photos': 21609,\n",
              " 'greatest': 12613,\n",
              " 'light': 16842,\n",
              " 'earth': 9305,\n",
              " 'sikh': 26380,\n",
              " 'activist': 807,\n",
              " 'campaign': 4580,\n",
              " 'reminder': 24020,\n",
              " 'love': 17207,\n",
              " 'force': 11394,\n",
              " 'justice': 15647,\n",
              " 'social': 26933,\n",
              " 'movements': 19039,\n",
              " 'history': 13624,\n",
              " 'rooted': 24861,\n",
              " 'ethic': 10104,\n",
              " 'says': 25366,\n",
              " 'valarie': 30769,\n",
              " 'kaur': 15778,\n",
              " 'kentucky': 15851,\n",
              " 'governor': 12476,\n",
              " 'calls': 4535,\n",
              " 'kim': 15958,\n",
              " 'davis': 7510,\n",
              " 'inspiration': 14787,\n",
              " 'children': 5395,\n",
              " 'america': 1467,\n",
              " 'republican': 24170,\n",
              " 'matt': 17894,\n",
              " 'bevin': 3182,\n",
              " 'applauds': 1787,\n",
              " 'anti': 1677,\n",
              " 'gay': 11995,\n",
              " 'clerk': 5711,\n",
              " 'boldness': 3648,\n",
              " 'conviction': 6617,\n",
              " 'standing': 27513,\n",
              " 'rock': 24743,\n",
              " 'protestors': 22819,\n",
              " 'burn': 4331,\n",
              " 'document': 8743,\n",
              " 'justified': 15654,\n",
              " 'indigenous': 14539,\n",
              " 'oppression': 20369,\n",
              " 'clergy': 5708,\n",
              " 'condemned': 6280,\n",
              " '15th': 87,\n",
              " 'century': 5076,\n",
              " 'paved': 21198,\n",
              " 'way': 31473,\n",
              " 'christian': 5491,\n",
              " 'colonization': 5975,\n",
              " 'americas': 1472,\n",
              " 'chanukah': 5182,\n",
              " 'rededication': 23692,\n",
              " 'values': 30791,\n",
              " 'right': 24595,\n",
              " 'wing': 31831,\n",
              " 'radio': 23236,\n",
              " 'host': 13871,\n",
              " 'bryan': 4172,\n",
              " 'fischer': 11069,\n",
              " 'opposed': 20362,\n",
              " 'christianity': 5493,\n",
              " 'traitor': 29622,\n",
              " 'claims': 5617,\n",
              " 'followers': 11341,\n",
              " 'jesus': 15415,\n",
              " 'christ': 5488,\n",
              " 'patriots': 21163,\n",
              " 'dreamy': 9025,\n",
              " 'dresses': 9036,\n",
              " 'beach': 2863,\n",
              " 'bound': 3820,\n",
              " 'bride': 4015,\n",
              " 'picture': 21654,\n",
              " 'walking': 31316,\n",
              " 'aisle': 1191,\n",
              " 'sound': 27085,\n",
              " 'crashing': 6945,\n",
              " 'waves': 31465,\n",
              " 'ocean': 20145,\n",
              " 'breeze': 3981,\n",
              " 'blowing': 3542,\n",
              " 'veil': 30875,\n",
              " 've': 30853,\n",
              " 'come': 6031,\n",
              " 'place': 21801,\n",
              " 'airy': 1190,\n",
              " 'fit': 11086,\n",
              " 'goddess': 12355,\n",
              " 'affair': 1017,\n",
              " 'steps': 27685,\n",
              " 'rebuilding': 23560,\n",
              " 'relationship': 23934,\n",
              " 'think': 29116,\n",
              " 'want': 31367,\n",
              " 'thing': 29112,\n",
              " 'work': 31988,\n",
              " 'll': 17024,\n",
              " 'really': 23508,\n",
              " 'important': 14372,\n",
              " 'helping': 13435,\n",
              " 'ease': 9315,\n",
              " 'pa': 20762,\n",
              " 'charter': 5237,\n",
              " 'management': 17547,\n",
              " 'ceo': 5077,\n",
              " 'publicly': 22913,\n",
              " 'accountable': 732,\n",
              " 'sealed': 25652,\n",
              " 'sexual': 25956,\n",
              " 'harassment': 13109,\n",
              " 'settlement': 25924,\n",
              " 'major': 17473,\n",
              " 'problem': 22608,\n",
              " 'school': 25476,\n",
              " 'slogan': 26703,\n",
              " 'schools': 25489,\n",
              " 'public': 22908,\n",
              " 'operated': 20336,\n",
              " 'craig': 6919,\n",
              " 'sager': 25129,\n",
              " 'dead': 7539,\n",
              " '65': 439,\n",
              " 'following': 11342,\n",
              " 'battle': 2836,\n",
              " 'leukemia': 16723,\n",
              " 'broadcast': 4078,\n",
              " 'legend': 16612,\n",
              " 'leaves': 16563,\n",
              " 'wife': 31754,\n",
              " 'british': 4070,\n",
              " 'hunt': 14057,\n",
              " 'witches': 31890,\n",
              " 'marks': 17748,\n",
              " 'halloween': 12978,\n",
              " 'physical': 21622,\n",
              " 'ancestors': 1545,\n",
              " 'saw': 25355,\n",
              " 'world': 32008,\n",
              " 'man': 17543,\n",
              " 'suit': 28143,\n",
              " 'humping': 14041,\n",
              " 'fearless': 10766,\n",
              " 'girl': 12224,\n",
              " 'statue': 27595,\n",
              " 'need': 19486,\n",
              " 'feminism': 10840,\n",
              " 'creepy': 7000,\n",
              " 'speaks': 27177,\n",
              " 'volumes': 31189,\n",
              " 'uber': 30125,\n",
              " 'driver': 9062,\n",
              " 'passenger': 21092,\n",
              " 'pulled': 22947,\n",
              " 'gun': 12836,\n",
              " 'said': 25136,\n",
              " 'hate': 13216,\n",
              " 'turban': 30002,\n",
              " 'people': 21363,\n",
              " 'gurjeet': 12854,\n",
              " 'singh': 26447,\n",
              " 'traumatized': 29706,\n",
              " 'coalition': 5829,\n",
              " 'reports': 24140,\n",
              " 'amazon': 1439,\n",
              " 'pulls': 22950,\n",
              " 'racist': 23215,\n",
              " 'slavery': 26634,\n",
              " 'gets': 12140,\n",
              " 'products': 22650,\n",
              " 'website': 31515,\n",
              " 'hell': 13418,\n",
              " 'pregnancy': 22399,\n",
              " 'disorder': 8542,\n",
              " 'exacts': 10217,\n",
              " 'toll': 29389,\n",
              " 'mothers': 18982,\n",
              " 'babies': 2447,\n",
              " 'health': 13312,\n",
              " 'care': 4750,\n",
              " 'funds': 11797,\n",
              " 'number': 19979,\n",
              " 'women': 31941,\n",
              " 'diagnosed': 8225,\n",
              " 'preeclampsia': 22382,\n",
              " 'rising': 24652,\n",
              " '1980': 184,\n",
              " 'detox': 8157,\n",
              " 'rupaul': 25033,\n",
              " 'drag': 8965,\n",
              " 'race': 23205,\n",
              " 'discusses': 8478,\n",
              " 'passion': 21098,\n",
              " 'fashion': 10690,\n",
              " 'favorite': 10743,\n",
              " 'talks': 28641,\n",
              " 'madonna': 17393,\n",
              " 'mugler': 19098,\n",
              " 'playing': 21873,\n",
              " 'newlywed': 19622,\n",
              " 'game': 11906,\n",
              " 'led': 16577,\n",
              " 'divorce': 8703,\n",
              " 'worse': 32021,\n",
              " 'realizing': 23507,\n",
              " 'spouse': 27363,\n",
              " 'having': 13244,\n",
              " 'thought': 29150,\n",
              " 'dawn': 7514,\n",
              " 'sheepish': 26087,\n",
              " 'sheep': 26085,\n",
              " 'head': 13281,\n",
              " 'stuck': 27975,\n",
              " 'inside': 14769,\n",
              " 'orange': 20398,\n",
              " 'traffic': 29597,\n",
              " 'cone': 6306,\n",
              " 'thankfully': 29049,\n",
              " 'animal': 1605,\n",
              " 'rescuer': 24205,\n",
              " 'freed': 11610,\n",
              " 'ewe': 10209,\n",
              " 'predicament': 22366,\n",
              " 'survived': 28339,\n",
              " 'year': 32192,\n",
              " 'kids': 15942,\n",
              " 'hospital': 13866,\n",
              " 'ago': 1107,\n",
              " 'breathtaking': 3974,\n",
              " 'labor': 16235,\n",
              " 'pains': 20830,\n",
              " 'occupied': 20134,\n",
              " 'body': 3621,\n",
              " 'anticipation': 1685,\n",
              " 'meeting': 18139,\n",
              " 'final': 10994,\n",
              " 'nyt': 20034,\n",
              " 'publisher': 22916,\n",
              " 'writes': 32087,\n",
              " 'ditched': 8670,\n",
              " 'subscriptions': 28053,\n",
              " 'bret': 3993,\n",
              " 'stephens': 27671,\n",
              " 'company': 6132,\n",
              " 'fortunate': 11483,\n",
              " 'principled': 22557,\n",
              " 'independent': 14512,\n",
              " 'minded': 18520,\n",
              " 'conservative': 6434,\n",
              " 'writer': 32085,\n",
              " 'like': 16859,\n",
              " 'arthur': 2010,\n",
              " 'sulzberger': 28160,\n",
              " 'jr': 15561,\n",
              " 'wrote': 32098,\n",
              " 'west': 31613,\n",
              " 'virginia': 31090,\n",
              " 'native': 19398,\n",
              " 'recalls': 23569,\n",
              " 'flood': 11227,\n",
              " 'changed': 5167,\n",
              " 'life': 16817,\n",
              " 'horrible': 13847,\n",
              " 'sensation': 25822,\n",
              " 'water': 31441,\n",
              " 'delaware': 7792,\n",
              " 'prison': 22575,\n",
              " 'officer': 20198,\n",
              " 'inmates': 14733,\n",
              " 'hold': 13674,\n",
              " 'staff': 27465,\n",
              " 'hostage': 13872,\n",
              " 'uprising': 30650,\n",
              " 'began': 2963,\n",
              " 'midday': 18416,\n",
              " 'wednesday': 31529,\n",
              " 'lasted': 16398,\n",
              " 'overnight': 20674,\n",
              " 'waters': 31451,\n",
              " 'don': 8826,\n",
              " 'voted': 31211,\n",
              " 'afflict': 1040,\n",
              " 'equitably': 9960,\n",
              " 'rest': 24308,\n",
              " 'easy': 9329,\n",
              " 'myth': 19259,\n",
              " 'busting': 4379,\n",
              " 'bedding': 2930,\n",
              " 'mattresses': 17909,\n",
              " 'bed': 2928,\n",
              " 'excited': 10256,\n",
              " 'dive': 8676,\n",
              " 'long': 17111,\n",
              " 'day': 7517,\n",
              " 'dread': 9005,\n",
              " 'crawling': 6956,\n",
              " 'lumpy': 17282,\n",
              " 'brain': 3881,\n",
              " 'infecting': 14612,\n",
              " 'rat': 23411,\n",
              " 'lungworm': 17296,\n",
              " 'spreads': 27374,\n",
              " 'florida': 11247,\n",
              " 'parasite': 20998,\n",
              " 'infect': 14610,\n",
              " 'cause': 4961,\n",
              " 'meningitis': 18229,\n",
              " 'trevor': 29781,\n",
              " 'noah': 19766,\n",
              " 'breaks': 3955,\n",
              " 'flaw': 11164,\n",
              " 'facebook': 10511,\n",
              " 'new': 19610,\n",
              " 'dating': 7498,\n",
              " 'feature': 10779,\n",
              " 'yeah': 32191,\n",
              " 'finger': 11019,\n",
              " 'pulse': 22954,\n",
              " 'sideline': 26336,\n",
              " 'reporter': 24137,\n",
              " 'semitic': 25802,\n",
              " 'live': 16999,\n",
              " 'emily': 9647,\n",
              " 'austen': 2296,\n",
              " 'reprimanded': 24158,\n",
              " 'fox': 11519,\n",
              " 'sports': 27343,\n",
              " 'insensitive': 14764,\n",
              " 'remarks': 24004,\n",
              " 'play': 21861,\n",
              " 'cops': 6678,\n",
              " 'robbers': 24711,\n",
              " 'image': 14270,\n",
              " 'aims': 1158,\n",
              " 'law': 16463,\n",
              " 'enforcement': 9781,\n",
              " 'change': 5166,\n",
              " 'comfortable': 6045,\n",
              " 'aspiring': 2089,\n",
              " 'join': 15493,\n",
              " 'ranks': 23362,\n",
              " 'oscar': 20495,\n",
              " 'isaac': 15141,\n",
              " 'powerful': 22285,\n",
              " 'flawed': 11165,\n",
              " 'latino': 16414,\n",
              " 'character': 5198,\n",
              " 'violent': 31082,\n",
              " 'reality': 23502,\n",
              " 'tv': 30056,\n",
              " 'racial': 23210,\n",
              " 'politics': 22057,\n",
              " 'sure': 28287,\n",
              " 'did': 8266,\n",
              " 'make': 17480,\n",
              " 'arrest': 1982,\n",
              " 'infamous': 14601,\n",
              " 'golden': 12382,\n",
              " 'state': 27571,\n",
              " 'killer': 15951,\n",
              " 'case': 4853,\n",
              " 'report': 24134,\n",
              " 'nearly': 19465,\n",
              " '50': 391,\n",
              " 'years': 32199,\n",
              " 'homicide': 13747,\n",
              " 'cloud': 5787,\n",
              " 'computing': 6234,\n",
              " 'surprise': 28314,\n",
              " 'win': 31811,\n",
              " 'preakness': 22342,\n",
              " 'classic': 5648,\n",
              " 'empire': 9684,\n",
              " 'finished': 11026,\n",
              " 'second': 25695,\n",
              " 'derby': 8022,\n",
              " 'winner': 31843,\n",
              " 'dreaming': 9021,\n",
              " 'faded': 10543,\n",
              " 'deaths': 7567,\n",
              " 'linked': 16930,\n",
              " 'borne': 3761,\n",
              " 'bacteria': 2501,\n",
              " 'confirmed': 6333,\n",
              " 'puerto': 22926,\n",
              " 'rico': 24555,\n",
              " 'epidemiologist': 9926,\n",
              " 'carmen': 4794,\n",
              " 'deseda': 8059,\n",
              " 'told': 29379,\n",
              " 'huffpost': 13979,\n",
              " 'fear': 10762,\n",
              " 'outbreak': 20547,\n",
              " 'approach': 1826,\n",
              " 'retirement': 24386,\n",
              " 'ridiculous': 24574,\n",
              " 'unawares': 30201,\n",
              " 'baby': 2450,\n",
              " 'boom': 3725,\n",
              " 'generation': 12056,\n",
              " 'verge': 30919,\n",
              " 'retiring': 24389,\n",
              " 'near': 19459,\n",
              " 'assets': 2123,\n",
              " 'old': 20241,\n",
              " 'age': 1075,\n",
              " 'home': 13718,\n",
              " 'isn': 15172,\n",
              " 'heart': 13330,\n",
              " 'exploring': 10406,\n",
              " 'places': 21806,\n",
              " 'therapist': 29091,\n",
              " 'worker': 31993,\n",
              " 'ok': 20227,\n",
              " 'actually': 818,\n",
              " 'knowing': 16082,\n",
              " 'going': 12377,\n",
              " 'talk': 28636,\n",
              " 'california': 4521,\n",
              " 'wild': 31765,\n",
              " 'climate': 5730,\n",
              " 'volatile': 31177,\n",
              " 'temperatures': 28907,\n",
              " 'rise': 24649,\n",
              " 'wetter': 31632,\n",
              " 'wets': 31630,\n",
              " 'drier': 9044,\n",
              " 'dries': 9045,\n",
              " 'ahead': 1126,\n",
              " 'debra': 7584,\n",
              " 'messing': 18308,\n",
              " 'asked': 2069,\n",
              " 'grace': 12493,\n",
              " 'feminist': 10841,\n",
              " 'revival': 24477,\n",
              " 'karen': 15732,\n",
              " 'story': 27817,\n",
              " 'gingrich': 12214,\n",
              " 'mistaken': 18665,\n",
              " 'shariah': 26041,\n",
              " 'deportations': 7986,\n",
              " 'newt': 19648,\n",
              " 'holds': 13684,\n",
              " 'ph': 21529,\n",
              " 'european': 10129,\n",
              " 'presumptively': 22492,\n",
              " 'educated': 9420,\n",
              " 'delivered': 7826,\n",
              " 'russian': 25051,\n",
              " 'media': 18101,\n",
              " 'just': 15646,\n",
              " 'loves': 17217,\n",
              " 'donald': 8827,\n",
              " 'trump': 29900,\n",
              " 'indecent': 14504,\n",
              " 'budget': 4209,\n",
              " 'proposal': 22761,\n",
              " 'apparently': 1763,\n",
              " 'wealthiest': 31491,\n",
              " 'cabinet': 4452,\n",
              " 'considers': 6447,\n",
              " 'meals': 18055,\n",
              " 'wheels': 31661,\n",
              " 'seniors': 25819,\n",
              " 'programs': 22685,\n",
              " 'alleviate': 1331,\n",
              " 'child': 5387,\n",
              " 'hunger': 14050,\n",
              " 'wasteful': 31429,\n",
              " 'teacher': 28804,\n",
              " 'lost': 17178,\n",
              " 'classroom': 5661,\n",
              " 'tornado': 29467,\n",
              " 'donorschoose': 8848,\n",
              " 'came': 4560,\n",
              " 'rescue': 24203,\n",
              " 'nonprofit': 19822,\n",
              " 'stepped': 27683,\n",
              " 'provide': 22840,\n",
              " 'oasis': 20048,\n",
              " 'read': 23481,\n",
              " 'letter': 16718,\n",
              " 'brought': 4127,\n",
              " 'tears': 28825,\n",
              " 'tonight': 29422,\n",
              " 'confident': 6322,\n",
              " 'decision': 7632,\n",
              " 'normal': 19854,\n",
              " 'polish': 22045,\n",
              " 'leader': 16516,\n",
              " 'faces': 10517,\n",
              " 'backlash': 2480,\n",
              " 'suggesting': 28134,\n",
              " 'jews': 15432,\n",
              " 'shared': 26037,\n",
              " 'holocaust': 13709,\n",
              " 'blame': 3412,\n",
              " 'prime': 22543,\n",
              " 'minister': 18554,\n",
              " 'mateusz': 17876,\n",
              " 'morawiecki': 18919,\n",
              " 'trying': 29938,\n",
              " 'clear': 5685,\n",
              " 'revisionist': 24466,\n",
              " 'israel': 15179,\n",
              " 'lobby': 17041,\n",
              " 'pushing': 23041,\n",
              " 'ban': 2616,\n",
              " 'campus': 4596,\n",
              " 'criticism': 7053,\n",
              " 'guess': 12793,\n",
              " 'sign': 26366,\n",
              " 'desperation': 8098,\n",
              " 'young': 32272,\n",
              " 'community': 6120,\n",
              " 'large': 16375,\n",
              " 'drinking': 9056,\n",
              " 'exaggerated': 10218,\n",
              " 'anxiety': 1713,\n",
              " 'messed': 18303,\n",
              " 'energy': 9778,\n",
              " 'flow': 11256,\n",
              " 'enjoy': 9806,\n",
              " 'nice': 19669,\n",
              " 'cold': 5913,\n",
              " 'beer': 2945,\n",
              " 'times': 29288,\n",
              " 'martini': 17794,\n",
              " 'tiny': 29311,\n",
              " 'beating': 2899,\n",
              " 'stem': 27652,\n",
              " 'cells': 5041,\n",
              " 'thump': 29203,\n",
              " 'eric': 9981,\n",
              " 'schneiderman': 25468,\n",
              " 'liberals': 16773,\n",
              " 'loved': 17209,\n",
              " 'generous': 12062,\n",
              " 'holiday': 13689,\n",
              " 'season': 25672,\n",
              " 'lead': 16515,\n",
              " 'savings': 25349,\n",
              " 'tax': 28778,\n",
              " 'time': 29278,\n",
              " 'donating': 8833,\n",
              " 'charities': 5217,\n",
              " 'great': 12611,\n",
              " 'observe': 20100,\n",
              " 'charitable': 5216,\n",
              " 'donation': 8834,\n",
              " 'rules': 25007,\n",
              " 'maximize': 17929,\n",
              " 'deduction': 7685,\n",
              " 'getting': 12142,\n",
              " 'bigger': 3236,\n",
              " 'refund': 23802,\n",
              " 'good': 12404,\n",
              " 'deed': 7689,\n",
              " 'efforts': 9449,\n",
              " 'michael': 18375,\n",
              " 'cohen': 5897,\n",
              " 'comments': 6082,\n",
              " 'costing': 6773,\n",
              " 'president': 22469,\n",
              " 'shot': 26232,\n",
              " 'foot': 11372,\n",
              " 'telling': 28897,\n",
              " 'friends': 11677,\n",
              " 'performed': 21403,\n",
              " 'bit': 3345,\n",
              " 'legal': 16603,\n",
              " 'cool': 6644,\n",
              " 'decades': 7602,\n",
              " 'look': 17127,\n",
              " '2013': 226,\n",
              " 'turning': 30026,\n",
              " 'point': 21991,\n",
              " 'action': 798,\n",
              " 'groundswell': 12737,\n",
              " 'grassroots': 12579,\n",
              " 'activism': 806,\n",
              " 'seeing': 25732,\n",
              " 'gathering': 11982,\n",
              " 'momentum': 18808,\n",
              " 'sweeps': 28440,\n",
              " 'nation': 19388,\n",
              " 'clean': 5677,\n",
              " 'future': 11834,\n",
              " 'stay': 27604,\n",
              " 'professional': 22657,\n",
              " 'business': 4368,\n",
              " 'lifson': 16835,\n",
              " 'workplace': 32000,\n",
              " 'landscape': 16336,\n",
              " 'given': 12242,\n",
              " 'access': 696,\n",
              " 'information': 14655,\n",
              " 'note': 19897,\n",
              " 'napkin': 19330,\n",
              " 'thief': 29106,\n",
              " 'broke': 4098,\n",
              " 'car': 4715,\n",
              " 'steal': 27619,\n",
              " 'kit': 16012,\n",
              " 'kat': 15758,\n",
              " 'trick': 29800,\n",
              " 'treat': 29737,\n",
              " 'learned': 16549,\n",
              " 'step': 27660,\n",
              " 'stepfamily': 27666,\n",
              " 'took': 29433,\n",
              " 'entire': 9872,\n",
              " 'childhood': 5391,\n",
              " 'erase': 9974,\n",
              " 'line': 16908,\n",
              " 'family': 10614,\n",
              " 'mother': 18977,\n",
              " 'tribute': 29798,\n",
              " 'marital': 17727,\n",
              " 'consequences': 6427,\n",
              " 'partner': 21070,\n",
              " 'responds': 24300,\n",
              " 'couples': 6834,\n",
              " 'discovered': 8461,\n",
              " 'midst': 18428,\n",
              " 'painful': 20824,\n",
              " 'circumstances': 5576,\n",
              " 'intention': 14875,\n",
              " 'heal': 13307,\n",
              " 'repair': 24095,\n",
              " 'responsibility': 24304,\n",
              " 'previously': 22517,\n",
              " 'impossible': 14380,\n",
              " 'couple': 6830,\n",
              " 'headed': 13289,\n",
              " 'kicked': 15921,\n",
              " 'united': 30439,\n",
              " 'flight': 11196,\n",
              " 'sat': 25300,\n",
              " 'unassigned': 30194,\n",
              " 'seats': 25684,\n",
              " 'got': 12454,\n",
              " 'boot': 3740,\n",
              " 'announces': 1641,\n",
              " 'series': 25885,\n",
              " 'hires': 13611,\n",
              " 'today': 29360,\n",
              " 'announced': 1636,\n",
              " 'newsrooms': 19643,\n",
              " 'globe': 12302,\n",
              " 'news': 19626,\n",
              " 'roles': 24798,\n",
              " 'existing': 10318,\n",
              " 'singer': 26445,\n",
              " 'actress': 813,\n",
              " 'lena': 16657,\n",
              " 'hall': 12971,\n",
              " 'honors': 13791,\n",
              " 'cranberries': 6924,\n",
              " 'chilling': 5403,\n",
              " 'zombie': 32392,\n",
              " 'cover': 6863,\n",
              " 'star': 27527,\n",
              " 'credits': 6993,\n",
              " 'dolores': 8795,\n",
              " 'riordan': 24630,\n",
              " 'showing': 26257,\n",
              " 'feminine': 10838,\n",
              " 'strong': 27944,\n",
              " 'empowered': 9696,\n",
              " 'accuser': 747,\n",
              " 'wins': 31851,\n",
              " 'democratic': 7869,\n",
              " 'nomination': 19796,\n",
              " 'ohio': 20220,\n",
              " 'legislature': 16623,\n",
              " 'rachel': 23209,\n",
              " 'crooks': 7081,\n",
              " 'forcibly': 11398,\n",
              " 'kissed': 16009,\n",
              " 'tower': 29539,\n",
              " '2005': 217,\n",
              " 'things': 29114,\n",
              " 'homebuyer': 13723,\n",
              " 'know': 16081,\n",
              " 'check': 5279,\n",
              " 'tips': 29314,\n",
              " 'avoid': 2365,\n",
              " 'common': 6105,\n",
              " 'buying': 4418,\n",
              " 'mistakes': 18667,\n",
              " 'thrilling': 29173,\n",
              " 'ester': 10079,\n",
              " 'ledecka': 16579,\n",
              " 'makes': 17485,\n",
              " 'olympic': 20268,\n",
              " 'snowboard': 26883,\n",
              " 'gold': 12379,\n",
              " 'won': 31943,\n",
              " 'skiing': 26549,\n",
              " 'snowboarding': 26886,\n",
              " 'events': 10174,\n",
              " 'pyeongchang': 23057,\n",
              " 'rainbow': 23274,\n",
              " 'bridge': 4022,\n",
              " 'sweetest': 28444,\n",
              " 'genuine': 12091,\n",
              " 'relationships': 23935,\n",
              " 'dog': 8763,\n",
              " 'cranston': 6933,\n",
              " 'marriage': 17764,\n",
              " 'breaking': 3953,\n",
              " 'bad': 2502,\n",
              " 'actor': 811,\n",
              " 'attend': 2222,\n",
              " 'therapy': 29093,\n",
              " 'believe': 3022,\n",
              " 'person': 21469,\n",
              " 'quite': 23176,\n",
              " 'frankly': 11569,\n",
              " 'adults': 957,\n",
              " 'conditional': 6288,\n",
              " 'saying': 25363,\n",
              " 'prenup': 22422,\n",
              " 'prenups': 22423,\n",
              " 'daunting': 7502,\n",
              " 'process': 22617,\n",
              " 'mutual': 19230,\n",
              " 'self': 25772,\n",
              " 'discovery': 8465,\n",
              " 'run': 25019,\n",
              " 'better': 3174,\n",
              " 'house': 13901,\n",
              " 'closets': 5779,\n",
              " 'layers': 16491,\n",
              " 'clutter': 5809,\n",
              " 'mess': 18298,\n",
              " 'chaos': 5183,\n",
              " 'closed': 5770,\n",
              " 'door': 8864,\n",
              " '11': 35,\n",
              " 'reasons': 23529,\n",
              " 'visit': 31117,\n",
              " 'mexico': 18359,\n",
              " 'city': 5599,\n",
              " 'immediately': 14302,\n",
              " 'vámonos': 31244,\n",
              " '10': 16,\n",
              " 'summer': 28169,\n",
              " 'road': 24690,\n",
              " 'trip': 29835,\n",
              " 'ready': 23491,\n",
              " 'haves': 13243,\n",
              " 'spending': 27238,\n",
              " 'hours': 13900,\n",
              " 'happy': 13099,\n",
              " 'driving': 9067,\n",
              " 'mexican': 18357,\n",
              " 'american': 1468,\n",
              " 'slam': 26607,\n",
              " 'poet': 21982,\n",
              " 'wanna': 31365,\n",
              " 'taught': 28772,\n",
              " 'states': 27578,\n",
              " 'sue': 28112,\n",
              " 'epa': 9917,\n",
              " 'midwest': 18433,\n",
              " 'air': 1160,\n",
              " 'pollution': 22079,\n",
              " 'impose': 14376,\n",
              " 'stringent': 27924,\n",
              " 'controls': 6588,\n",
              " 'midwestern': 18434,\n",
              " 'claim': 5614,\n",
              " 'blown': 3543,\n",
              " 'direction': 8381,\n",
              " 'chaka': 5127,\n",
              " 'khan': 15903,\n",
              " 'returns': 24410,\n",
              " 'adoring': 938,\n",
              " 'atlanta': 2187,\n",
              " 'audience': 2266,\n",
              " 'cobb': 5848,\n",
              " 'performing': 21406,\n",
              " 'arts': 2026,\n",
              " 'center': 5062,\n",
              " 'echidnas': 9354,\n",
              " 'called': 4526,\n",
              " 'puggles': 22936,\n",
              " 'awesome': 2393,\n",
              " 'weirdly': 31569,\n",
              " 'cute': 7303,\n",
              " 'little': 16991,\n",
              " 'buddies': 4206,\n",
              " 'al': 1207,\n",
              " 'madrigal': 17395,\n",
              " 'explains': 10383,\n",
              " 'thinks': 29121,\n",
              " 'latinos': 16415,\n",
              " 'vote': 31210,\n",
              " 'daily': 7360,\n",
              " 'alum': 1404,\n",
              " 'takes': 28623,\n",
              " 'comedy': 6038,\n",
              " 'special': 27183,\n",
              " 'shouldn': 26237,\n",
              " 'shop': 26200,\n",
              " 'walmart': 31338,\n",
              " 'friday': 11663,\n",
              " 'widening': 31734,\n",
              " 'inequality': 14586,\n",
              " 'reflected': 23771,\n",
              " 'gap': 11923,\n",
              " 'pay': 21210,\n",
              " 'workers': 31994,\n",
              " 'investors': 15036,\n",
              " 'including': 14463,\n",
              " 'walton': 31345,\n",
              " 'haunts': 13237,\n",
              " 'economy': 9376,\n",
              " 'ivanka': 15219,\n",
              " 'punk': 22987,\n",
              " 'phase': 21545,\n",
              " 'folks': 11337,\n",
              " 'online': 20301,\n",
              " 'aren': 1906,\n",
              " 'ripped': 24640,\n",
              " 'fishnet': 11078,\n",
              " 'stocking': 27762,\n",
              " 'limo': 16896,\n",
              " 'rich': 24540,\n",
              " 'fighting': 10954,\n",
              " 'wealthy': 31492,\n",
              " 'millennials': 18489,\n",
              " 'society': 26945,\n",
              " 'north': 19868,\n",
              " 'korean': 16125,\n",
              " 'prisons': 22578,\n",
              " 'nazi': 19436,\n",
              " 'concentration': 6248,\n",
              " 'camps': 4594,\n",
              " 'survivor': 28342,\n",
              " 'comparable': 6133,\n",
              " 'situation': 26502,\n",
              " 'past': 21109,\n",
              " 'present': 22457,\n",
              " 'expert': 10372,\n",
              " 'warning': 31396,\n",
              " 'groupon': 12741,\n",
              " 'dangerous': 7423,\n",
              " 'wealth': 31490,\n",
              " 'merchants': 18257,\n",
              " 'basically': 2783,\n",
              " 'looks': 17131,\n",
              " 'innovative': 14746,\n",
              " 'advertising': 983,\n",
              " 'mechanism': 18090,\n",
              " 'loan': 17033,\n",
              " 'broker': 4101,\n",
              " 'arranging': 1980,\n",
              " 'bundles': 4290,\n",
              " 'small': 26752,\n",
              " 'loans': 17034,\n",
              " 'consumers': 6500,\n",
              " 'substantial': 28066,\n",
              " 'cut': 7301,\n",
              " 'equation': 9952,\n",
              " 'omega': 20277,\n",
              " 'supplements': 28259,\n",
              " 'protect': 22800,\n",
              " 'disease': 8483,\n",
              " 'study': 27984,\n",
              " 'sold': 26979,\n",
              " '25': 272,\n",
              " 'billion': 3264,\n",
              " '2011': 224,\n",
              " 'market': 17736,\n",
              " 'estimated': 10082,\n",
              " 'grow': 12746,\n",
              " '15': 75,\n",
              " 'percent': 21379,\n",
              " 'global': 12297,\n",
              " 'search': 25661,\n",
              " 'education': 9423,\n",
              " 'bloggers': 3511,\n",
              " 'cultivating': 7212,\n",
              " 'readers': 23483,\n",
              " 'trapped': 29694,\n",
              " 'bakery': 2558,\n",
              " 'bake': 2553,\n",
              " 'hundreds': 14045,\n",
              " 'loaves': 17038,\n",
              " 'harvey': 13189,\n",
              " 'victims': 30994,\n",
              " 'employees': 9689,\n",
              " 'example': 10228,\n",
              " 'execution': 10282,\n",
              " 'killed': 15950,\n",
              " 'arizona': 1936,\n",
              " 'cop': 6662,\n",
              " 'laney': 16344,\n",
              " 'sweet': 28441,\n",
              " 'husband': 14084,\n",
              " 'ar': 1860,\n",
              " 'rifle': 24587,\n",
              " 'bearing': 2889,\n",
              " 'inscription': 14758,\n",
              " 'ked': 15801,\n",
              " 'court': 6847,\n",
              " 'documents': 8751,\n",
              " 'highest': 13543,\n",
              " 'lowest': 17231,\n",
              " 'smoking': 26797,\n",
              " 'rates': 23415,\n",
              " 'rate': 23413,\n",
              " 'country': 6825,\n",
              " 'utah': 30724,\n",
              " 'researchers': 24213,\n",
              " 'noted': 19900,\n",
              " 'high': 13541,\n",
              " 'money': 18830,\n",
              " 'try': 29937,\n",
              " 'changing': 5171,\n",
              " 'attitude': 2236,\n",
              " 'scientists': 25513,\n",
              " 'say': 25360,\n",
              " 'rebukes': 23564,\n",
              " 'jerusalem': 15404,\n",
              " 'overwhelming': 20727,\n",
              " 'threatened': 29160,\n",
              " 'funding': 11793,\n",
              " 'countries': 6824,\n",
              " 'pre': 22336,\n",
              " 'power': 22282,\n",
              " 'pose': 22194,\n",
              " 'doing': 8778,\n",
              " 'instead': 14807,\n",
              " 'vacation': 30748,\n",
              " 'sabbatical': 25083,\n",
              " 'wailed': 31280,\n",
              " 'coach': 5821,\n",
              " 'months': 18882,\n",
              " 'lofty': 17078,\n",
              " '2017': 231,\n",
              " 'goals': 12343,\n",
              " 'extensive': 10435,\n",
              " 'list': 16960,\n",
              " 'lined': 16912,\n",
              " 'mumps': 19139,\n",
              " 'rises': 24651,\n",
              " '212': 253,\n",
              " 'cases': 4855,\n",
              " 'reported': 24135,\n",
              " 'franklin': 11568,\n",
              " 'counties': 6821,\n",
              " 'april': 1845,\n",
              " 'reuters': 24426,\n",
              " 'central': 5069,\n",
              " 'extreme': 10463,\n",
              " 'weather': 31505,\n",
              " 'week': 31537,\n",
              " 'representatives': 24150,\n",
              " 'passed': 21091,\n",
              " 'insurance': 14840,\n",
              " 'hurricane': 14074,\n",
              " 'sandy': 25253,\n",
              " 'steelers': 27632,\n",
              " 'fans': 10636,\n",
              " 'lose': 17170,\n",
              " 'nfl': 19654,\n",
              " 'reverses': 24452,\n",
              " 'touchdown': 29504,\n",
              " 'catch': 4916,\n",
              " 'rigged': 24592,\n",
              " 'fan': 10619,\n",
              " 'christmas': 5499,\n",
              " 'rage': 23252,\n",
              " 'room': 24850,\n",
              " 'lets': 16717,\n",
              " 'wreck': 32061,\n",
              " 'halls': 12980,\n",
              " ...}"
            ]
          },
          "metadata": {
            "tags": []
          },
          "execution_count": 30
        }
      ]
    },
    {
      "cell_type": "code",
      "metadata": {
        "id": "t3K6TvnmpYaB",
        "colab_type": "code",
        "colab": {
          "base_uri": "https://localhost:8080/",
          "height": 51
        },
        "outputId": "67b20d30-c1f3-431a-9b84-b9649b16435e"
      },
      "source": [
        "# another way of representing the features\n",
        "X_train_transformed_case_2_split_1 = vec.transform(X_train_case_2_split_1)\n",
        "X_train_transformed_case_2_split_1"
      ],
      "execution_count": null,
      "outputs": [
        {
          "output_type": "execute_result",
          "data": {
            "text/plain": [
              "<22400x32445 sparse matrix of type '<class 'numpy.int64'>'\n",
              "\twith 320980 stored elements in Compressed Sparse Row format>"
            ]
          },
          "metadata": {
            "tags": []
          },
          "execution_count": 31
        }
      ]
    },
    {
      "cell_type": "code",
      "metadata": {
        "id": "wucr0yEjpsSU",
        "colab_type": "code",
        "colab": {
          "base_uri": "https://localhost:8080/",
          "height": 51
        },
        "outputId": "157fb504-9b99-46b0-d800-19f7c8e7653b"
      },
      "source": [
        "print(X_train_transformed_case_2_split_1.shape)\n",
        "type(X_train_transformed_case_2_split_1)"
      ],
      "execution_count": null,
      "outputs": [
        {
          "output_type": "stream",
          "text": [
            "(22400, 32445)\n"
          ],
          "name": "stdout"
        },
        {
          "output_type": "execute_result",
          "data": {
            "text/plain": [
              "scipy.sparse.csr.csr_matrix"
            ]
          },
          "metadata": {
            "tags": []
          },
          "execution_count": 32
        }
      ]
    },
    {
      "cell_type": "code",
      "metadata": {
        "id": "cGr8t05AsSFs",
        "colab_type": "code",
        "colab": {
          "base_uri": "https://localhost:8080/",
          "height": 51
        },
        "outputId": "3add1e40-4791-439a-c8ed-40ef89a3165a"
      },
      "source": [
        "# for test data\n",
        "X_test_transformed_case_2_split_1 = vec.transform(X_test_case_2_split_1)\n",
        "X_test_transformed_case_2_split_1"
      ],
      "execution_count": null,
      "outputs": [
        {
          "output_type": "execute_result",
          "data": {
            "text/plain": [
              "<9600x32445 sparse matrix of type '<class 'numpy.int64'>'\n",
              "\twith 131746 stored elements in Compressed Sparse Row format>"
            ]
          },
          "metadata": {
            "tags": []
          },
          "execution_count": 33
        }
      ]
    },
    {
      "cell_type": "code",
      "metadata": {
        "id": "kpt6CusFqo-O",
        "colab_type": "code",
        "colab": {}
      },
      "source": [
        ""
      ],
      "execution_count": null,
      "outputs": []
    },
    {
      "cell_type": "markdown",
      "metadata": {
        "id": "JtojJmH0wikd",
        "colab_type": "text"
      },
      "source": [
        "**Be careful and sure each time you train models, they may take a lot of time**"
      ]
    },
    {
      "cell_type": "markdown",
      "metadata": {
        "id": "MBwRvEf-rQTT",
        "colab_type": "text"
      },
      "source": [
        "#### **LOGISTIC REGRESSION**"
      ]
    },
    {
      "cell_type": "code",
      "metadata": {
        "id": "NEOyKDBRrR5y",
        "colab_type": "code",
        "colab": {
          "base_uri": "https://localhost:8080/",
          "height": 102
        },
        "outputId": "c855deb4-f922-4054-87a8-1cb64451d002"
      },
      "source": [
        "from sklearn.linear_model import LogisticRegression\n",
        "\n",
        "logit = LogisticRegression(max_iter=1000)\n",
        "logit.fit(X_train_transformed_case_2_split_1, y_train_case_2_split_1)"
      ],
      "execution_count": null,
      "outputs": [
        {
          "output_type": "execute_result",
          "data": {
            "text/plain": [
              "LogisticRegression(C=1.0, class_weight=None, dual=False, fit_intercept=True,\n",
              "                   intercept_scaling=1, l1_ratio=None, max_iter=1000,\n",
              "                   multi_class='auto', n_jobs=None, penalty='l2',\n",
              "                   random_state=None, solver='lbfgs', tol=0.0001, verbose=0,\n",
              "                   warm_start=False)"
            ]
          },
          "metadata": {
            "tags": []
          },
          "execution_count": 34
        }
      ]
    },
    {
      "cell_type": "code",
      "metadata": {
        "id": "KefI9mPKrp56",
        "colab_type": "code",
        "colab": {}
      },
      "source": [
        "\n",
        "# predict class\n",
        "y_pred_class_case_2_split_1_reg_log = logit.predict(X_test_transformed_case_2_split_1)\n",
        "\n",
        "# predict probabilities\n",
        "y_pred_proba = logit.predict_proba(X_test_transformed_case_2_split_1)"
      ],
      "execution_count": null,
      "outputs": []
    },
    {
      "cell_type": "code",
      "metadata": {
        "id": "YBFZOdggvj9g",
        "colab_type": "code",
        "colab": {
          "base_uri": "https://localhost:8080/",
          "height": 680
        },
        "outputId": "7ae8e4b6-4221-4f80-a5d0-43a9540a9df1"
      },
      "source": [
        "from sklearn.metrics import classification_report\n",
        "print(classification_report(y_test_case_2_split_1, y_pred_class_case_2_split_1_reg_log))"
      ],
      "execution_count": null,
      "outputs": [
        {
          "output_type": "stream",
          "text": [
            "                precision    recall  f1-score   support\n",
            "\n",
            "ARTS & CULTURE       0.56      0.52      0.54       327\n",
            "  BLACK VOICES       0.53      0.49      0.51       316\n",
            "      BUSINESS       0.38      0.35      0.36       324\n",
            "         CRIME       0.61      0.59      0.60       300\n",
            "       DIVORCE       0.76      0.70      0.73       315\n",
            "     EDUCATION       0.63      0.66      0.64       309\n",
            " ENTERTAINMENT       0.57      0.56      0.56       324\n",
            "   ENVIRONMENT       0.60      0.47      0.53       280\n",
            "         FIFTY       0.43      0.38      0.40       323\n",
            "  FOOD & DRINK       0.51      0.70      0.59       272\n",
            "     GOOD NEWS       0.40      0.46      0.43       292\n",
            "         GREEN       0.49      0.45      0.47       309\n",
            "HEALTHY LIVING       0.35      0.37      0.36       297\n",
            " HOME & LIVING       0.77      0.71      0.74       314\n",
            "        IMPACT       0.32      0.37      0.34       290\n",
            " LATINO VOICES       0.72      0.58      0.64       311\n",
            "         MEDIA       0.55      0.63      0.59       262\n",
            "         MONEY       0.66      0.62      0.64       289\n",
            "       PARENTS       0.50      0.53      0.52       319\n",
            "      POLITICS       0.57      0.52      0.54       301\n",
            "  QUEER VOICES       0.74      0.66      0.70       278\n",
            "      RELIGION       0.65      0.63      0.64       295\n",
            "       SCIENCE       0.45      0.54      0.49       287\n",
            "        SPORTS       0.62      0.68      0.65       284\n",
            "STYLE & BEAUTY       0.55      0.65      0.60       310\n",
            "          TECH       0.54      0.61      0.57       285\n",
            "        TRAVEL       0.59      0.60      0.59       297\n",
            "      WEDDINGS       0.80      0.75      0.77       267\n",
            "    WEIRD NEWS       0.28      0.31      0.29       298\n",
            "      WELLNESS       0.48      0.38      0.42       320\n",
            "         WOMEN       0.41      0.47      0.44       322\n",
            "    WORLD NEWS       0.62      0.56      0.59       283\n",
            "\n",
            "      accuracy                           0.54      9600\n",
            "     macro avg       0.55      0.55      0.55      9600\n",
            "  weighted avg       0.55      0.54      0.54      9600\n",
            "\n"
          ],
          "name": "stdout"
        }
      ]
    },
    {
      "cell_type": "code",
      "metadata": {
        "id": "5KugYuf3Mp-l",
        "colab_type": "code",
        "colab": {}
      },
      "source": [
        "d = {'pred':y_pred_class_case_2_split_1_reg_log, 'true': y_test_case_2_split_1}\n",
        "pred_class_case_2_split_1_reg_log  = pd.DataFrame(d)\n",
        "\n",
        "pred_class_case_2_split_1_reg_log.to_csv('models_pred/pred_class_case_2_split_1_reg_log.csv')\n"
      ],
      "execution_count": null,
      "outputs": []
    },
    {
      "cell_type": "markdown",
      "metadata": {
        "id": "DdRLVwP_xCLh",
        "colab_type": "text"
      },
      "source": [
        "#### **NAIVE BAYSE**"
      ]
    },
    {
      "cell_type": "code",
      "metadata": {
        "id": "0edxV2S8w0Cf",
        "colab_type": "code",
        "colab": {
          "base_uri": "https://localhost:8080/",
          "height": 34
        },
        "outputId": "fdbe8f6f-a134-46bb-9be5-00273a38f21c"
      },
      "source": [
        "from sklearn.naive_bayes import MultinomialNB\n",
        "\n",
        "nb = MultinomialNB()\n",
        "nb.fit(X_train_transformed_case_2_split_1, y_train_case_2_split_1)"
      ],
      "execution_count": null,
      "outputs": [
        {
          "output_type": "execute_result",
          "data": {
            "text/plain": [
              "MultinomialNB(alpha=1.0, class_prior=None, fit_prior=True)"
            ]
          },
          "metadata": {
            "tags": []
          },
          "execution_count": 41
        }
      ]
    },
    {
      "cell_type": "code",
      "metadata": {
        "id": "AtCrRYPuxRXz",
        "colab_type": "code",
        "colab": {}
      },
      "source": [
        "# fit\n",
        "#nb.fit(X_transformed,y_train)\n",
        "\n",
        "# predict class\n",
        "y_pred_class_case_2_split_1_nb = nb.predict(X_test_transformed_case_2_split_1)\n",
        "\n",
        "# predict probabilities\n",
        "y_pred_proba = nb.predict_proba(X_test_transformed_case_2_split_1)"
      ],
      "execution_count": null,
      "outputs": []
    },
    {
      "cell_type": "code",
      "metadata": {
        "id": "LYJVLQFqxr8g",
        "colab_type": "code",
        "colab": {
          "base_uri": "https://localhost:8080/",
          "height": 680
        },
        "outputId": "7cd17317-1fd1-48d9-95ed-1b19036bf6c4"
      },
      "source": [
        "print(classification_report(y_test_case_2_split_1, y_pred_class_case_2_split_1_nb))"
      ],
      "execution_count": null,
      "outputs": [
        {
          "output_type": "stream",
          "text": [
            "                precision    recall  f1-score   support\n",
            "\n",
            "ARTS & CULTURE       0.62      0.39      0.48       327\n",
            "  BLACK VOICES       0.55      0.42      0.48       316\n",
            "      BUSINESS       0.57      0.26      0.36       324\n",
            "         CRIME       0.53      0.72      0.61       300\n",
            "       DIVORCE       0.54      0.76      0.63       315\n",
            "     EDUCATION       0.60      0.67      0.63       309\n",
            " ENTERTAINMENT       0.58      0.51      0.55       324\n",
            "   ENVIRONMENT       0.40      0.58      0.48       280\n",
            "         FIFTY       0.28      0.54      0.37       323\n",
            "  FOOD & DRINK       0.66      0.64      0.65       272\n",
            "     GOOD NEWS       0.52      0.48      0.50       292\n",
            "         GREEN       0.52      0.42      0.46       309\n",
            "HEALTHY LIVING       0.45      0.26      0.33       297\n",
            " HOME & LIVING       0.62      0.76      0.69       314\n",
            "        IMPACT       0.39      0.34      0.36       290\n",
            " LATINO VOICES       0.71      0.52      0.60       311\n",
            "         MEDIA       0.47      0.71      0.57       262\n",
            "         MONEY       0.45      0.75      0.56       289\n",
            "       PARENTS       0.59      0.48      0.53       319\n",
            "      POLITICS       0.48      0.61      0.54       301\n",
            "  QUEER VOICES       0.66      0.60      0.63       278\n",
            "      RELIGION       0.70      0.60      0.65       295\n",
            "       SCIENCE       0.66      0.43      0.52       287\n",
            "        SPORTS       0.66      0.68      0.67       284\n",
            "STYLE & BEAUTY       0.75      0.48      0.59       310\n",
            "          TECH       0.57      0.52      0.55       285\n",
            "        TRAVEL       0.64      0.54      0.58       297\n",
            "      WEDDINGS       0.56      0.79      0.66       267\n",
            "    WEIRD NEWS       0.48      0.18      0.27       298\n",
            "      WELLNESS       0.37      0.53      0.44       320\n",
            "         WOMEN       0.53      0.39      0.45       322\n",
            "    WORLD NEWS       0.62      0.59      0.60       283\n",
            "\n",
            "      accuracy                           0.53      9600\n",
            "     macro avg       0.55      0.54      0.53      9600\n",
            "  weighted avg       0.55      0.53      0.53      9600\n",
            "\n"
          ],
          "name": "stdout"
        }
      ]
    },
    {
      "cell_type": "code",
      "metadata": {
        "id": "6lJrC1cdMkJ2",
        "colab_type": "code",
        "colab": {}
      },
      "source": [
        "d = {'pred':y_pred_class_case_2_split_1_nb, 'true': y_test_case_2_split_1}\n",
        "pred_class_case_2_split_1_nb  = pd.DataFrame(d)\n",
        "\n",
        "pred_class_case_2_split_1_nb.to_csv('models_pred/pred_class_case_2_split_1_nb.csv')\n"
      ],
      "execution_count": null,
      "outputs": []
    },
    {
      "cell_type": "code",
      "metadata": {
        "id": "htUCg2EJxv0g",
        "colab_type": "code",
        "colab": {}
      },
      "source": [
        "import pickle \n",
        "  \n",
        "# Save the trained model as a pickle string. \n",
        "saved_model = pickle.dumps(nb) \n",
        "  \n",
        "# Load the pickled model \n",
        "nb_from_pickle = pickle.loads(saved_model)"
      ],
      "execution_count": null,
      "outputs": []
    },
    {
      "cell_type": "markdown",
      "metadata": {
        "colab_type": "text",
        "id": "aJqKVl_CybQn"
      },
      "source": [
        "#### **SUPPORT VECTOR MACHINE**"
      ]
    },
    {
      "cell_type": "code",
      "metadata": {
        "colab_type": "code",
        "id": "qua8uRfEybQt",
        "colab": {
          "base_uri": "https://localhost:8080/",
          "height": 85
        },
        "outputId": "f2565fb1-6717-407b-c3be-41d5bb53487d"
      },
      "source": [
        "from sklearn.svm import LinearSVC\n",
        "\n",
        "svm = LinearSVC()\n",
        "svm.fit(X_train_transformed_case_2_split_1, y_train_case_2_split_1)\n"
      ],
      "execution_count": null,
      "outputs": [
        {
          "output_type": "execute_result",
          "data": {
            "text/plain": [
              "LinearSVC(C=1.0, class_weight=None, dual=True, fit_intercept=True,\n",
              "          intercept_scaling=1, loss='squared_hinge', max_iter=1000,\n",
              "          multi_class='ovr', penalty='l2', random_state=None, tol=0.0001,\n",
              "          verbose=0)"
            ]
          },
          "metadata": {
            "tags": []
          },
          "execution_count": 46
        }
      ]
    },
    {
      "cell_type": "code",
      "metadata": {
        "id": "S4Fb3Enly0fL",
        "colab_type": "code",
        "colab": {}
      },
      "source": [
        "\n",
        "# predict class\n",
        "y_pred_class_case_2_split_1_svm = svm.predict(X_test_transformed_case_2_split_1)\n",
        "\n",
        "# predict probabilities\n"
      ],
      "execution_count": null,
      "outputs": []
    },
    {
      "cell_type": "code",
      "metadata": {
        "id": "zF98leSFzDjs",
        "colab_type": "code",
        "colab": {
          "base_uri": "https://localhost:8080/",
          "height": 680
        },
        "outputId": "22de9e50-cbc7-4673-ea7d-057ff7026bd1"
      },
      "source": [
        "print(classification_report(y_test_case_2_split_1, y_pred_class_case_2_split_1_svm))"
      ],
      "execution_count": null,
      "outputs": [
        {
          "output_type": "stream",
          "text": [
            "                precision    recall  f1-score   support\n",
            "\n",
            "ARTS & CULTURE       0.46      0.42      0.44       327\n",
            "  BLACK VOICES       0.49      0.46      0.47       316\n",
            "      BUSINESS       0.29      0.30      0.29       324\n",
            "         CRIME       0.58      0.51      0.54       300\n",
            "       DIVORCE       0.71      0.66      0.68       315\n",
            "     EDUCATION       0.56      0.61      0.58       309\n",
            " ENTERTAINMENT       0.54      0.49      0.52       324\n",
            "   ENVIRONMENT       0.56      0.42      0.48       280\n",
            "         FIFTY       0.36      0.33      0.34       323\n",
            "  FOOD & DRINK       0.51      0.64      0.57       272\n",
            "     GOOD NEWS       0.38      0.41      0.39       292\n",
            "         GREEN       0.42      0.40      0.41       309\n",
            "HEALTHY LIVING       0.32      0.33      0.33       297\n",
            " HOME & LIVING       0.76      0.67      0.71       314\n",
            "        IMPACT       0.25      0.31      0.28       290\n",
            " LATINO VOICES       0.66      0.61      0.63       311\n",
            "         MEDIA       0.53      0.61      0.57       262\n",
            "         MONEY       0.64      0.59      0.61       289\n",
            "       PARENTS       0.44      0.47      0.46       319\n",
            "      POLITICS       0.54      0.48      0.51       301\n",
            "  QUEER VOICES       0.65      0.68      0.66       278\n",
            "      RELIGION       0.57      0.59      0.58       295\n",
            "       SCIENCE       0.41      0.51      0.46       287\n",
            "        SPORTS       0.59      0.63      0.61       284\n",
            "STYLE & BEAUTY       0.53      0.63      0.57       310\n",
            "          TECH       0.45      0.57      0.50       285\n",
            "        TRAVEL       0.55      0.54      0.54       297\n",
            "      WEDDINGS       0.75      0.71      0.73       267\n",
            "    WEIRD NEWS       0.28      0.26      0.27       298\n",
            "      WELLNESS       0.44      0.30      0.36       320\n",
            "         WOMEN       0.37      0.40      0.39       322\n",
            "    WORLD NEWS       0.60      0.53      0.56       283\n",
            "\n",
            "      accuracy                           0.50      9600\n",
            "     macro avg       0.51      0.50      0.50      9600\n",
            "  weighted avg       0.50      0.50      0.50      9600\n",
            "\n"
          ],
          "name": "stdout"
        }
      ]
    },
    {
      "cell_type": "code",
      "metadata": {
        "id": "7cWVzCr1Me0T",
        "colab_type": "code",
        "colab": {}
      },
      "source": [
        "d = {'pred':y_pred_class_case_2_split_1_svm, 'true': y_test_case_2_split_1}\n",
        "pred_class_case_2_split_1_svm  = pd.DataFrame(d)\n",
        "\n",
        "pred_class_case_2_split_1_svm.to_csv('models_pred/pred_class_case_2_split_1_svm.csv')\n"
      ],
      "execution_count": null,
      "outputs": []
    },
    {
      "cell_type": "markdown",
      "metadata": {
        "id": "Y_WCcZDDzoDA",
        "colab_type": "text"
      },
      "source": [
        "#### **RANDOM FOREST**"
      ]
    },
    {
      "cell_type": "markdown",
      "metadata": {
        "id": "rrWkgp6a53WI",
        "colab_type": "text"
      },
      "source": [
        "**Please be carefull this models time a huge time to train, redo it only if you are sure**"
      ]
    },
    {
      "cell_type": "code",
      "metadata": {
        "id": "1j78Y9CRzPTX",
        "colab_type": "code",
        "colab": {
          "base_uri": "https://localhost:8080/",
          "height": 153
        },
        "outputId": "daf1e81e-8b79-4653-e04d-3458e26723ac"
      },
      "source": [
        "from sklearn.ensemble import RandomForestClassifier\n",
        "\n",
        "rf = RandomForestClassifier()\n",
        "rf.fit(X_train_transformed_case_2_split_1, y_train_case_2_split_1)"
      ],
      "execution_count": null,
      "outputs": [
        {
          "output_type": "execute_result",
          "data": {
            "text/plain": [
              "RandomForestClassifier(bootstrap=True, ccp_alpha=0.0, class_weight=None,\n",
              "                       criterion='gini', max_depth=None, max_features='auto',\n",
              "                       max_leaf_nodes=None, max_samples=None,\n",
              "                       min_impurity_decrease=0.0, min_impurity_split=None,\n",
              "                       min_samples_leaf=1, min_samples_split=2,\n",
              "                       min_weight_fraction_leaf=0.0, n_estimators=100,\n",
              "                       n_jobs=None, oob_score=False, random_state=None,\n",
              "                       verbose=0, warm_start=False)"
            ]
          },
          "metadata": {
            "tags": []
          },
          "execution_count": 50
        }
      ]
    },
    {
      "cell_type": "code",
      "metadata": {
        "id": "BicmY4NMzyl3",
        "colab_type": "code",
        "colab": {}
      },
      "source": [
        "y_pred_class_case_2_split_1_rf = rf.predict(X_test_transformed_case_2_split_1)\n",
        "# predict probabilities\n"
      ],
      "execution_count": null,
      "outputs": []
    },
    {
      "cell_type": "code",
      "metadata": {
        "id": "CceXv6FO0Q5D",
        "colab_type": "code",
        "colab": {
          "base_uri": "https://localhost:8080/",
          "height": 680
        },
        "outputId": "424285a4-233b-46f8-bb22-0f61be27b8d6"
      },
      "source": [
        "print(classification_report(y_test_case_2_split_1, y_pred_class_case_2_split_1_rf))"
      ],
      "execution_count": null,
      "outputs": [
        {
          "output_type": "stream",
          "text": [
            "                precision    recall  f1-score   support\n",
            "\n",
            "ARTS & CULTURE       0.28      0.48      0.36       327\n",
            "  BLACK VOICES       0.49      0.38      0.43       316\n",
            "      BUSINESS       0.31      0.31      0.31       324\n",
            "         CRIME       0.48      0.57      0.52       300\n",
            "       DIVORCE       0.69      0.67      0.68       315\n",
            "     EDUCATION       0.51      0.78      0.62       309\n",
            " ENTERTAINMENT       0.59      0.42      0.49       324\n",
            "   ENVIRONMENT       0.72      0.32      0.44       280\n",
            "         FIFTY       0.31      0.30      0.30       323\n",
            "  FOOD & DRINK       0.46      0.69      0.55       272\n",
            "     GOOD NEWS       0.33      0.23      0.27       292\n",
            "         GREEN       0.43      0.45      0.44       309\n",
            "HEALTHY LIVING       0.35      0.34      0.35       297\n",
            " HOME & LIVING       0.55      0.61      0.58       314\n",
            "        IMPACT       0.26      0.21      0.23       290\n",
            " LATINO VOICES       0.76      0.49      0.59       311\n",
            "         MEDIA       0.36      0.58      0.45       262\n",
            "         MONEY       0.65      0.47      0.55       289\n",
            "       PARENTS       0.47      0.64      0.54       319\n",
            "      POLITICS       0.50      0.43      0.46       301\n",
            "  QUEER VOICES       0.79      0.63      0.70       278\n",
            "      RELIGION       0.66      0.64      0.65       295\n",
            "       SCIENCE       0.37      0.54      0.44       287\n",
            "        SPORTS       0.55      0.62      0.58       284\n",
            "STYLE & BEAUTY       0.51      0.58      0.54       310\n",
            "          TECH       0.54      0.54      0.54       285\n",
            "        TRAVEL       0.54      0.59      0.56       297\n",
            "      WEDDINGS       0.72      0.74      0.73       267\n",
            "    WEIRD NEWS       0.26      0.16      0.20       298\n",
            "      WELLNESS       0.53      0.15      0.24       320\n",
            "         WOMEN       0.44      0.52      0.48       322\n",
            "    WORLD NEWS       0.57      0.45      0.50       283\n",
            "\n",
            "      accuracy                           0.48      9600\n",
            "     macro avg       0.50      0.48      0.48      9600\n",
            "  weighted avg       0.50      0.48      0.48      9600\n",
            "\n"
          ],
          "name": "stdout"
        }
      ]
    },
    {
      "cell_type": "code",
      "metadata": {
        "id": "qUwfyWtQMZep",
        "colab_type": "code",
        "colab": {}
      },
      "source": [
        "\n",
        "d = {'pred':y_pred_class_case_2_split_1_rf, 'true': y_test_case_2_split_1}\n",
        "pred_class_case_2_split_2_rf  = pd.DataFrame(d)\n",
        "\n",
        "pred_class_case_2_split_2_rf.to_csv('models_pred/pred_class_case_2_split_1_rf.csv')\n"
      ],
      "execution_count": null,
      "outputs": []
    },
    {
      "cell_type": "markdown",
      "metadata": {
        "id": "xkl03ZCT2W5U",
        "colab_type": "text"
      },
      "source": [
        "#### **BIDIRECTIONAL ENCODER REPRESENTATIONS FROM TRANSFORMERS**"
      ]
    },
    {
      "cell_type": "code",
      "metadata": {
        "id": "fw_GclZc2miI",
        "colab_type": "code",
        "colab": {
          "base_uri": "https://localhost:8080/",
          "height": 615
        },
        "outputId": "daabc315-788c-4879-a14f-f13461751042"
      },
      "source": [
        "#to be done one time\n",
        "!pip install transformers"
      ],
      "execution_count": null,
      "outputs": [
        {
          "output_type": "stream",
          "text": [
            "Collecting transformers\n",
            "\u001b[?25l  Downloading https://files.pythonhosted.org/packages/ae/05/c8c55b600308dc04e95100dc8ad8a244dd800fe75dfafcf1d6348c6f6209/transformers-3.1.0-py3-none-any.whl (884kB)\n",
            "\u001b[K     |████████████████████████████████| 890kB 2.7MB/s \n",
            "\u001b[?25hRequirement already satisfied: packaging in /usr/local/lib/python3.6/dist-packages (from transformers) (20.4)\n",
            "Requirement already satisfied: numpy in /usr/local/lib/python3.6/dist-packages (from transformers) (1.18.5)\n",
            "Requirement already satisfied: filelock in /usr/local/lib/python3.6/dist-packages (from transformers) (3.0.12)\n",
            "Collecting tokenizers==0.8.1.rc2\n",
            "\u001b[?25l  Downloading https://files.pythonhosted.org/packages/80/83/8b9fccb9e48eeb575ee19179e2bdde0ee9a1904f97de5f02d19016b8804f/tokenizers-0.8.1rc2-cp36-cp36m-manylinux1_x86_64.whl (3.0MB)\n",
            "\u001b[K     |████████████████████████████████| 3.0MB 8.8MB/s \n",
            "\u001b[?25hRequirement already satisfied: tqdm>=4.27 in /usr/local/lib/python3.6/dist-packages (from transformers) (4.41.1)\n",
            "Collecting sentencepiece!=0.1.92\n",
            "\u001b[?25l  Downloading https://files.pythonhosted.org/packages/d4/a4/d0a884c4300004a78cca907a6ff9a5e9fe4f090f5d95ab341c53d28cbc58/sentencepiece-0.1.91-cp36-cp36m-manylinux1_x86_64.whl (1.1MB)\n",
            "\u001b[K     |████████████████████████████████| 1.1MB 34.3MB/s \n",
            "\u001b[?25hRequirement already satisfied: requests in /usr/local/lib/python3.6/dist-packages (from transformers) (2.23.0)\n",
            "Requirement already satisfied: regex!=2019.12.17 in /usr/local/lib/python3.6/dist-packages (from transformers) (2019.12.20)\n",
            "Collecting sacremoses\n",
            "\u001b[?25l  Downloading https://files.pythonhosted.org/packages/7d/34/09d19aff26edcc8eb2a01bed8e98f13a1537005d31e95233fd48216eed10/sacremoses-0.0.43.tar.gz (883kB)\n",
            "\u001b[K     |████████████████████████████████| 890kB 38.8MB/s \n",
            "\u001b[?25hRequirement already satisfied: dataclasses; python_version < \"3.7\" in /usr/local/lib/python3.6/dist-packages (from transformers) (0.7)\n",
            "Requirement already satisfied: pyparsing>=2.0.2 in /usr/local/lib/python3.6/dist-packages (from packaging->transformers) (2.4.7)\n",
            "Requirement already satisfied: six in /usr/local/lib/python3.6/dist-packages (from packaging->transformers) (1.15.0)\n",
            "Requirement already satisfied: certifi>=2017.4.17 in /usr/local/lib/python3.6/dist-packages (from requests->transformers) (2020.6.20)\n",
            "Requirement already satisfied: urllib3!=1.25.0,!=1.25.1,<1.26,>=1.21.1 in /usr/local/lib/python3.6/dist-packages (from requests->transformers) (1.24.3)\n",
            "Requirement already satisfied: chardet<4,>=3.0.2 in /usr/local/lib/python3.6/dist-packages (from requests->transformers) (3.0.4)\n",
            "Requirement already satisfied: idna<3,>=2.5 in /usr/local/lib/python3.6/dist-packages (from requests->transformers) (2.10)\n",
            "Requirement already satisfied: click in /usr/local/lib/python3.6/dist-packages (from sacremoses->transformers) (7.1.2)\n",
            "Requirement already satisfied: joblib in /usr/local/lib/python3.6/dist-packages (from sacremoses->transformers) (0.16.0)\n",
            "Building wheels for collected packages: sacremoses\n",
            "  Building wheel for sacremoses (setup.py) ... \u001b[?25l\u001b[?25hdone\n",
            "  Created wheel for sacremoses: filename=sacremoses-0.0.43-cp36-none-any.whl size=893257 sha256=6c9db83c57f0814695e64cb802576be7beab91c59dad703355d37d20cde3294e\n",
            "  Stored in directory: /root/.cache/pip/wheels/29/3c/fd/7ce5c3f0666dab31a50123635e6fb5e19ceb42ce38d4e58f45\n",
            "Successfully built sacremoses\n",
            "Installing collected packages: tokenizers, sentencepiece, sacremoses, transformers\n",
            "Successfully installed sacremoses-0.0.43 sentencepiece-0.1.91 tokenizers-0.8.1rc2 transformers-3.1.0\n"
          ],
          "name": "stdout"
        }
      ]
    },
    {
      "cell_type": "code",
      "metadata": {
        "id": "uiA6bJL32-UM",
        "colab_type": "code",
        "colab": {}
      },
      "source": [
        "#utility class for the notebook manipulation\n",
        "from tqdm.notebook import tqdm\n",
        "\n",
        "\n",
        "import torch\n",
        "from transformers import BertTokenizer\n",
        "from torch.utils.data import TensorDataset\n",
        "\n",
        "from transformers import BertForSequenceClassification\n"
      ],
      "execution_count": null,
      "outputs": []
    },
    {
      "cell_type": "markdown",
      "metadata": {
        "id": "y20Xy1D2-OPv",
        "colab_type": "text"
      },
      "source": [
        "**BERT is very heavy in term of training  so it it necessary to use less data for traing or we gonna be stuck**"
      ]
    },
    {
      "cell_type": "code",
      "metadata": {
        "id": "ml5d8Sg_4ao_",
        "colab_type": "code",
        "colab": {
          "base_uri": "https://localhost:8080/",
          "height": 68
        },
        "outputId": "9f981015-5d93-4ea0-f9d9-62718e62a821"
      },
      "source": [
        "from sklearn.model_selection import train_test_split\n",
        "\n",
        "X_case_2_bert = news_data_case_2.information\n",
        "y_case_2_bert = news_data_case_2.label\n",
        "\n",
        "train_size_case_2_split_2 = 0.7#0.05\n",
        "\n",
        "from sklearn.model_selection import train_test_split\n",
        "\n",
        "X_train_case_2_split_2, X_test_case_2_split_2, y_train_case_2_split_2, y_test_case_2_split_2 = train_test_split(X_case_2_bert, y_case_2_bert, \n",
        "                                                                                                                train_size =train_size_case_2_split_2, \n",
        "                                                                                                                random_state = random_seed,\n",
        "                                                                                                                stratify=news_data_case_2.label.values\n",
        "                                                                                                                )\n",
        "\n",
        "print(X_case_2_bert.shape, X_case_2_bert.shape)\n",
        "print(X_train_case_2_split_2.shape)\n",
        "print(X_test_case_2_split_2.shape)"
      ],
      "execution_count": null,
      "outputs": [
        {
          "output_type": "stream",
          "text": [
            "(32000,) (32000,)\n",
            "(22400,)\n",
            "(9600,)\n"
          ],
          "name": "stdout"
        }
      ]
    },
    {
      "cell_type": "markdown",
      "metadata": {
        "id": "ZcUe8U-4yZXc",
        "colab_type": "text"
      },
      "source": [
        "Downsize the data fo testing code perposes."
      ]
    },
    {
      "cell_type": "code",
      "metadata": {
        "id": "-O19gX9Am0B9",
        "colab_type": "code",
        "colab": {
          "base_uri": "https://localhost:8080/",
          "height": 34
        },
        "outputId": "7a68d916-2699-4110-b7a7-35f139cac75b"
      },
      "source": [
        "#X_test_case_2_split_2 = X_test_case_2_split_2[:100]\n",
        "#y_test_case_2_split_2 = y_test_case_2_split_2[:100]\n",
        "print(X_test_case_2_split_2.shape)"
      ],
      "execution_count": null,
      "outputs": [
        {
          "output_type": "stream",
          "text": [
            "(9600,)\n"
          ],
          "name": "stdout"
        }
      ]
    },
    {
      "cell_type": "markdown",
      "metadata": {
        "id": "1GwqnOPNACDF",
        "colab_type": "text"
      },
      "source": [
        "#### Creating Words embeddings\n"
      ]
    },
    {
      "cell_type": "markdown",
      "metadata": {
        "id": "EPz9q_-nIDVt",
        "colab_type": "text"
      },
      "source": [
        "**For the BERT Model, we gonna use HUGGING FACE BERT MODEL THAT WAS ADOPTED FOR CALSIFICATION**\\\n",
        "\n",
        "The model take three inputs, with are constructed from the data usong special fucntions, "
      ]
    },
    {
      "cell_type": "markdown",
      "metadata": {
        "id": "0Ozq7yPeAFhr",
        "colab_type": "text"
      },
      "source": [
        "This the case of BERT we gonna use **Prediction Based Embedding**"
      ]
    },
    {
      "cell_type": "code",
      "metadata": {
        "id": "tLR3XoXG_f20",
        "colab_type": "code",
        "colab": {
          "base_uri": "https://localhost:8080/",
          "height": 66,
          "referenced_widgets": [
            "1c8860ed36694783a5ad5b81427de34c",
            "b4c3c69d3d014e2da7321485976d9439",
            "186e4c321adf4456acd06598abd16272",
            "d65e77cb9a06465baab4e55b200511a9",
            "9ab36cfdaf4f4664a251b36d8d03b76e",
            "29159e25e4bf40408374a4eb2354d12b",
            "8f9d838fe1734a4f908c46bdd6edce98",
            "bd886cd60045425a8928a722bf5288bc"
          ]
        },
        "outputId": "90dbbfaf-9e40-4086-c812-abeb8b7fe9be"
      },
      "source": [
        "tokenizer = BertTokenizer.from_pretrained('bert-base-uncased', \n",
        "                                          do_lower_case=True)"
      ],
      "execution_count": null,
      "outputs": [
        {
          "output_type": "display_data",
          "data": {
            "application/vnd.jupyter.widget-view+json": {
              "model_id": "1c8860ed36694783a5ad5b81427de34c",
              "version_minor": 0,
              "version_major": 2
            },
            "text/plain": [
              "HBox(children=(FloatProgress(value=0.0, description='Downloading', max=231508.0, style=ProgressStyle(descripti…"
            ]
          },
          "metadata": {
            "tags": []
          }
        },
        {
          "output_type": "stream",
          "text": [
            "\n"
          ],
          "name": "stdout"
        }
      ]
    },
    {
      "cell_type": "markdown",
      "metadata": {
        "id": "kKmPxL17AZOC",
        "colab_type": "text"
      },
      "source": [
        "**The training time, and internal params of the model depend on the size of the input vector, so we need ot see how long are the input data, so we can see if it's feasible to do the trainning and also to optimze if possible**"
      ]
    },
    {
      "cell_type": "code",
      "metadata": {
        "id": "SjsTKkreAWCM",
        "colab_type": "code",
        "colab": {}
      },
      "source": [
        "token_lens = []\n",
        "\n",
        "for sentence in news_data_case_2.information.values:\n",
        "  tokens = tokenizer.encode(sentence, max_length = 512, truncation=True)\n",
        "  token_lens.append(len(tokens))\n",
        "\n"
      ],
      "execution_count": null,
      "outputs": []
    },
    {
      "cell_type": "code",
      "metadata": {
        "id": "XPvK0vbABzGI",
        "colab_type": "code",
        "colab": {
          "base_uri": "https://localhost:8080/",
          "height": 285
        },
        "outputId": "6a607fda-069a-4a92-b2be-287d28118ebe"
      },
      "source": [
        "sns.distplot(token_lens)\n",
        "print(max(token_lens))"
      ],
      "execution_count": null,
      "outputs": [
        {
          "output_type": "stream",
          "text": [
            "239\n"
          ],
          "name": "stdout"
        },
        {
          "output_type": "display_data",
          "data": {
            "image/png": "[encoded data removed]",
            "text/plain": [
              "<Figure size 432x288 with 1 Axes>"
            ]
          },
          "metadata": {
            "tags": []
          }
        }
      ]
    },
    {
      "cell_type": "markdown",
      "metadata": {
        "id": "_IPyRVUOC5Eg",
        "colab_type": "text"
      },
      "source": [
        "**So most of the input data encoding have a size around 50, so we gonna go with a maximum length of encoding size of 64**"
      ]
    },
    {
      "cell_type": "code",
      "metadata": {
        "id": "M8VGjfGWGQP6",
        "colab_type": "code",
        "colab": {}
      },
      "source": [
        ""
      ],
      "execution_count": null,
      "outputs": []
    },
    {
      "cell_type": "code",
      "metadata": {
        "id": "BAgnX7psBmyQ",
        "colab_type": "code",
        "colab": {
          "base_uri": "https://localhost:8080/",
          "height": 71
        },
        "outputId": "88cb7d66-ee24-4223-8406-1bacf7823a3c"
      },
      "source": [
        "encoded_data_train_case_2_split_2 = tokenizer.batch_encode_plus(\n",
        "    X_train_case_2_split_2.to_numpy(), \n",
        "    add_special_tokens=True, \n",
        "    return_attention_mask=True, \n",
        "    pad_to_max_length=True, \n",
        "    max_length=64, \n",
        "    return_tensors='pt',\n",
        "    truncation=True\n",
        ")\n",
        "\n",
        "\n"
      ],
      "execution_count": null,
      "outputs": [
        {
          "output_type": "stream",
          "text": [
            "/usr/local/lib/python3.6/dist-packages/transformers/tokenization_utils_base.py:1770: FutureWarning: The `pad_to_max_length` argument is deprecated and will be removed in a future version, use `padding=True` or `padding='longest'` to pad to the longest sequence in the batch, or use `padding='max_length'` to pad to a max length. In this case, you can give a specific length with `max_length` (e.g. `max_length=45`) or leave max_length to None to pad to the maximal input size of the model (e.g. 512 for Bert).\n",
            "  FutureWarning,\n"
          ],
          "name": "stderr"
        }
      ]
    },
    {
      "cell_type": "code",
      "metadata": {
        "id": "0j08fuLPgI-q",
        "colab_type": "code",
        "colab": {
          "base_uri": "https://localhost:8080/",
          "height": 71
        },
        "outputId": "4cda5684-6c84-4298-e935-8adbdcad927e"
      },
      "source": [
        "\n",
        "encoded_data_test_case_2_split_2 = tokenizer.batch_encode_plus(\n",
        "    X_test_case_2_split_2.to_numpy(), \n",
        "    add_special_tokens=True, \n",
        "    return_attention_mask=True, \n",
        "    pad_to_max_length=True, \n",
        "    max_length=64, \n",
        "    return_tensors='pt',\n",
        "    truncation=True\n",
        ")\n"
      ],
      "execution_count": null,
      "outputs": [
        {
          "output_type": "stream",
          "text": [
            "/usr/local/lib/python3.6/dist-packages/transformers/tokenization_utils_base.py:1770: FutureWarning: The `pad_to_max_length` argument is deprecated and will be removed in a future version, use `padding=True` or `padding='longest'` to pad to the longest sequence in the batch, or use `padding='max_length'` to pad to a max length. In this case, you can give a specific length with `max_length` (e.g. `max_length=45`) or leave max_length to None to pad to the maximal input size of the model (e.g. 512 for Bert).\n",
            "  FutureWarning,\n"
          ],
          "name": "stderr"
        }
      ]
    },
    {
      "cell_type": "code",
      "metadata": {
        "id": "J76rERdYgCQK",
        "colab_type": "code",
        "colab": {}
      },
      "source": [
        "input_ids_train_case_2_split_2 = encoded_data_train_case_2_split_2['input_ids']\n",
        "attention_masks_train__case_2_split_2 = encoded_data_train_case_2_split_2['attention_mask']\n",
        "labels_train_case_2_split_2 = torch.tensor(y_train_case_2_split_2.to_numpy())\n",
        "\n",
        "input_ids_test_case_2_split_2 = encoded_data_test_case_2_split_2['input_ids']\n",
        "attention_masks_test_case_2_split_2 = encoded_data_test_case_2_split_2['attention_mask']\n",
        "labels_test_case_2_split_2 = torch.tensor(y_test_case_2_split_2.to_numpy())\n"
      ],
      "execution_count": null,
      "outputs": []
    },
    {
      "cell_type": "code",
      "metadata": {
        "id": "fC8Ab4LFgD84",
        "colab_type": "code",
        "colab": {
          "base_uri": "https://localhost:8080/",
          "height": 51
        },
        "outputId": "66e68809-bef4-4a2f-97a3-fdf6bab9d08b"
      },
      "source": [
        "\n",
        "\n",
        "print('all shapes training')\n",
        "(input_ids_train_case_2_split_2.shape, attention_masks_train__case_2_split_2.shape, labels_train_case_2_split_2.shape)"
      ],
      "execution_count": null,
      "outputs": [
        {
          "output_type": "stream",
          "text": [
            "all shapes training\n"
          ],
          "name": "stdout"
        },
        {
          "output_type": "execute_result",
          "data": {
            "text/plain": [
              "(torch.Size([22400, 64]), torch.Size([22400, 64]), torch.Size([22400]))"
            ]
          },
          "metadata": {
            "tags": []
          },
          "execution_count": 64
        }
      ]
    },
    {
      "cell_type": "code",
      "metadata": {
        "id": "M5XF1GcCgXKk",
        "colab_type": "code",
        "colab": {
          "base_uri": "https://localhost:8080/",
          "height": 51
        },
        "outputId": "e820a48a-44e5-4971-b777-8790d291460c"
      },
      "source": [
        "\n",
        "print('all shapes testing')\n",
        "(input_ids_test_case_2_split_2.shape, attention_masks_test_case_2_split_2.shape, labels_test_case_2_split_2.shape)"
      ],
      "execution_count": null,
      "outputs": [
        {
          "output_type": "stream",
          "text": [
            "all shapes testing\n"
          ],
          "name": "stdout"
        },
        {
          "output_type": "execute_result",
          "data": {
            "text/plain": [
              "(torch.Size([9600, 64]), torch.Size([9600, 64]), torch.Size([9600]))"
            ]
          },
          "metadata": {
            "tags": []
          },
          "execution_count": 65
        }
      ]
    },
    {
      "cell_type": "markdown",
      "metadata": {
        "id": "CzoAMIptH4Xz",
        "colab_type": "text"
      },
      "source": [
        "Now after encoding our data to "
      ]
    },
    {
      "cell_type": "code",
      "metadata": {
        "id": "IT_y2BgmHzcA",
        "colab_type": "code",
        "colab": {}
      },
      "source": [
        "dataset_train_case_2_split_2 = TensorDataset(input_ids_train_case_2_split_2, attention_masks_train__case_2_split_2, labels_train_case_2_split_2)\n",
        "dataset_test_case_2_split_2 = TensorDataset(input_ids_test_case_2_split_2, attention_masks_test_case_2_split_2, labels_test_case_2_split_2)"
      ],
      "execution_count": null,
      "outputs": []
    },
    {
      "cell_type": "code",
      "metadata": {
        "id": "hRUK286EGK6E",
        "colab_type": "code",
        "colab": {
          "base_uri": "https://localhost:8080/",
          "height": 34
        },
        "outputId": "6f49a770-fed7-4a83-ffde-66df52243e8f"
      },
      "source": [
        "len(dataset_train_case_2_split_2), len(dataset_test_case_2_split_2)"
      ],
      "execution_count": null,
      "outputs": [
        {
          "output_type": "execute_result",
          "data": {
            "text/plain": [
              "(22400, 9600)"
            ]
          },
          "metadata": {
            "tags": []
          },
          "execution_count": 67
        }
      ]
    },
    {
      "cell_type": "markdown",
      "metadata": {
        "id": "FIdjdlMfMhBe",
        "colab_type": "text"
      },
      "source": [
        "After all the processingo the input data we got only 10k rows for training and 190k for testing, due to the max_lengh defined as 64"
      ]
    },
    {
      "cell_type": "markdown",
      "metadata": {
        "id": "uS7UU3axM3IM",
        "colab_type": "text"
      },
      "source": [
        "Finally we load bert model"
      ]
    },
    {
      "cell_type": "code",
      "metadata": {
        "id": "QGZ_LeUFMyRI",
        "colab_type": "code",
        "colab": {
          "base_uri": "https://localhost:8080/",
          "height": 220,
          "referenced_widgets": [
            "a893522d0ce34527bc4f8cb5823067c3",
            "1a0e735529a34cdf918975b6de4de938",
            "f49933d7d2cb430caf54fa6248917aeb",
            "2492e9b7182c4f61b5411263725305c3",
            "a8f892ce53e84cdab2551e405c84ed43",
            "d3ad01a1dfcc419c941a2d3753e2a572",
            "696f278ac5d4497fa53241290eb44867",
            "0078d7691dd644149f0d90e6352cb6bf",
            "792a48a04143491bbba8243e93aaab01",
            "914d67d7c2b14df7bed00029a79d8f35",
            "16a8853cf4eb4f8cb1332a48c3fb648e",
            "803191b3546441d596750eb6b7b11829",
            "1aed6ea12979443387945bdafb3c6585",
            "e4987cfb64534b499e467b92d20ed009",
            "5423c328d55549f885a46f78f4c2803c",
            "a014145f53724fdb822f96203b5d43bb"
          ]
        },
        "outputId": "45b0f1c7-21d5-4369-9e0b-6c59251590c1"
      },
      "source": [
        "bert = BertForSequenceClassification.from_pretrained(\"bert-base-uncased\",\n",
        "                                                      num_labels=len(label_dict),\n",
        "                                                      output_attentions=False,\n",
        "                                                      output_hidden_states=False)"
      ],
      "execution_count": null,
      "outputs": [
        {
          "output_type": "display_data",
          "data": {
            "application/vnd.jupyter.widget-view+json": {
              "model_id": "a893522d0ce34527bc4f8cb5823067c3",
              "version_minor": 0,
              "version_major": 2
            },
            "text/plain": [
              "HBox(children=(FloatProgress(value=0.0, description='Downloading', max=433.0, style=ProgressStyle(description_…"
            ]
          },
          "metadata": {
            "tags": []
          }
        },
        {
          "output_type": "stream",
          "text": [
            "\n"
          ],
          "name": "stdout"
        },
        {
          "output_type": "display_data",
          "data": {
            "application/vnd.jupyter.widget-view+json": {
              "model_id": "792a48a04143491bbba8243e93aaab01",
              "version_minor": 0,
              "version_major": 2
            },
            "text/plain": [
              "HBox(children=(FloatProgress(value=0.0, description='Downloading', max=440473133.0, style=ProgressStyle(descri…"
            ]
          },
          "metadata": {
            "tags": []
          }
        },
        {
          "output_type": "stream",
          "text": [
            "\n"
          ],
          "name": "stdout"
        },
        {
          "output_type": "stream",
          "text": [
            "Some weights of the model checkpoint at bert-base-uncased were not used when initializing BertForSequenceClassification: ['cls.predictions.bias', 'cls.predictions.transform.dense.weight', 'cls.predictions.transform.dense.bias', 'cls.predictions.decoder.weight', 'cls.seq_relationship.weight', 'cls.seq_relationship.bias', 'cls.predictions.transform.LayerNorm.weight', 'cls.predictions.transform.LayerNorm.bias']\n",
            "- This IS expected if you are initializing BertForSequenceClassification from the checkpoint of a model trained on another task or with another architecture (e.g. initializing a BertForSequenceClassification model from a BertForPretraining model).\n",
            "- This IS NOT expected if you are initializing BertForSequenceClassification from the checkpoint of a model that you expect to be exactly identical (initializing a BertForSequenceClassification model from a BertForSequenceClassification model).\n",
            "Some weights of BertForSequenceClassification were not initialized from the model checkpoint at bert-base-uncased and are newly initialized: ['classifier.weight', 'classifier.bias']\n",
            "You should probably TRAIN this model on a down-stream task to be able to use it for predictions and inference.\n"
          ],
          "name": "stderr"
        }
      ]
    },
    {
      "cell_type": "markdown",
      "metadata": {
        "id": "BrjK4PtGM-7j",
        "colab_type": "text"
      },
      "source": [
        "The size of the model before we fine tuned is around 400 MB, so it's Big"
      ]
    },
    {
      "cell_type": "markdown",
      "metadata": {
        "id": "GBTsFzetNTRe",
        "colab_type": "text"
      },
      "source": [
        "The model in impliment in **PyTorch ML libeary**, so we use other tools from the same library to ease the training pahse on us, but using loader."
      ]
    },
    {
      "cell_type": "markdown",
      "metadata": {
        "id": "_9dZa6ynNx_R",
        "colab_type": "text"
      },
      "source": [
        "To fasten the training we gonna use a batch size of 10\n"
      ]
    },
    {
      "cell_type": "code",
      "metadata": {
        "id": "Y0qdgVeWM798",
        "colab_type": "code",
        "colab": {}
      },
      "source": [
        "from torch.utils.data import DataLoader, RandomSampler, SequentialSampler\n",
        "\n",
        "batch_size = 10\n",
        "\n",
        "dataloader_train_case_2_split_2 = DataLoader(dataset_train_case_2_split_2, \n",
        "                              sampler=RandomSampler(dataset_train_case_2_split_2), \n",
        "                              batch_size=batch_size)\n",
        "\n",
        "dataloader_test_case_2_split_2 = DataLoader(dataset_test_case_2_split_2, \n",
        "                                   sampler=SequentialSampler(dataset_test_case_2_split_2), \n",
        "                                   batch_size=batch_size)"
      ],
      "execution_count": null,
      "outputs": []
    },
    {
      "cell_type": "markdown",
      "metadata": {
        "id": "FExkKiBrOTTo",
        "colab_type": "text"
      },
      "source": [
        "Afterward, the model is trained like a **Pytorch Model**.\\\n",
        "So gonna use the **AdamW** optimizer and learing rate of 0.00005."
      ]
    },
    {
      "cell_type": "code",
      "metadata": {
        "id": "fKliu75MN7Lg",
        "colab_type": "code",
        "colab": {}
      },
      "source": [
        "from transformers import AdamW, get_linear_schedule_with_warmup\n",
        "\n",
        "optimizer = AdamW(bert.parameters(),\n",
        "                  lr=1e-5, \n",
        "                  eps=1e-8)"
      ],
      "execution_count": null,
      "outputs": []
    },
    {
      "cell_type": "markdown",
      "metadata": {
        "id": "29UJBeLcO9Qx",
        "colab_type": "text"
      },
      "source": [
        "We gonna do 5 passage of the data in the training."
      ]
    },
    {
      "cell_type": "code",
      "metadata": {
        "id": "wnSyQiTkO0V1",
        "colab_type": "code",
        "colab": {}
      },
      "source": [
        "epochs = 5\n",
        "\n",
        "scheduler = get_linear_schedule_with_warmup(optimizer, \n",
        "                                            num_warmup_steps=0,\n",
        "                                            num_training_steps=len(dataset_train_case_2_split_2)*epochs)"
      ],
      "execution_count": null,
      "outputs": []
    },
    {
      "cell_type": "markdown",
      "metadata": {
        "id": "OoMwhPcsPOTO",
        "colab_type": "text"
      },
      "source": [
        "TO get the performence repot we gonna define some functions"
      ]
    },
    {
      "cell_type": "code",
      "metadata": {
        "id": "PA8GCWJZPHZt",
        "colab_type": "code",
        "colab": {}
      },
      "source": [
        "from sklearn.metrics import f1_score\n",
        "\n",
        "def f1_score_func(preds, labels):\n",
        "    preds_flat = np.argmax(preds, axis=1).flatten()\n",
        "    labels_flat = labels.flatten()\n",
        "    return f1_score(labels_flat, preds_flat, average='weighted')\n",
        "\n",
        "def accuracy_per_class(preds, labels):\n",
        "    label_dict_inverse = {v: k for k, v in label_dict.items()}\n",
        "    \n",
        "    preds_flat = np.argmax(preds, axis=1).flatten()\n",
        "    labels_flat = labels.flatten()\n",
        "\n",
        "    for label in np.unique(labels_flat):\n",
        "        y_preds = preds_flat[labels_flat==label]\n",
        "        y_true = labels_flat[labels_flat==label]\n",
        "        print(f'Class: {label_dict_inverse[label]}')\n",
        "        print(f'Accuracy: {len(y_preds[y_preds==label])}/{len(y_true)}\\n')\n",
        "\n",
        "def get_final_prediction(preds ):\n",
        "    preds_flat = np.argmax(preds, axis=1).flatten()\n",
        " \n",
        "    return preds_flat\n",
        "\n",
        "\n",
        "def accuracy_total(preds, labels):\n",
        "    labels_flat = labels.flatten()\n",
        "    true_pred = np.argwhere(preds_flat==labels_flat)\n",
        "\n",
        "    print(f'Total accuracy : {len(true_pred)/len(labels_flat)}\\n')"
      ],
      "execution_count": null,
      "outputs": []
    },
    {
      "cell_type": "markdown",
      "metadata": {
        "id": "-znyMW0UPgby",
        "colab_type": "text"
      },
      "source": [
        "To reproduce approximatelly same results keep the **seed_val** as it is"
      ]
    },
    {
      "cell_type": "code",
      "metadata": {
        "id": "pOl5_eYNPZxg",
        "colab_type": "code",
        "colab": {}
      },
      "source": [
        "import random\n",
        "\n",
        "seed_val = 17\n",
        "random.seed(seed_val)\n",
        "np.random.seed(seed_val)\n",
        "torch.manual_seed(seed_val)\n",
        "torch.cuda.manual_seed_all(seed_val)"
      ],
      "execution_count": null,
      "outputs": []
    },
    {
      "cell_type": "markdown",
      "metadata": {
        "id": "EzqBgjglPzVv",
        "colab_type": "text"
      },
      "source": [
        "Use the GPU computation fron Colab to get faster training. "
      ]
    },
    {
      "cell_type": "code",
      "metadata": {
        "id": "FOpf_4jpPwNk",
        "colab_type": "code",
        "colab": {
          "base_uri": "https://localhost:8080/",
          "height": 34
        },
        "outputId": "2b71f57a-bf70-424a-bd65-8bacf50384a7"
      },
      "source": [
        "device = torch.device('cuda' if torch.cuda.is_available() else 'cpu')\n",
        "bert.to(device)\n",
        "\n",
        "print(device)"
      ],
      "execution_count": null,
      "outputs": [
        {
          "output_type": "stream",
          "text": [
            "cuda\n"
          ],
          "name": "stdout"
        }
      ]
    },
    {
      "cell_type": "code",
      "metadata": {
        "id": "b20QVLOoP9M1",
        "colab_type": "code",
        "colab": {}
      },
      "source": [
        "def evaluate(model, dataloader_test):\n",
        "\n",
        "    model.eval()\n",
        "    \n",
        "    loss_val_total = 0\n",
        "    predictions, true_vals = [], []\n",
        "    \n",
        "    for batch in dataloader_test:\n",
        "        \n",
        "        batch = tuple(b.to(device) for b in batch)\n",
        "        \n",
        "        inputs = {'input_ids':      batch[0],\n",
        "                  'attention_mask': batch[1],\n",
        "                  'labels':         batch[2],\n",
        "                 }\n",
        "\n",
        "        with torch.no_grad():        \n",
        "            outputs = model(**inputs)\n",
        "            \n",
        "        loss = outputs[0]\n",
        "        logits = outputs[1]\n",
        "        loss_val_total += loss.item()\n",
        "\n",
        "        logits = logits.detach().cpu().numpy()\n",
        "        label_ids = inputs['labels'].cpu().numpy()\n",
        "        predictions.append(logits)\n",
        "        true_vals.append(label_ids)\n",
        "    \n",
        "    loss_val_avg = loss_val_total/len(dataloader_test) \n",
        "    \n",
        "    predictions = np.concatenate(predictions, axis=0)\n",
        "    true_vals = np.concatenate(true_vals, axis=0)\n",
        "            \n",
        "    return loss_val_avg, predictions, true_vals"
      ],
      "execution_count": null,
      "outputs": []
    },
    {
      "cell_type": "code",
      "metadata": {
        "id": "fs7Z5iTcY37Q",
        "colab_type": "code",
        "colab": {}
      },
      "source": [
        "!mkdir data_volume"
      ],
      "execution_count": null,
      "outputs": []
    },
    {
      "cell_type": "code",
      "metadata": {
        "id": "ePenAaOJY9nr",
        "colab_type": "code",
        "colab": {}
      },
      "source": [
        "def train_bert(model, dataloader_train, dataloader_test):\n",
        "    print('Training start!')\n",
        "\n",
        "    for epoch in range(1, epochs+1):  # loop over the dataset multiple times\n",
        "        tqdm.write(f'\\nEpoch {epoch}')\n",
        "        model.train()\n",
        "        \n",
        "        loss_train_total = 0\n",
        "    \n",
        "        for i, batch in enumerate(dataloader_train, 0):\n",
        "            \n",
        "            # zero the parameter gradients\n",
        "            model.zero_grad()\n",
        "            \n",
        "            # get the inputs; data is a list of [inputs, labels]\n",
        "            batch = tuple(b.to(device) for b in batch)\n",
        "\n",
        "            inputs = {'input_ids':      batch[0],\n",
        "                      'attention_mask': batch[1],\n",
        "                      'labels':         batch[2],\n",
        "                    }       \n",
        "\n",
        "            outputs = model(**inputs)\n",
        "            \n",
        "            loss = outputs[0]\n",
        "            # print statistics\n",
        "            loss_train_total += loss.item()\n",
        "            loss.backward()\n",
        "\n",
        "            torch.nn.utils.clip_grad_norm_(model.parameters(), 1.0)\n",
        "\n",
        "            optimizer.step()\n",
        "            scheduler.step()\n",
        "\n",
        "            if i % 500 == 499:    # print every 2000 mini-batches\n",
        "                print('[%d, %5d] loss: %.3f' %\n",
        "                      (epoch + 1, i + 1, loss.item() /len(batch)))\n",
        "                \n",
        "\n",
        "\n",
        "        torch.save(model.state_dict(), f'data_volume/finetuned_BERT_epoch_{epoch}.model')\n",
        "            \n",
        "        \n",
        "        \n",
        "        loss_train_avg = loss_train_total/len(dataloader_train)            \n",
        "        tqdm.write(f'Training loss: {loss_train_avg}')\n",
        "        \n",
        "        val_loss, predictions, true_vals = evaluate(model, dataloader_test)\n",
        "        val_f1 = f1_score_func(predictions, true_vals)\n",
        "        tqdm.write(f'Validation loss: {val_loss}')\n",
        "        tqdm.write(f'F1 Score (Weighted): {val_f1}')\n",
        "\n",
        "    print('Finished Training')"
      ],
      "execution_count": null,
      "outputs": []
    },
    {
      "cell_type": "markdown",
      "metadata": {
        "id": "kIbljE0NNCl8",
        "colab_type": "text"
      },
      "source": [
        "**PLEASE BUT SO CAREFULL WHEN YOU RUN THIS BECAUE IT TAKES A LOT OF TIME ... SO BEFORE SAVE THE LAST MODEL BEFORE YOUN TRAIN IT**\n"
      ]
    },
    {
      "cell_type": "code",
      "metadata": {
        "id": "LVA0AfiIb-4c",
        "colab_type": "code",
        "colab": {
          "base_uri": "https://localhost:8080/",
          "height": 816
        },
        "outputId": "1f85e4b0-b2fe-4c7e-f3ff-38266fbdb30c"
      },
      "source": [
        "train_bert(bert, dataloader_train_case_2_split_2, dataloader_test_case_2_split_2)"
      ],
      "execution_count": null,
      "outputs": [
        {
          "output_type": "stream",
          "text": [
            "Training start!\n",
            "\n",
            "Epoch 1\n",
            "[2,   500] loss: 0.987\n",
            "[2,  1000] loss: 0.678\n",
            "[2,  1500] loss: 0.435\n",
            "[2,  2000] loss: 0.497\n",
            "Training loss: 2.165498357279492\n",
            "Validation loss: 1.4192939439788461\n",
            "F1 Score (Weighted): 0.6162389237662163\n",
            "\n",
            "Epoch 2\n",
            "[3,   500] loss: 0.297\n",
            "[3,  1000] loss: 0.311\n",
            "[3,  1500] loss: 0.386\n",
            "[3,  2000] loss: 0.151\n",
            "Training loss: 1.1644146711166417\n",
            "Validation loss: 1.2166779925425848\n",
            "F1 Score (Weighted): 0.6578656033296764\n",
            "\n",
            "Epoch 3\n",
            "[4,   500] loss: 0.356\n",
            "[4,  1000] loss: 0.148\n",
            "[4,  1500] loss: 0.304\n",
            "[4,  2000] loss: 0.288\n",
            "Training loss: 0.7966756986354344\n",
            "Validation loss: 1.226075280473257\n",
            "F1 Score (Weighted): 0.6671729882555624\n",
            "\n",
            "Epoch 4\n",
            "[5,   500] loss: 0.112\n",
            "[5,  1000] loss: 0.308\n",
            "[5,  1500] loss: 0.223\n",
            "[5,  2000] loss: 0.077\n",
            "Training loss: 0.5523960541784098\n",
            "Validation loss: 1.2615267994619594\n",
            "F1 Score (Weighted): 0.6740219382461349\n",
            "\n",
            "Epoch 5\n",
            "[6,   500] loss: 0.168\n",
            "[6,  1000] loss: 0.437\n",
            "[6,  1500] loss: 0.021\n",
            "[6,  2000] loss: 0.313\n",
            "Training loss: 0.3674679773019826\n",
            "Validation loss: 1.4109281329632115\n",
            "F1 Score (Weighted): 0.6733255006605395\n",
            "Finished Training\n"
          ],
          "name": "stdout"
        }
      ]
    },
    {
      "cell_type": "markdown",
      "metadata": {
        "id": "7yt75YOIoIZv",
        "colab_type": "text"
      },
      "source": [
        "To not need to do the raining again we need to save the model in file system an dload it when we need to do prediction or even more trainin, the **Training function do save a copy of the model for each epoch**\n"
      ]
    },
    {
      "cell_type": "markdown",
      "metadata": {
        "id": "EmybVXmDnxua",
        "colab_type": "text"
      },
      "source": [
        "**Let's load the model**"
      ]
    },
    {
      "cell_type": "code",
      "metadata": {
        "id": "dTMNS6JRdz3h",
        "colab_type": "code",
        "colab": {
          "base_uri": "https://localhost:8080/",
          "height": 1000
        },
        "outputId": "283ba01e-eb26-4f02-ff9a-65c9e491db09"
      },
      "source": [
        "model = BertForSequenceClassification.from_pretrained(\"bert-base-uncased\",\n",
        "                                                      num_labels=len(label_dict),\n",
        "                                                      output_attentions=False,\n",
        "                                                      output_hidden_states=False)\n",
        "\n",
        "model.to(device)"
      ],
      "execution_count": null,
      "outputs": [
        {
          "output_type": "stream",
          "text": [
            "Some weights of the model checkpoint at bert-base-uncased were not used when initializing BertForSequenceClassification: ['cls.predictions.bias', 'cls.predictions.transform.dense.weight', 'cls.predictions.transform.dense.bias', 'cls.predictions.decoder.weight', 'cls.seq_relationship.weight', 'cls.seq_relationship.bias', 'cls.predictions.transform.LayerNorm.weight', 'cls.predictions.transform.LayerNorm.bias']\n",
            "- This IS expected if you are initializing BertForSequenceClassification from the checkpoint of a model trained on another task or with another architecture (e.g. initializing a BertForSequenceClassification model from a BertForPretraining model).\n",
            "- This IS NOT expected if you are initializing BertForSequenceClassification from the checkpoint of a model that you expect to be exactly identical (initializing a BertForSequenceClassification model from a BertForSequenceClassification model).\n",
            "Some weights of BertForSequenceClassification were not initialized from the model checkpoint at bert-base-uncased and are newly initialized: ['classifier.weight', 'classifier.bias']\n",
            "You should probably TRAIN this model on a down-stream task to be able to use it for predictions and inference.\n"
          ],
          "name": "stderr"
        },
        {
          "output_type": "execute_result",
          "data": {
            "text/plain": [
              "BertForSequenceClassification(\n",
              "  (bert): BertModel(\n",
              "    (embeddings): BertEmbeddings(\n",
              "      (word_embeddings): Embedding(30522, 768, padding_idx=0)\n",
              "      (position_embeddings): Embedding(512, 768)\n",
              "      (token_type_embeddings): Embedding(2, 768)\n",
              "      (LayerNorm): LayerNorm((768,), eps=1e-12, elementwise_affine=True)\n",
              "      (dropout): Dropout(p=0.1, inplace=False)\n",
              "    )\n",
              "    (encoder): BertEncoder(\n",
              "      (layer): ModuleList(\n",
              "        (0): BertLayer(\n",
              "          (attention): BertAttention(\n",
              "            (self): BertSelfAttention(\n",
              "              (query): Linear(in_features=768, out_features=768, bias=True)\n",
              "              (key): Linear(in_features=768, out_features=768, bias=True)\n",
              "              (value): Linear(in_features=768, out_features=768, bias=True)\n",
              "              (dropout): Dropout(p=0.1, inplace=False)\n",
              "            )\n",
              "            (output): BertSelfOutput(\n",
              "              (dense): Linear(in_features=768, out_features=768, bias=True)\n",
              "              (LayerNorm): LayerNorm((768,), eps=1e-12, elementwise_affine=True)\n",
              "              (dropout): Dropout(p=0.1, inplace=False)\n",
              "            )\n",
              "          )\n",
              "          (intermediate): BertIntermediate(\n",
              "            (dense): Linear(in_features=768, out_features=3072, bias=True)\n",
              "          )\n",
              "          (output): BertOutput(\n",
              "            (dense): Linear(in_features=3072, out_features=768, bias=True)\n",
              "            (LayerNorm): LayerNorm((768,), eps=1e-12, elementwise_affine=True)\n",
              "            (dropout): Dropout(p=0.1, inplace=False)\n",
              "          )\n",
              "        )\n",
              "        (1): BertLayer(\n",
              "          (attention): BertAttention(\n",
              "            (self): BertSelfAttention(\n",
              "              (query): Linear(in_features=768, out_features=768, bias=True)\n",
              "              (key): Linear(in_features=768, out_features=768, bias=True)\n",
              "              (value): Linear(in_features=768, out_features=768, bias=True)\n",
              "              (dropout): Dropout(p=0.1, inplace=False)\n",
              "            )\n",
              "            (output): BertSelfOutput(\n",
              "              (dense): Linear(in_features=768, out_features=768, bias=True)\n",
              "              (LayerNorm): LayerNorm((768,), eps=1e-12, elementwise_affine=True)\n",
              "              (dropout): Dropout(p=0.1, inplace=False)\n",
              "            )\n",
              "          )\n",
              "          (intermediate): BertIntermediate(\n",
              "            (dense): Linear(in_features=768, out_features=3072, bias=True)\n",
              "          )\n",
              "          (output): BertOutput(\n",
              "            (dense): Linear(in_features=3072, out_features=768, bias=True)\n",
              "            (LayerNorm): LayerNorm((768,), eps=1e-12, elementwise_affine=True)\n",
              "            (dropout): Dropout(p=0.1, inplace=False)\n",
              "          )\n",
              "        )\n",
              "        (2): BertLayer(\n",
              "          (attention): BertAttention(\n",
              "            (self): BertSelfAttention(\n",
              "              (query): Linear(in_features=768, out_features=768, bias=True)\n",
              "              (key): Linear(in_features=768, out_features=768, bias=True)\n",
              "              (value): Linear(in_features=768, out_features=768, bias=True)\n",
              "              (dropout): Dropout(p=0.1, inplace=False)\n",
              "            )\n",
              "            (output): BertSelfOutput(\n",
              "              (dense): Linear(in_features=768, out_features=768, bias=True)\n",
              "              (LayerNorm): LayerNorm((768,), eps=1e-12, elementwise_affine=True)\n",
              "              (dropout): Dropout(p=0.1, inplace=False)\n",
              "            )\n",
              "          )\n",
              "          (intermediate): BertIntermediate(\n",
              "            (dense): Linear(in_features=768, out_features=3072, bias=True)\n",
              "          )\n",
              "          (output): BertOutput(\n",
              "            (dense): Linear(in_features=3072, out_features=768, bias=True)\n",
              "            (LayerNorm): LayerNorm((768,), eps=1e-12, elementwise_affine=True)\n",
              "            (dropout): Dropout(p=0.1, inplace=False)\n",
              "          )\n",
              "        )\n",
              "        (3): BertLayer(\n",
              "          (attention): BertAttention(\n",
              "            (self): BertSelfAttention(\n",
              "              (query): Linear(in_features=768, out_features=768, bias=True)\n",
              "              (key): Linear(in_features=768, out_features=768, bias=True)\n",
              "              (value): Linear(in_features=768, out_features=768, bias=True)\n",
              "              (dropout): Dropout(p=0.1, inplace=False)\n",
              "            )\n",
              "            (output): BertSelfOutput(\n",
              "              (dense): Linear(in_features=768, out_features=768, bias=True)\n",
              "              (LayerNorm): LayerNorm((768,), eps=1e-12, elementwise_affine=True)\n",
              "              (dropout): Dropout(p=0.1, inplace=False)\n",
              "            )\n",
              "          )\n",
              "          (intermediate): BertIntermediate(\n",
              "            (dense): Linear(in_features=768, out_features=3072, bias=True)\n",
              "          )\n",
              "          (output): BertOutput(\n",
              "            (dense): Linear(in_features=3072, out_features=768, bias=True)\n",
              "            (LayerNorm): LayerNorm((768,), eps=1e-12, elementwise_affine=True)\n",
              "            (dropout): Dropout(p=0.1, inplace=False)\n",
              "          )\n",
              "        )\n",
              "        (4): BertLayer(\n",
              "          (attention): BertAttention(\n",
              "            (self): BertSelfAttention(\n",
              "              (query): Linear(in_features=768, out_features=768, bias=True)\n",
              "              (key): Linear(in_features=768, out_features=768, bias=True)\n",
              "              (value): Linear(in_features=768, out_features=768, bias=True)\n",
              "              (dropout): Dropout(p=0.1, inplace=False)\n",
              "            )\n",
              "            (output): BertSelfOutput(\n",
              "              (dense): Linear(in_features=768, out_features=768, bias=True)\n",
              "              (LayerNorm): LayerNorm((768,), eps=1e-12, elementwise_affine=True)\n",
              "              (dropout): Dropout(p=0.1, inplace=False)\n",
              "            )\n",
              "          )\n",
              "          (intermediate): BertIntermediate(\n",
              "            (dense): Linear(in_features=768, out_features=3072, bias=True)\n",
              "          )\n",
              "          (output): BertOutput(\n",
              "            (dense): Linear(in_features=3072, out_features=768, bias=True)\n",
              "            (LayerNorm): LayerNorm((768,), eps=1e-12, elementwise_affine=True)\n",
              "            (dropout): Dropout(p=0.1, inplace=False)\n",
              "          )\n",
              "        )\n",
              "        (5): BertLayer(\n",
              "          (attention): BertAttention(\n",
              "            (self): BertSelfAttention(\n",
              "              (query): Linear(in_features=768, out_features=768, bias=True)\n",
              "              (key): Linear(in_features=768, out_features=768, bias=True)\n",
              "              (value): Linear(in_features=768, out_features=768, bias=True)\n",
              "              (dropout): Dropout(p=0.1, inplace=False)\n",
              "            )\n",
              "            (output): BertSelfOutput(\n",
              "              (dense): Linear(in_features=768, out_features=768, bias=True)\n",
              "              (LayerNorm): LayerNorm((768,), eps=1e-12, elementwise_affine=True)\n",
              "              (dropout): Dropout(p=0.1, inplace=False)\n",
              "            )\n",
              "          )\n",
              "          (intermediate): BertIntermediate(\n",
              "            (dense): Linear(in_features=768, out_features=3072, bias=True)\n",
              "          )\n",
              "          (output): BertOutput(\n",
              "            (dense): Linear(in_features=3072, out_features=768, bias=True)\n",
              "            (LayerNorm): LayerNorm((768,), eps=1e-12, elementwise_affine=True)\n",
              "            (dropout): Dropout(p=0.1, inplace=False)\n",
              "          )\n",
              "        )\n",
              "        (6): BertLayer(\n",
              "          (attention): BertAttention(\n",
              "            (self): BertSelfAttention(\n",
              "              (query): Linear(in_features=768, out_features=768, bias=True)\n",
              "              (key): Linear(in_features=768, out_features=768, bias=True)\n",
              "              (value): Linear(in_features=768, out_features=768, bias=True)\n",
              "              (dropout): Dropout(p=0.1, inplace=False)\n",
              "            )\n",
              "            (output): BertSelfOutput(\n",
              "              (dense): Linear(in_features=768, out_features=768, bias=True)\n",
              "              (LayerNorm): LayerNorm((768,), eps=1e-12, elementwise_affine=True)\n",
              "              (dropout): Dropout(p=0.1, inplace=False)\n",
              "            )\n",
              "          )\n",
              "          (intermediate): BertIntermediate(\n",
              "            (dense): Linear(in_features=768, out_features=3072, bias=True)\n",
              "          )\n",
              "          (output): BertOutput(\n",
              "            (dense): Linear(in_features=3072, out_features=768, bias=True)\n",
              "            (LayerNorm): LayerNorm((768,), eps=1e-12, elementwise_affine=True)\n",
              "            (dropout): Dropout(p=0.1, inplace=False)\n",
              "          )\n",
              "        )\n",
              "        (7): BertLayer(\n",
              "          (attention): BertAttention(\n",
              "            (self): BertSelfAttention(\n",
              "              (query): Linear(in_features=768, out_features=768, bias=True)\n",
              "              (key): Linear(in_features=768, out_features=768, bias=True)\n",
              "              (value): Linear(in_features=768, out_features=768, bias=True)\n",
              "              (dropout): Dropout(p=0.1, inplace=False)\n",
              "            )\n",
              "            (output): BertSelfOutput(\n",
              "              (dense): Linear(in_features=768, out_features=768, bias=True)\n",
              "              (LayerNorm): LayerNorm((768,), eps=1e-12, elementwise_affine=True)\n",
              "              (dropout): Dropout(p=0.1, inplace=False)\n",
              "            )\n",
              "          )\n",
              "          (intermediate): BertIntermediate(\n",
              "            (dense): Linear(in_features=768, out_features=3072, bias=True)\n",
              "          )\n",
              "          (output): BertOutput(\n",
              "            (dense): Linear(in_features=3072, out_features=768, bias=True)\n",
              "            (LayerNorm): LayerNorm((768,), eps=1e-12, elementwise_affine=True)\n",
              "            (dropout): Dropout(p=0.1, inplace=False)\n",
              "          )\n",
              "        )\n",
              "        (8): BertLayer(\n",
              "          (attention): BertAttention(\n",
              "            (self): BertSelfAttention(\n",
              "              (query): Linear(in_features=768, out_features=768, bias=True)\n",
              "              (key): Linear(in_features=768, out_features=768, bias=True)\n",
              "              (value): Linear(in_features=768, out_features=768, bias=True)\n",
              "              (dropout): Dropout(p=0.1, inplace=False)\n",
              "            )\n",
              "            (output): BertSelfOutput(\n",
              "              (dense): Linear(in_features=768, out_features=768, bias=True)\n",
              "              (LayerNorm): LayerNorm((768,), eps=1e-12, elementwise_affine=True)\n",
              "              (dropout): Dropout(p=0.1, inplace=False)\n",
              "            )\n",
              "          )\n",
              "          (intermediate): BertIntermediate(\n",
              "            (dense): Linear(in_features=768, out_features=3072, bias=True)\n",
              "          )\n",
              "          (output): BertOutput(\n",
              "            (dense): Linear(in_features=3072, out_features=768, bias=True)\n",
              "            (LayerNorm): LayerNorm((768,), eps=1e-12, elementwise_affine=True)\n",
              "            (dropout): Dropout(p=0.1, inplace=False)\n",
              "          )\n",
              "        )\n",
              "        (9): BertLayer(\n",
              "          (attention): BertAttention(\n",
              "            (self): BertSelfAttention(\n",
              "              (query): Linear(in_features=768, out_features=768, bias=True)\n",
              "              (key): Linear(in_features=768, out_features=768, bias=True)\n",
              "              (value): Linear(in_features=768, out_features=768, bias=True)\n",
              "              (dropout): Dropout(p=0.1, inplace=False)\n",
              "            )\n",
              "            (output): BertSelfOutput(\n",
              "              (dense): Linear(in_features=768, out_features=768, bias=True)\n",
              "              (LayerNorm): LayerNorm((768,), eps=1e-12, elementwise_affine=True)\n",
              "              (dropout): Dropout(p=0.1, inplace=False)\n",
              "            )\n",
              "          )\n",
              "          (intermediate): BertIntermediate(\n",
              "            (dense): Linear(in_features=768, out_features=3072, bias=True)\n",
              "          )\n",
              "          (output): BertOutput(\n",
              "            (dense): Linear(in_features=3072, out_features=768, bias=True)\n",
              "            (LayerNorm): LayerNorm((768,), eps=1e-12, elementwise_affine=True)\n",
              "            (dropout): Dropout(p=0.1, inplace=False)\n",
              "          )\n",
              "        )\n",
              "        (10): BertLayer(\n",
              "          (attention): BertAttention(\n",
              "            (self): BertSelfAttention(\n",
              "              (query): Linear(in_features=768, out_features=768, bias=True)\n",
              "              (key): Linear(in_features=768, out_features=768, bias=True)\n",
              "              (value): Linear(in_features=768, out_features=768, bias=True)\n",
              "              (dropout): Dropout(p=0.1, inplace=False)\n",
              "            )\n",
              "            (output): BertSelfOutput(\n",
              "              (dense): Linear(in_features=768, out_features=768, bias=True)\n",
              "              (LayerNorm): LayerNorm((768,), eps=1e-12, elementwise_affine=True)\n",
              "              (dropout): Dropout(p=0.1, inplace=False)\n",
              "            )\n",
              "          )\n",
              "          (intermediate): BertIntermediate(\n",
              "            (dense): Linear(in_features=768, out_features=3072, bias=True)\n",
              "          )\n",
              "          (output): BertOutput(\n",
              "            (dense): Linear(in_features=3072, out_features=768, bias=True)\n",
              "            (LayerNorm): LayerNorm((768,), eps=1e-12, elementwise_affine=True)\n",
              "            (dropout): Dropout(p=0.1, inplace=False)\n",
              "          )\n",
              "        )\n",
              "        (11): BertLayer(\n",
              "          (attention): BertAttention(\n",
              "            (self): BertSelfAttention(\n",
              "              (query): Linear(in_features=768, out_features=768, bias=True)\n",
              "              (key): Linear(in_features=768, out_features=768, bias=True)\n",
              "              (value): Linear(in_features=768, out_features=768, bias=True)\n",
              "              (dropout): Dropout(p=0.1, inplace=False)\n",
              "            )\n",
              "            (output): BertSelfOutput(\n",
              "              (dense): Linear(in_features=768, out_features=768, bias=True)\n",
              "              (LayerNorm): LayerNorm((768,), eps=1e-12, elementwise_affine=True)\n",
              "              (dropout): Dropout(p=0.1, inplace=False)\n",
              "            )\n",
              "          )\n",
              "          (intermediate): BertIntermediate(\n",
              "            (dense): Linear(in_features=768, out_features=3072, bias=True)\n",
              "          )\n",
              "          (output): BertOutput(\n",
              "            (dense): Linear(in_features=3072, out_features=768, bias=True)\n",
              "            (LayerNorm): LayerNorm((768,), eps=1e-12, elementwise_affine=True)\n",
              "            (dropout): Dropout(p=0.1, inplace=False)\n",
              "          )\n",
              "        )\n",
              "      )\n",
              "    )\n",
              "    (pooler): BertPooler(\n",
              "      (dense): Linear(in_features=768, out_features=768, bias=True)\n",
              "      (activation): Tanh()\n",
              "    )\n",
              "  )\n",
              "  (dropout): Dropout(p=0.1, inplace=False)\n",
              "  (classifier): Linear(in_features=768, out_features=32, bias=True)\n",
              ")"
            ]
          },
          "metadata": {
            "tags": []
          },
          "execution_count": 79
        }
      ]
    },
    {
      "cell_type": "markdown",
      "metadata": {
        "id": "u9OUVjZgof3B",
        "colab_type": "text"
      },
      "source": [
        "We load the last verison from the saved models"
      ]
    },
    {
      "cell_type": "code",
      "metadata": {
        "id": "9YGlVuofoe3l",
        "colab_type": "code",
        "colab": {
          "base_uri": "https://localhost:8080/",
          "height": 34
        },
        "outputId": "9700ae27-1a59-4ef7-f261-f2811b805d46"
      },
      "source": [
        "model.load_state_dict(torch.load('data_volume/finetuned_BERT_epoch_5.model', map_location=torch.device('cpu')))"
      ],
      "execution_count": null,
      "outputs": [
        {
          "output_type": "execute_result",
          "data": {
            "text/plain": [
              "<All keys matched successfully>"
            ]
          },
          "metadata": {
            "tags": []
          },
          "execution_count": 80
        }
      ]
    },
    {
      "cell_type": "markdown",
      "metadata": {
        "id": "UCKgmDoQpNXx",
        "colab_type": "text"
      },
      "source": [
        "Let's do the prediction of the model on test data"
      ]
    },
    {
      "cell_type": "markdown",
      "metadata": {
        "id": "809gWmb2Nezs",
        "colab_type": "text"
      },
      "source": [
        "**We have 0.95 of our data as test data because we want to train fast , but no difference beacuse, we validate with the same data of tests** \\\n",
        "**We can have thre splits to get one for the validation, but we want ot keep the same strcuture we did with the others models**"
      ]
    },
    {
      "cell_type": "markdown",
      "metadata": {
        "id": "RSTBA2Z2N_8T",
        "colab_type": "text"
      },
      "source": [
        "That's why it take a lot of time to get the predictions from the model."
      ]
    },
    {
      "cell_type": "code",
      "metadata": {
        "id": "-IL_ashEon8V",
        "colab_type": "code",
        "colab": {}
      },
      "source": [
        "_, y_pred_class_case_2_split_2_bert, y_true_class_case_2_split_2_bert = evaluate(model, dataloader_test_case_2_split_2)"
      ],
      "execution_count": null,
      "outputs": []
    },
    {
      "cell_type": "markdown",
      "metadata": {
        "id": "a38VKS4cpMPt",
        "colab_type": "text"
      },
      "source": [
        "Let's get the accuracy by each category\n",
        "\n",
        "\n"
      ]
    },
    {
      "cell_type": "code",
      "metadata": {
        "id": "9FB9pBg-pB7d",
        "colab_type": "code",
        "colab": {
          "base_uri": "https://localhost:8080/",
          "height": 1000
        },
        "outputId": "7603f7d9-a33f-47f9-adb8-728b668d2d1e"
      },
      "source": [
        "accuracy_per_class(y_pred_class_case_2_split_2_bert, y_true_class_case_2_split_2_bert)"
      ],
      "execution_count": null,
      "outputs": [
        {
          "output_type": "stream",
          "text": [
            "Class: CRIME\n",
            "Accuracy: 209/300\n",
            "\n",
            "Class: ENTERTAINMENT\n",
            "Accuracy: 216/300\n",
            "\n",
            "Class: WORLD NEWS\n",
            "Accuracy: 217/300\n",
            "\n",
            "Class: IMPACT\n",
            "Accuracy: 151/300\n",
            "\n",
            "Class: POLITICS\n",
            "Accuracy: 187/300\n",
            "\n",
            "Class: WEIRD NEWS\n",
            "Accuracy: 140/300\n",
            "\n",
            "Class: BLACK VOICES\n",
            "Accuracy: 157/300\n",
            "\n",
            "Class: WOMEN\n",
            "Accuracy: 135/300\n",
            "\n",
            "Class: QUEER VOICES\n",
            "Accuracy: 224/300\n",
            "\n",
            "Class: SPORTS\n",
            "Accuracy: 222/300\n",
            "\n",
            "Class: BUSINESS\n",
            "Accuracy: 128/300\n",
            "\n",
            "Class: TRAVEL\n",
            "Accuracy: 234/300\n",
            "\n",
            "Class: MEDIA\n",
            "Accuracy: 209/300\n",
            "\n",
            "Class: TECH\n",
            "Accuracy: 212/300\n",
            "\n",
            "Class: RELIGION\n",
            "Accuracy: 237/300\n",
            "\n",
            "Class: SCIENCE\n",
            "Accuracy: 188/300\n",
            "\n",
            "Class: LATINO VOICES\n",
            "Accuracy: 232/300\n",
            "\n",
            "Class: EDUCATION\n",
            "Accuracy: 207/300\n",
            "\n",
            "Class: PARENTS\n",
            "Accuracy: 187/300\n",
            "\n",
            "Class: ARTS & CULTURE\n",
            "Accuracy: 191/300\n",
            "\n",
            "Class: STYLE & BEAUTY\n",
            "Accuracy: 208/300\n",
            "\n",
            "Class: GREEN\n",
            "Accuracy: 195/300\n",
            "\n",
            "Class: FOOD & DRINK\n",
            "Accuracy: 232/300\n",
            "\n",
            "Class: HEALTHY LIVING\n",
            "Accuracy: 171/300\n",
            "\n",
            "Class: GOOD NEWS\n",
            "Accuracy: 191/300\n",
            "\n",
            "Class: FIFTY\n",
            "Accuracy: 181/300\n",
            "\n",
            "Class: WELLNESS\n",
            "Accuracy: 210/300\n",
            "\n",
            "Class: HOME & LIVING\n",
            "Accuracy: 252/300\n",
            "\n",
            "Class: DIVORCE\n",
            "Accuracy: 234/300\n",
            "\n",
            "Class: WEDDINGS\n",
            "Accuracy: 247/300\n",
            "\n",
            "Class: MONEY\n",
            "Accuracy: 211/300\n",
            "\n",
            "Class: ENVIRONMENT\n",
            "Accuracy: 240/300\n",
            "\n"
          ],
          "name": "stdout"
        }
      ]
    },
    {
      "cell_type": "code",
      "metadata": {
        "id": "Xp4eHoR9pbf-",
        "colab_type": "code",
        "colab": {
          "base_uri": "https://localhost:8080/",
          "height": 697
        },
        "outputId": "1ebe8449-8922-40cf-f37d-d4ce77b65a8f"
      },
      "source": [
        "y_pred_class_case_2_split_2_bert = get_final_prediction(y_pred_class_case_2_split_2_bert)\n",
        "\n",
        "#accuracy_total(y_pred_class_case_2_split_2_bert, y_true_class_case_2_split_2_bert)\n",
        "print(y_pred_class_case_2_split_2_bert.shape, y_true_class_case_2_split_2_bert.shape)\n",
        "print(classification_report(y_pred_class_case_2_split_2_bert, y_true_class_case_2_split_2_bert))\n",
        "#y_pred_class_case_2_split_2_bert[1]"
      ],
      "execution_count": null,
      "outputs": [
        {
          "output_type": "stream",
          "text": [
            "(9600,) (9600,)\n",
            "              precision    recall  f1-score   support\n",
            "\n",
            "           0       0.70      0.71      0.70       296\n",
            "           1       0.72      0.61      0.66       357\n",
            "           2       0.72      0.77      0.75       281\n",
            "           3       0.50      0.41      0.45       366\n",
            "           4       0.62      0.66      0.64       282\n",
            "           5       0.47      0.47      0.47       299\n",
            "           6       0.52      0.64      0.58       245\n",
            "           7       0.45      0.51      0.48       263\n",
            "           8       0.75      0.85      0.80       263\n",
            "           9       0.74      0.77      0.76       288\n",
            "          10       0.43      0.53      0.47       242\n",
            "          11       0.78      0.74      0.76       318\n",
            "          12       0.70      0.71      0.70       296\n",
            "          13       0.71      0.63      0.67       337\n",
            "          14       0.79      0.70      0.74       338\n",
            "          15       0.63      0.66      0.64       287\n",
            "          16       0.77      0.76      0.77       305\n",
            "          17       0.69      0.70      0.70       294\n",
            "          18       0.62      0.65      0.64       288\n",
            "          19       0.64      0.72      0.68       265\n",
            "          20       0.69      0.81      0.75       257\n",
            "          21       0.65      0.56      0.60       348\n",
            "          22       0.77      0.74      0.76       314\n",
            "          23       0.57      0.51      0.54       333\n",
            "          24       0.64      0.50      0.56       381\n",
            "          25       0.60      0.65      0.63       278\n",
            "          26       0.70      0.65      0.67       323\n",
            "          27       0.84      0.83      0.83       304\n",
            "          28       0.78      0.88      0.83       266\n",
            "          29       0.82      0.89      0.85       279\n",
            "          30       0.70      0.78      0.74       271\n",
            "          31       0.80      0.71      0.75       336\n",
            "\n",
            "    accuracy                           0.67      9600\n",
            "   macro avg       0.67      0.68      0.67      9600\n",
            "weighted avg       0.67      0.67      0.67      9600\n",
            "\n"
          ],
          "name": "stdout"
        }
      ]
    },
    {
      "cell_type": "code",
      "metadata": {
        "id": "1BlgdDoNMJCn",
        "colab_type": "code",
        "colab": {
          "base_uri": "https://localhost:8080/",
          "height": 255
        },
        "outputId": "fd6293f3-01a7-4a25-96ca-b53e1bd36fd6"
      },
      "source": [
        "d = {'pred':y_pred_class_case_2_split_2_bert, 'true': y_true_class_case_2_split_2_bert}\n",
        "pred_class_case_2_split_2_bert  = pd.DataFrame(d)\n",
        "#news_data['label'] = news_data.category.replace(label_dict)#\n",
        "pred_class_case_2_split_2_bert = pred_class_case_2_split_2_bert.replace( reverse_label_dict)\n",
        "print(pred_class_case_2_split_2_bert)\n",
        "pred_class_case_2_split_2_bert.to_csv('models_pred/pred_class_case_2_split_2_bert.csv')\n"
      ],
      "execution_count": null,
      "outputs": [
        {
          "output_type": "stream",
          "text": [
            "               pred           true\n",
            "0         GOOD NEWS      GOOD NEWS\n",
            "1     HOME & LIVING  HOME & LIVING\n",
            "2             FIFTY          FIFTY\n",
            "3            SPORTS         SPORTS\n",
            "4             CRIME          CRIME\n",
            "...             ...            ...\n",
            "9595          GREEN          GREEN\n",
            "9596         SPORTS         SPORTS\n",
            "9597        SCIENCE        SCIENCE\n",
            "9598          MONEY          MONEY\n",
            "9599  LATINO VOICES  LATINO VOICES\n",
            "\n",
            "[9600 rows x 2 columns]\n"
          ],
          "name": "stdout"
        }
      ]
    },
    {
      "cell_type": "code",
      "metadata": {
        "id": "U3_2m77-fE9R",
        "colab_type": "code",
        "colab": {
          "base_uri": "https://localhost:8080/",
          "height": 34
        },
        "outputId": "b5e173a9-591e-4c62-a254-5b4bd39c2ccc"
      },
      "source": [
        "from google.colab import drive\n",
        "drive.mount('/content/drive')"
      ],
      "execution_count": null,
      "outputs": [
        {
          "output_type": "stream",
          "text": [
            "Mounted at /content/drive\n"
          ],
          "name": "stdout"
        }
      ]
    }
  ]
}